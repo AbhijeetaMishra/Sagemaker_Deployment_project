{
 "cells": [
  {
   "cell_type": "markdown",
   "metadata": {},
   "source": [
    "# Creating a Sentiment Analysis Web App\n",
    "## Using PyTorch and SageMaker\n",
    "\n",
    "_Deep Learning Nanodegree Program | Deployment_\n",
    "\n",
    "---\n",
    "\n",
    "Now that we have a basic understanding of how SageMaker works we will try to use it to construct a complete project from end to end. Our goal will be to have a simple web page which a user can use to enter a movie review. The web page will then send the review off to our deployed model which will predict the sentiment of the entered review.\n",
    "\n",
    "## Instructions\n",
    "\n",
    "Some template code has already been provided for you, and you will need to implement additional functionality to successfully complete this notebook. You will not need to modify the included code beyond what is requested. Sections that begin with '**TODO**' in the header indicate that you need to complete or implement some portion within them. Instructions will be provided for each section and the specifics of the implementation are marked in the code block with a `# TODO: ...` comment. Please be sure to read the instructions carefully!\n",
    "\n",
    "In addition to implementing code, there will be questions for you to answer which relate to the task and your implementation. Each section where you will answer a question is preceded by a '**Question:**' header. Carefully read each question and provide your answer below the '**Answer:**' header by editing the Markdown cell.\n",
    "\n",
    "> **Note**: Code and Markdown cells can be executed using the **Shift+Enter** keyboard shortcut. In addition, a cell can be edited by typically clicking it (double-click for Markdown cells) or by pressing **Enter** while it is highlighted.\n",
    "\n",
    "## General Outline\n",
    "\n",
    "Recall the general outline for SageMaker projects using a notebook instance.\n",
    "\n",
    "1. Download or otherwise retrieve the data.\n",
    "2. Process / Prepare the data.\n",
    "3. Upload the processed data to S3.\n",
    "4. Train a chosen model.\n",
    "5. Test the trained model (typically using a batch transform job).\n",
    "6. Deploy the trained model.\n",
    "7. Use the deployed model.\n",
    "\n",
    "For this project, you will be following the steps in the general outline with some modifications. \n",
    "\n",
    "First, you will not be testing the model in its own step. You will still be testing the model, however, you will do it by deploying your model and then using the deployed model by sending the test data to it. One of the reasons for doing this is so that you can make sure that your deployed model is working correctly before moving forward.\n",
    "\n",
    "In addition, you will deploy and use your trained model a second time. In the second iteration you will customize the way that your trained model is deployed by including some of your own code. In addition, your newly deployed model will be used in the sentiment analysis web app."
   ]
  },
  {
   "cell_type": "markdown",
   "metadata": {},
   "source": [
    "## Step 1: Downloading the data\n",
    "\n",
    "As in the XGBoost in SageMaker notebook, we will be using the [IMDb dataset](http://ai.stanford.edu/~amaas/data/sentiment/)\n",
    "\n",
    "> Maas, Andrew L., et al. [Learning Word Vectors for Sentiment Analysis](http://ai.stanford.edu/~amaas/data/sentiment/). In _Proceedings of the 49th Annual Meeting of the Association for Computational Linguistics: Human Language Technologies_. Association for Computational Linguistics, 2011."
   ]
  },
  {
   "cell_type": "code",
   "execution_count": 1,
   "metadata": {},
   "outputs": [
    {
     "name": "stdout",
     "output_type": "stream",
     "text": [
      "mkdir: cannot create directory ‘../data’: File exists\n",
      "--2020-05-19 13:12:11--  http://ai.stanford.edu/~amaas/data/sentiment/aclImdb_v1.tar.gz\n",
      "Resolving ai.stanford.edu (ai.stanford.edu)... 171.64.68.10\n",
      "Connecting to ai.stanford.edu (ai.stanford.edu)|171.64.68.10|:80... connected.\n",
      "HTTP request sent, awaiting response... 200 OK\n",
      "Length: 84125825 (80M) [application/x-gzip]\n",
      "Saving to: ‘../data/aclImdb_v1.tar.gz’\n",
      "\n",
      "../data/aclImdb_v1. 100%[===================>]  80.23M  11.3MB/s    in 6.2s    \n",
      "\n",
      "2020-05-19 13:12:18 (12.9 MB/s) - ‘../data/aclImdb_v1.tar.gz’ saved [84125825/84125825]\n",
      "\n"
     ]
    }
   ],
   "source": [
    "%mkdir ../data\n",
    "!wget -O ../data/aclImdb_v1.tar.gz http://ai.stanford.edu/~amaas/data/sentiment/aclImdb_v1.tar.gz\n",
    "!tar -zxf ../data/aclImdb_v1.tar.gz -C ../data"
   ]
  },
  {
   "cell_type": "markdown",
   "metadata": {},
   "source": [
    "## Step 2: Preparing and Processing the data\n",
    "\n",
    "Also, as in the XGBoost notebook, we will be doing some initial data processing. The first few steps are the same as in the XGBoost example. To begin with, we will read in each of the reviews and combine them into a single input structure. Then, we will split the dataset into a training set and a testing set."
   ]
  },
  {
   "cell_type": "code",
   "execution_count": 2,
   "metadata": {},
   "outputs": [],
   "source": [
    "import os\n",
    "import glob\n",
    "\n",
    "def read_imdb_data(data_dir='../data/aclImdb'):\n",
    "    data = {}\n",
    "    labels = {}\n",
    "    \n",
    "    for data_type in ['train', 'test']:\n",
    "        data[data_type] = {}\n",
    "        labels[data_type] = {}\n",
    "        \n",
    "        for sentiment in ['pos', 'neg']:\n",
    "            data[data_type][sentiment] = []\n",
    "            labels[data_type][sentiment] = []\n",
    "            \n",
    "            path = os.path.join(data_dir, data_type, sentiment, '*.txt')\n",
    "            files = glob.glob(path)\n",
    "            \n",
    "            for f in files:\n",
    "                with open(f) as review:\n",
    "                    data[data_type][sentiment].append(review.read())\n",
    "                    # Here we represent a positive review by '1' and a negative review by '0'\n",
    "                    labels[data_type][sentiment].append(1 if sentiment == 'pos' else 0)\n",
    "                    \n",
    "            assert len(data[data_type][sentiment]) == len(labels[data_type][sentiment]), \\\n",
    "                    \"{}/{} data size does not match labels size\".format(data_type, sentiment)\n",
    "                \n",
    "    return data, labels"
   ]
  },
  {
   "cell_type": "code",
   "execution_count": 3,
   "metadata": {},
   "outputs": [
    {
     "name": "stdout",
     "output_type": "stream",
     "text": [
      "IMDB reviews: train = 12500 pos / 12500 neg, test = 12500 pos / 12500 neg\n"
     ]
    }
   ],
   "source": [
    "data, labels = read_imdb_data()\n",
    "print(\"IMDB reviews: train = {} pos / {} neg, test = {} pos / {} neg\".format(\n",
    "            len(data['train']['pos']), len(data['train']['neg']),\n",
    "            len(data['test']['pos']), len(data['test']['neg'])))"
   ]
  },
  {
   "cell_type": "markdown",
   "metadata": {},
   "source": [
    "Now that we've read the raw training and testing data from the downloaded dataset, we will combine the positive and negative reviews and shuffle the resulting records."
   ]
  },
  {
   "cell_type": "code",
   "execution_count": 4,
   "metadata": {},
   "outputs": [],
   "source": [
    "from sklearn.utils import shuffle\n",
    "\n",
    "def prepare_imdb_data(data, labels):\n",
    "    \"\"\"Prepare training and test sets from IMDb movie reviews.\"\"\"\n",
    "    \n",
    "    #Combine positive and negative reviews and labels\n",
    "    data_train = data['train']['pos'] + data['train']['neg']\n",
    "    data_test = data['test']['pos'] + data['test']['neg']\n",
    "    labels_train = labels['train']['pos'] + labels['train']['neg']\n",
    "    labels_test = labels['test']['pos'] + labels['test']['neg']\n",
    "    \n",
    "    #Shuffle reviews and corresponding labels within training and test sets\n",
    "    data_train, labels_train = shuffle(data_train, labels_train)\n",
    "    data_test, labels_test = shuffle(data_test, labels_test)\n",
    "    \n",
    "    # Return a unified training data, test data, training labels, test labets\n",
    "    return data_train, data_test, labels_train, labels_test"
   ]
  },
  {
   "cell_type": "code",
   "execution_count": 5,
   "metadata": {},
   "outputs": [
    {
     "name": "stdout",
     "output_type": "stream",
     "text": [
      "IMDb reviews (combined): train = 25000, test = 25000\n"
     ]
    }
   ],
   "source": [
    "train_X, test_X, train_y, test_y = prepare_imdb_data(data, labels)\n",
    "print(\"IMDb reviews (combined): train = {}, test = {}\".format(len(train_X), len(test_X)))"
   ]
  },
  {
   "cell_type": "markdown",
   "metadata": {},
   "source": [
    "Now that we have our training and testing sets unified and prepared, we should do a quick check and see an example of the data our model will be trained on. This is generally a good idea as it allows you to see how each of the further processing steps affects the reviews and it also ensures that the data has been loaded correctly."
   ]
  },
  {
   "cell_type": "code",
   "execution_count": 6,
   "metadata": {},
   "outputs": [
    {
     "name": "stdout",
     "output_type": "stream",
     "text": [
      "This was just another marvelous film of the Berlin Festival. But unlike \"Yes\", by Sally Potter, which I had seen some days before, where after leaving the cinema I felt a strong desire of wishing to embrace the whole world and was just happy to be alive, this time quite the opposite thing happened: there was something that dragged me down, and the air suddenly felt cold and hard to breathe. It was as if, all of a sudden, there was nothing left, all hope, all future had been taken away to a dead place.<br /><br />Nina's life seemed to be dismal and locked, but then, one lovely day, there appears that kind of luminosity that opens up the horizon and makes her believe in the fulfillment of her dreams. There was nobody at her side but suddenly she finds a companion, just out of nothing, someone who was able to share the most hidden feelings of her life. That person was Toni, a vagabond girl who does not seem to have any roots, just like herself.<br /><br />But the film's title is \"Ghosts\", and ghosts appear and disappear as they wish, there is no way to retain them",
      " Ghosts also represent the hidden fantasies of people, strange ideas that occupy your mind and are only perceived by yourself, hiding away from all other people. Françoise, a French woman, is a victim of such ghosts. She once lost her child daughter in Berlin, who apparently had been robbed from her in a supermarket, in just one moment of inattentiveness. Now time has passed, and Françoise is back in Berlin, still looking for the missing child.<br /><br />Nina could be that child, after all she has got that same scar at her ankle and the heart-shaped birthmark between her shoulder blades which seems to prove her true identity.<br /><br />And Nina adopts that idea, after all she is not only in desperate need of a companion, she also longs for a mother. But in the end she is empty-handed, Toni has disappeared with a man, and her supposed mum turns out to be a sick woman. \"Marie is dead,\" concludes Françoise's husband, and the statement could not be more disillusioning. Nina is just a \"niña\", a girl without name, there is no hope for any divine fulfillment. There is no Marie in this world to accompany our lonely lives. Therefore, in the end, we see Nina all alone, about to walk along the road that has opened up before her, into a future that seems joyless and uncertain.\n",
      "1\n"
     ]
    }
   ],
   "source": [
    "print(train_X[1])\n",
    "print(train_y[1])"
   ]
  },
  {
   "cell_type": "markdown",
   "metadata": {},
   "source": [
    "The first step in processing the reviews is to make sure that any html tags that appear should be removed. In addition we wish to tokenize our input, that way words such as *entertained* and *entertaining* are considered the same with regard to sentiment analysis."
   ]
  },
  {
   "cell_type": "code",
   "execution_count": 7,
   "metadata": {},
   "outputs": [],
   "source": [
    "import nltk\n",
    "from nltk.corpus import stopwords\n",
    "from nltk.stem.porter import *\n",
    "\n",
    "import re\n",
    "from bs4 import BeautifulSoup\n",
    "\n",
    "def review_to_words(review):\n",
    "    nltk.download(\"stopwords\", quiet=True)\n",
    "    stemmer = PorterStemmer()\n",
    "    \n",
    "    text = BeautifulSoup(review, \"html.parser\").get_text() # Remove HTML tags\n",
    "    text = re.sub(r\"[^a-zA-Z0-9]\", \" \", text.lower()) # Convert to lower case\n",
    "    words = text.split() # Split string into words\n",
    "    words = [w for w in words if w not in stopwords.words(\"english\")] # Remove stopwords\n",
    "    words = [PorterStemmer().stem(w) for w in words] # stem\n",
    "    \n",
    "    return words"
   ]
  },
  {
   "cell_type": "markdown",
   "metadata": {},
   "source": [
    "The `review_to_words` method defined above uses `BeautifulSoup` to remove any html tags that appear and uses the `nltk` package to tokenize the reviews. As a check to ensure we know how everything is working, try applying `review_to_words` to one of the reviews in the training set."
   ]
  },
  {
   "cell_type": "code",
   "execution_count": 8,
   "metadata": {},
   "outputs": [
    {
     "data": {
      "text/plain": [
       "['anoth',\n",
       " 'marvel',\n",
       " 'film',\n",
       " 'berlin',\n",
       " 'festiv',\n",
       " 'unlik',\n",
       " 'ye',\n",
       " 'salli',\n",
       " 'potter',\n",
       " 'seen',\n",
       " 'day',\n",
       " 'leav',\n",
       " 'cinema',\n",
       " 'felt',\n",
       " 'strong',\n",
       " 'desir',\n",
       " 'wish',\n",
       " 'embrac',\n",
       " 'whole',\n",
       " 'world',\n",
       " 'happi',\n",
       " 'aliv',\n",
       " 'time',\n",
       " 'quit',\n",
       " 'opposit',\n",
       " 'thing',\n",
       " 'happen',\n",
       " 'someth',\n",
       " 'drag',\n",
       " 'air',\n",
       " 'suddenli',\n",
       " 'felt',\n",
       " 'cold',\n",
       " 'hard',\n",
       " 'breath',\n",
       " 'sudden',\n",
       " 'noth',\n",
       " 'left',\n",
       " 'hope',\n",
       " 'futur',\n",
       " 'taken',\n",
       " 'away',\n",
       " 'dead',\n",
       " 'place',\n",
       " 'nina',\n",
       " 'life',\n",
       " 'seem',\n",
       " 'dismal',\n",
       " 'lock',\n",
       " 'one',\n",
       " 'love',\n",
       " 'day',\n",
       " 'appear',\n",
       " 'kind',\n",
       " 'luminos',\n",
       " 'open',\n",
       " 'horizon',\n",
       " 'make',\n",
       " 'believ',\n",
       " 'fulfil',\n",
       " 'dream',\n",
       " 'nobodi',\n",
       " 'side',\n",
       " 'suddenli',\n",
       " 'find',\n",
       " 'companion',\n",
       " 'noth',\n",
       " 'someon',\n",
       " 'abl',\n",
       " 'share',\n",
       " 'hidden',\n",
       " 'feel',\n",
       " 'life',\n",
       " 'person',\n",
       " 'toni',\n",
       " 'vagabond',\n",
       " 'girl',\n",
       " 'seem',\n",
       " 'root',\n",
       " 'like',\n",
       " 'film',\n",
       " 'titl',\n",
       " 'ghost',\n",
       " 'ghost',\n",
       " 'appear',\n",
       " 'disappear',\n",
       " 'wish',\n",
       " 'way',\n",
       " 'retain',\n",
       " 'ghost',\n",
       " 'also',\n",
       " 'repres',\n",
       " 'hidden',\n",
       " 'fantasi',\n",
       " 'peopl',\n",
       " 'strang',\n",
       " 'idea',\n",
       " 'occupi',\n",
       " 'mind',\n",
       " 'perceiv',\n",
       " 'hide',\n",
       " 'away',\n",
       " 'peopl',\n",
       " 'fran',\n",
       " 'ois',\n",
       " 'french',\n",
       " 'woman',\n",
       " 'victim',\n",
       " 'ghost',\n",
       " 'lost',\n",
       " 'child',\n",
       " 'daughter',\n",
       " 'berlin',\n",
       " 'appar',\n",
       " 'rob',\n",
       " 'supermarket',\n",
       " 'one',\n",
       " 'moment',\n",
       " 'inattent',\n",
       " 'time',\n",
       " 'pass',\n",
       " 'fran',\n",
       " 'ois',\n",
       " 'back',\n",
       " 'berlin',\n",
       " 'still',\n",
       " 'look',\n",
       " 'miss',\n",
       " 'child',\n",
       " 'nina',\n",
       " 'could',\n",
       " 'child',\n",
       " 'got',\n",
       " 'scar',\n",
       " 'ankl',\n",
       " 'heart',\n",
       " 'shape',\n",
       " 'birthmark',\n",
       " 'shoulder',\n",
       " 'blade',\n",
       " 'seem',\n",
       " 'prove',\n",
       " 'true',\n",
       " 'ident',\n",
       " 'nina',\n",
       " 'adopt',\n",
       " 'idea',\n",
       " 'desper',\n",
       " 'need',\n",
       " 'companion',\n",
       " 'also',\n",
       " 'long',\n",
       " 'mother',\n",
       " 'end',\n",
       " 'empti',\n",
       " 'hand',\n",
       " 'toni',\n",
       " 'disappear',\n",
       " 'man',\n",
       " 'suppos',\n",
       " 'mum',\n",
       " 'turn',\n",
       " 'sick',\n",
       " 'woman',\n",
       " 'mari',\n",
       " 'dead',\n",
       " 'conclud',\n",
       " 'fran',\n",
       " 'ois',\n",
       " 'husband',\n",
       " 'statement',\n",
       " 'could',\n",
       " 'disillus',\n",
       " 'nina',\n",
       " 'ni',\n",
       " 'girl',\n",
       " 'without',\n",
       " 'name',\n",
       " 'hope',\n",
       " 'divin',\n",
       " 'fulfil',\n",
       " 'mari',\n",
       " 'world',\n",
       " 'accompani',\n",
       " 'lone',\n",
       " 'live',\n",
       " 'therefor',\n",
       " 'end',\n",
       " 'see',\n",
       " 'nina',\n",
       " 'alon',\n",
       " 'walk',\n",
       " 'along',\n",
       " 'road',\n",
       " 'open',\n",
       " 'futur',\n",
       " 'seem',\n",
       " 'joyless',\n",
       " 'uncertain']"
      ]
     },
     "execution_count": 8,
     "metadata": {},
     "output_type": "execute_result"
    }
   ],
   "source": [
    "# TODO: Apply review_to_words to a review (train_X[100] or any other review)\n",
    "review_to_words(train_X[1])\n"
   ]
  },
  {
   "cell_type": "markdown",
   "metadata": {},
   "source": [
    "**Question:** Above we mentioned that `review_to_words` method removes html formatting and allows us to tokenize the words found in a review, for example, converting *entertained* and *entertaining* into *entertain* so that they are treated as though they are the same word. What else, if anything, does this method do to the input?"
   ]
  },
  {
   "cell_type": "markdown",
   "metadata": {},
   "source": [
    "**Answer:**"
   ]
  },
  {
   "cell_type": "markdown",
   "metadata": {},
   "source": [
    "The method below applies the `review_to_words` method to each of the reviews in the training and testing datasets. In addition it caches the results. This is because performing this processing step can take a long time. This way if you are unable to complete the notebook in the current session, you can come back without needing to process the data a second time."
   ]
  },
  {
   "cell_type": "code",
   "execution_count": 9,
   "metadata": {},
   "outputs": [],
   "source": [
    "import pickle\n",
    "\n",
    "cache_dir = os.path.join(\"../cache\", \"sentiment_analysis\")  # where to store cache files\n",
    "os.makedirs(cache_dir, exist_ok=True)  # ensure cache directory exists\n",
    "\n",
    "def preprocess_data(data_train, data_test, labels_train, labels_test,\n",
    "                    cache_dir=cache_dir, cache_file=\"preprocessed_data.pkl\"):\n",
    "    \"\"\"Convert each review to words; read from cache if available.\"\"\"\n",
    "\n",
    "    # If cache_file is not None, try to read from it first\n",
    "    cache_data = None\n",
    "    if cache_file is not None:\n",
    "        try:\n",
    "            with open(os.path.join(cache_dir, cache_file), \"rb\") as f:\n",
    "                cache_data = pickle.load(f)\n",
    "            print(\"Read preprocessed data from cache file:\", cache_file)\n",
    "        except:\n",
    "            pass  # unable to read from cache, but that's okay\n",
    "    \n",
    "    # If cache is missing, then do the heavy lifting\n",
    "    if cache_data is None:\n",
    "        # Preprocess training and test data to obtain words for each review\n",
    "        #words_train = list(map(review_to_words, data_train))\n",
    "        #words_test = list(map(review_to_words, data_test))\n",
    "        words_train = [review_to_words(review) for review in data_train]\n",
    "        words_test = [review_to_words(review) for review in data_test]\n",
    "        \n",
    "        # Write to cache file for future runs\n",
    "        if cache_file is not None:\n",
    "            cache_data = dict(words_train=words_train, words_test=words_test,\n",
    "                              labels_train=labels_train, labels_test=labels_test)\n",
    "            with open(os.path.join(cache_dir, cache_file), \"wb\") as f:\n",
    "                pickle.dump(cache_data, f)\n",
    "            print(\"Wrote preprocessed data to cache file:\", cache_file)\n",
    "    else:\n",
    "        # Unpack data loaded from cache file\n",
    "        words_train, words_test, labels_train, labels_test = (cache_data['words_train'],\n",
    "                cache_data['words_test'], cache_data['labels_train'], cache_data['labels_test'])\n",
    "    \n",
    "    return words_train, words_test, labels_train, labels_test"
   ]
  },
  {
   "cell_type": "code",
   "execution_count": 10,
   "metadata": {},
   "outputs": [
    {
     "name": "stdout",
     "output_type": "stream",
     "text": [
      "Read preprocessed data from cache file: preprocessed_data.pkl\n"
     ]
    }
   ],
   "source": [
    "# Preprocess data\n",
    "train_X, test_X, train_y, test_y = preprocess_data(train_X, test_X, train_y, test_y)"
   ]
  },
  {
   "cell_type": "markdown",
   "metadata": {},
   "source": [
    "## Transform the data\n",
    "\n",
    "In the XGBoost notebook we transformed the data from its word representation to a bag-of-words feature representation. For the model we are going to construct in this notebook we will construct a feature representation which is very similar. To start, we will represent each word as an integer. Of course, some of the words that appear in the reviews occur very infrequently and so likely don't contain much information for the purposes of sentiment analysis. The way we will deal with this problem is that we will fix the size of our working vocabulary and we will only include the words that appear most frequently. We will then combine all of the infrequent words into a single category and, in our case, we will label it as `1`.\n",
    "\n",
    "Since we will be using a recurrent neural network, it will be convenient if the length of each review is the same. To do this, we will fix a size for our reviews and then pad short reviews with the category 'no word' (which we will label `0`) and truncate long reviews."
   ]
  },
  {
   "cell_type": "markdown",
   "metadata": {},
   "source": [
    "### (TODO) Create a word dictionary\n",
    "\n",
    "To begin with, we need to construct a way to map words that appear in the reviews to integers. Here we fix the size of our vocabulary (including the 'no word' and 'infrequent' categories) to be `5000` but you may wish to change this to see how it affects the model.\n",
    "\n",
    "> **TODO:** Complete the implementation for the `build_dict()` method below. Note that even though the vocab_size is set to `5000`, we only want to construct a mapping for the most frequently appearing `4998` words. This is because we want to reserve the special labels `0` for 'no word' and `1` for 'infrequent word'."
   ]
  },
  {
   "cell_type": "code",
   "execution_count": 11,
   "metadata": {},
   "outputs": [],
   "source": [
    "import numpy as np\n",
    "\n",
    "\n",
    "def build_dict(data, vocab_size = 5000):\n",
    "    \"\"\"Construct and return a dictionary mapping each of the most frequently appearing words to a unique integer.\"\"\"\n",
    "    \n",
    "    # TODO: Determine how often each word appears in `data`. Note that `data` is a list of sentences and that a\n",
    "    #       sentence is a list of words.\n",
    "    \n",
    "    word_count = {} # A dict storing the words that appear in the reviews along with how often they occur\n",
    "    \n",
    "    for review in data:                 # loop for each sentence(review) present in data \n",
    "        for word in review:             # loop for each word in the sentence\n",
    "            if word in word_count:      # if the word exists in word_count\n",
    "                word_count[word] +=1    # increment it by 1\n",
    "            else:\n",
    "                word_count[word] =1     # else 1 for the new word\n",
    "    \n",
    " \n",
    "    # TODO: Sort the words found in `data` so that sorted_words[0] is the most frequently appearing word and\n",
    "    #       sorted_words[-1] is the least frequently appearing word.\n",
    "\n",
    "    \n",
    "    sorted_list =sorted(word_count.items(), key=lambda x: x[1], reverse=True)#sort the list by second item of tuple \n",
    "    \n",
    "    sorted_words = [x[0] for x in sorted_list] # get the words in first item of the tupple\n",
    "    \n",
    "        \n",
    "    \n",
    "    word_dict = {} # This is what we are building, a dictionary that translates words into integers\n",
    "    for idx, word in enumerate(sorted_words[:vocab_size - 2]): # The -2 is so that we save room for the 'no word'\n",
    "        word_dict[word] = idx + 2                              # 'infrequent' labels\n",
    "        \n",
    "    return word_dict"
   ]
  },
  {
   "cell_type": "code",
   "execution_count": 12,
   "metadata": {},
   "outputs": [
    {
     "name": "stdout",
     "output_type": "stream",
     "text": [
      "{'movi': 2, 'film': 3, 'one': 4, 'like': 5, 'time': 6, 'good': 7, 'make': 8, 'charact': 9, 'get': 10, 'see': 11, 'watch': 12, 'stori': 13, 'even': 14, 'would': 15, 'realli': 16, 'well': 17, 'scene': 18, 'look': 19, 'show': 20, 'much': 21, 'end': 22, 'peopl': 23, 'bad': 24, 'go': 25, 'great': 26, 'also': 27, 'first': 28, 'love': 29, 'think': 30, 'way': 31, 'act': 32, 'play': 33, 'made': 34, 'thing': 35, 'could': 36, 'know': 37, 'say': 38, 'seem': 39, 'work': 40, 'plot': 41, 'two': 42, 'actor': 43, 'year': 44, 'come': 45, 'mani': 46, 'seen': 47, 'take': 48, 'want': 49, 'life': 50, 'never': 51, 'littl': 52, 'best': 53, 'tri': 54, 'man': 55, 'ever': 56, 'give': 57, 'better': 58, 'still': 59, 'perform': 60, 'find': 61, 'feel': 62, 'part': 63, 'back': 64, 'use': 65, 'someth': 66, 'director': 67, 'actual': 68, 'interest': 69, 'lot': 70, 'real': 71, 'old': 72, 'cast': 73, 'though': 74, 'live': 75, 'star': 76, 'enjoy': 77, 'guy': 78, 'anoth': 79, 'new': 80, 'role': 81, 'noth': 82, '10': 83, 'funni': 84, 'music': 85, 'point': 86, 'start': 87, 'set': 88, 'girl': 89, 'origin': 90, 'day': 91, 'world': 92, 'everi': 93, 'believ': 94, 'turn': 95, 'quit': 96, 'us': 97, 'direct': 98, 'thought': 99, 'fact': 100, 'minut': 101, 'horror': 102, 'kill': 103, 'action': 104, 'comedi': 105, 'pretti': 106, 'young': 107, 'wonder': 108, 'happen': 109, 'around': 110, 'got': 111, 'effect': 112, 'right': 113, 'long': 114, 'howev': 115, 'big': 116, 'line': 117, 'famili': 118, 'enough': 119, 'seri': 120, 'may': 121, 'need': 122, 'fan': 123, 'bit': 124, 'script': 125, 'beauti': 126, 'person': 127, 'becom': 128, 'without': 129, 'must': 130, 'alway': 131, 'friend': 132, 'tell': 133, 'reason': 134, 'saw': 135, 'last': 136, 'final': 137, 'kid': 138, 'almost': 139, 'put': 140, 'least': 141, 'sure': 142, 'done': 143, 'whole': 144, 'place': 145, 'complet': 146, 'kind': 147, 'expect': 148, 'differ': 149, 'shot': 150, 'far': 151, 'mean': 152, 'anyth': 153, 'book': 154, 'laugh': 155, 'might': 156, 'name': 157, 'sinc': 158, 'begin': 159, '2': 160, 'probabl': 161, 'woman': 162, 'help': 163, 'entertain': 164, 'let': 165, 'screen': 166, 'call': 167, 'tv': 168, 'moment': 169, 'away': 170, 'read': 171, 'yet': 172, 'rather': 173, 'worst': 174, 'run': 175, 'fun': 176, 'lead': 177, 'hard': 178, 'audienc': 179, 'idea': 180, 'anyon': 181, 'episod': 182, 'american': 183, 'found': 184, 'appear': 185, 'bore': 186, 'especi': 187, 'although': 188, 'hope': 189, 'keep': 190, 'cours': 191, 'anim': 192, 'job': 193, 'goe': 194, 'move': 195, 'sens': 196, 'version': 197, 'dvd': 198, 'war': 199, 'money': 200, 'someon': 201, 'mind': 202, 'mayb': 203, 'problem': 204, 'true': 205, 'hous': 206, 'everyth': 207, 'nice': 208, 'second': 209, 'rate': 210, 'three': 211, 'night': 212, 'face': 213, 'follow': 214, 'recommend': 215, 'main': 216, 'product': 217, 'worth': 218, 'leav': 219, 'human': 220, 'special': 221, 'excel': 222, 'togeth': 223, 'wast': 224, 'everyon': 225, 'sound': 226, 'john': 227, 'hand': 228, '1': 229, 'father': 230, 'later': 231, 'eye': 232, 'said': 233, 'view': 234, 'instead': 235, 'review': 236, 'boy': 237, 'high': 238, 'hour': 239, 'miss': 240, 'classic': 241, 'talk': 242, 'wife': 243, 'understand': 244, 'left': 245, 'care': 246, 'black': 247, 'death': 248, 'open': 249, 'murder': 250, 'write': 251, 'half': 252, 'head': 253, 'rememb': 254, 'chang': 255, 'viewer': 256, 'fight': 257, 'gener': 258, 'surpris': 259, 'short': 260, 'includ': 261, 'die': 262, 'fall': 263, 'less': 264, 'els': 265, 'entir': 266, 'piec': 267, 'involv': 268, 'pictur': 269, 'simpli': 270, 'top': 271, 'home': 272, 'power': 273, 'total': 274, 'usual': 275, 'budget': 276, 'attempt': 277, 'suppos': 278, 'releas': 279, 'hollywood': 280, 'terribl': 281, 'song': 282, 'men': 283, 'possibl': 284, 'featur': 285, 'portray': 286, 'disappoint': 287, 'poor': 288, '3': 289, 'coupl': 290, 'stupid': 291, 'camera': 292, 'dead': 293, 'wrong': 294, 'produc': 295, 'low': 296, 'either': 297, 'video': 298, 'aw': 299, 'definit': 300, 'except': 301, 'rest': 302, 'given': 303, 'absolut': 304, 'women': 305, 'lack': 306, 'word': 307, 'writer': 308, 'titl': 309, 'talent': 310, 'decid': 311, 'full': 312, 'perfect': 313, 'along': 314, 'style': 315, 'close': 316, 'truli': 317, 'school': 318, 'save': 319, 'emot': 320, 'sex': 321, 'age': 322, 'next': 323, 'bring': 324, 'mr': 325, 'case': 326, 'killer': 327, 'heart': 328, 'comment': 329, 'sort': 330, 'creat': 331, 'perhap': 332, 'came': 333, 'brother': 334, 'sever': 335, 'joke': 336, 'art': 337, 'dialogu': 338, 'game': 339, 'small': 340, 'base': 341, 'flick': 342, 'written': 343, 'sequenc': 344, 'meet': 345, 'earli': 346, 'often': 347, 'other': 348, 'mother': 349, 'develop': 350, 'humor': 351, 'actress': 352, 'consid': 353, 'dark': 354, 'guess': 355, 'amaz': 356, 'unfortun': 357, 'light': 358, 'lost': 359, 'exampl': 360, 'cinema': 361, 'drama': 362, 'white': 363, 'ye': 364, 'experi': 365, 'imagin': 366, 'mention': 367, 'stop': 368, 'natur': 369, 'forc': 370, 'manag': 371, 'felt': 372, 'cut': 373, 'present': 374, 'children': 375, 'fail': 376, 'son': 377, 'qualiti': 378, 'support': 379, 'car': 380, 'ask': 381, 'hit': 382, 'side': 383, 'voic': 384, 'extrem': 385, 'impress': 386, 'wors': 387, 'evil': 388, 'went': 389, 'stand': 390, 'certainli': 391, 'basic': 392, 'oh': 393, 'overal': 394, 'favorit': 395, 'horribl': 396, 'mysteri': 397, 'number': 398, 'type': 399, 'danc': 400, 'wait': 401, 'hero': 402, 'alreadi': 403, '5': 404, 'learn': 405, 'matter': 406, '4': 407, 'michael': 408, 'genr': 409, 'fine': 410, 'despit': 411, 'throughout': 412, 'walk': 413, 'success': 414, 'histori': 415, 'question': 416, 'zombi': 417, 'town': 418, 'realiz': 419, 'relationship': 420, 'child': 421, 'past': 422, 'daughter': 423, 'late': 424, 'b': 425, 'wish': 426, 'credit': 427, 'hate': 428, 'event': 429, 'theme': 430, 'touch': 431, 'citi': 432, 'today': 433, 'sometim': 434, 'behind': 435, 'god': 436, 'twist': 437, 'sit': 438, 'stay': 439, 'deal': 440, 'annoy': 441, 'abl': 442, 'rent': 443, 'pleas': 444, 'edit': 445, 'blood': 446, 'deserv': 447, 'anyway': 448, 'comic': 449, 'appar': 450, 'soon': 451, 'gave': 452, 'etc': 453, 'level': 454, 'slow': 455, 'chanc': 456, 'score': 457, 'bodi': 458, 'brilliant': 459, 'incred': 460, 'figur': 461, 'situat': 462, 'major': 463, 'self': 464, 'stuff': 465, 'decent': 466, 'element': 467, 'dream': 468, 'return': 469, 'obvious': 470, 'order': 471, 'continu': 472, 'pace': 473, 'ridicul': 474, 'happi': 475, 'group': 476, 'add': 477, 'highli': 478, 'thank': 479, 'ladi': 480, 'novel': 481, 'pain': 482, 'speak': 483, 'career': 484, 'shoot': 485, 'strang': 486, 'heard': 487, 'sad': 488, 'polic': 489, 'husband': 490, 'import': 491, 'break': 492, 'took': 493, 'cannot': 494, 'strong': 495, 'predict': 496, 'robert': 497, 'violenc': 498, 'hilari': 499, 'recent': 500, 'countri': 501, 'known': 502, 'particularli': 503, 'pick': 504, 'documentari': 505, 'season': 506, 'critic': 507, 'jame': 508, 'compar': 509, 'alon': 510, 'obviou': 511, 'told': 512, 'state': 513, 'visual': 514, 'rock': 515, 'offer': 516, 'exist': 517, 'theater': 518, 'opinion': 519, 'gore': 520, 'hold': 521, 'crap': 522, 'result': 523, 'hear': 524, 'room': 525, 'realiti': 526, 'clich': 527, 'effort': 528, 'thriller': 529, 'caus': 530, 'serious': 531, 'explain': 532, 'sequel': 533, 'king': 534, 'local': 535, 'ago': 536, 'hell': 537, 'none': 538, 'note': 539, 'allow': 540, 'sister': 541, 'david': 542, 'simpl': 543, 'femal': 544, 'deliv': 545, 'ok': 546, 'convinc': 547, 'class': 548, 'check': 549, 'suspens': 550, 'win': 551, 'oscar': 552, 'buy': 553, 'huge': 554, 'valu': 555, 'sexual': 556, 'cool': 557, 'scari': 558, 'excit': 559, 'similar': 560, 'exactli': 561, 'provid': 562, 'apart': 563, 'avoid': 564, 'shown': 565, 'seriou': 566, 'english': 567, 'taken': 568, 'whose': 569, 'cinematographi': 570, 'shock': 571, 'polit': 572, 'spoiler': 573, 'offic': 574, 'across': 575, 'middl': 576, 'pass': 577, 'street': 578, 'messag': 579, 'silli': 580, 'somewhat': 581, 'charm': 582, 'modern': 583, 'confus': 584, 'filmmak': 585, 'form': 586, 'tale': 587, 'singl': 588, 'jack': 589, 'mostli': 590, 'carri': 591, 'attent': 592, 'william': 593, 'sing': 594, 'subject': 595, 'five': 596, 'prove': 597, 'richard': 598, 'stage': 599, 'team': 600, 'unlik': 601, 'cop': 602, 'georg': 603, 'televis': 604, 'monster': 605, 'earth': 606, 'villain': 607, 'cover': 608, 'pay': 609, 'marri': 610, 'toward': 611, 'build': 612, 'pull': 613, 'parent': 614, 'due': 615, 'fill': 616, 'respect': 617, 'four': 618, 'dialog': 619, 'remind': 620, 'futur': 621, 'typic': 622, 'weak': 623, '7': 624, 'cheap': 625, 'intellig': 626, 'british': 627, 'atmospher': 628, 'clearli': 629, '80': 630, 'paul': 631, 'non': 632, 'dog': 633, 'fast': 634, '8': 635, 'knew': 636, 'artist': 637, 'crime': 638, 'easili': 639, 'escap': 640, 'doubt': 641, 'adult': 642, 'detail': 643, 'date': 644, 'member': 645, 'romant': 646, 'fire': 647, 'drive': 648, 'gun': 649, 'straight': 650, 'beyond': 651, 'fit': 652, 'attack': 653, 'imag': 654, 'upon': 655, 'posit': 656, 'whether': 657, 'peter': 658, 'fantast': 659, 'appreci': 660, 'aspect': 661, 'captur': 662, 'ten': 663, 'plan': 664, 'discov': 665, 'remain': 666, 'period': 667, 'near': 668, 'air': 669, 'realist': 670, 'mark': 671, 'red': 672, 'dull': 673, 'adapt': 674, 'within': 675, 'lose': 676, 'spend': 677, 'materi': 678, 'color': 679, 'chase': 680, 'mari': 681, 'storylin': 682, 'forget': 683, 'bunch': 684, 'clear': 685, 'lee': 686, 'victim': 687, 'nearli': 688, 'box': 689, 'york': 690, 'inspir': 691, 'match': 692, 'mess': 693, 'finish': 694, 'standard': 695, 'easi': 696, 'truth': 697, 'suffer': 698, 'busi': 699, 'space': 700, 'bill': 701, 'dramat': 702, 'western': 703, 'e': 704, 'list': 705, 'battl': 706, 'notic': 707, 'de': 708, 'french': 709, 'ad': 710, '9': 711, 'tom': 712, 'larg': 713, 'among': 714, 'eventu': 715, 'accept': 716, 'train': 717, 'agre': 718, 'spirit': 719, 'soundtrack': 720, 'third': 721, 'teenag': 722, 'soldier': 723, 'adventur': 724, 'sorri': 725, 'suggest': 726, 'drug': 727, 'famou': 728, 'cri': 729, 'babi': 730, 'normal': 731, 'ultim': 732, 'troubl': 733, 'contain': 734, 'certain': 735, 'cultur': 736, 'romanc': 737, 'rare': 738, 'lame': 739, 'somehow': 740, 'mix': 741, 'disney': 742, 'gone': 743, 'cartoon': 744, 'student': 745, 'fear': 746, 'reveal': 747, 'suck': 748, 'kept': 749, 'attract': 750, 'appeal': 751, 'premis': 752, 'design': 753, 'greatest': 754, 'secret': 755, 'shame': 756, 'throw': 757, 'copi': 758, 'scare': 759, 'wit': 760, 'america': 761, 'admit': 762, 'particular': 763, 'relat': 764, 'brought': 765, 'screenplay': 766, 'whatev': 767, 'pure': 768, '70': 769, 'harri': 770, 'averag': 771, 'master': 772, 'describ': 773, 'male': 774, 'treat': 775, '20': 776, 'fantasi': 777, 'issu': 778, 'warn': 779, 'inde': 780, 'forward': 781, 'background': 782, 'project': 783, 'free': 784, 'memor': 785, 'japanes': 786, 'poorli': 787, 'award': 788, 'locat': 789, 'potenti': 790, 'amus': 791, 'struggl': 792, 'weird': 793, 'magic': 794, 'societi': 795, 'okay': 796, 'imdb': 797, 'accent': 798, 'doctor': 799, 'water': 800, 'hot': 801, '30': 802, 'express': 803, 'alien': 804, 'dr': 805, 'odd': 806, 'crazi': 807, 'choic': 808, 'fiction': 809, 'studio': 810, 'control': 811, 'becam': 812, 'masterpiec': 813, 'fli': 814, 'difficult': 815, 'joe': 816, 'scream': 817, 'costum': 818, 'lover': 819, 'uniqu': 820, 'refer': 821, 'remak': 822, 'vampir': 823, 'girlfriend': 824, 'prison': 825, 'execut': 826, 'wear': 827, 'jump': 828, 'wood': 829, 'unless': 830, 'creepi': 831, 'cheesi': 832, 'superb': 833, 'otherwis': 834, 'parti': 835, 'roll': 836, 'ghost': 837, 'public': 838, 'mad': 839, 'depict': 840, 'badli': 841, 'moral': 842, 'earlier': 843, 'week': 844, 'jane': 845, 'dumb': 846, 'fi': 847, 'grow': 848, 'flaw': 849, 'sci': 850, 'deep': 851, 'maker': 852, 'cat': 853, 'older': 854, 'footag': 855, 'connect': 856, 'bother': 857, 'plenti': 858, 'outsid': 859, 'stick': 860, 'gay': 861, 'catch': 862, 'co': 863, 'plu': 864, 'popular': 865, 'equal': 866, 'social': 867, 'disturb': 868, 'quickli': 869, 'perfectli': 870, 'dress': 871, '90': 872, 'era': 873, 'mistak': 874, 'lie': 875, 'ride': 876, 'previou': 877, 'combin': 878, 'concept': 879, 'band': 880, 'rich': 881, 'answer': 882, 'surviv': 883, 'front': 884, 'christma': 885, 'sweet': 886, 'insid': 887, 'bare': 888, 'concern': 889, 'eat': 890, 'listen': 891, 'beat': 892, 'ben': 893, 'c': 894, 'term': 895, 'serv': 896, 'meant': 897, 'la': 898, 'german': 899, 'hardli': 900, 'stereotyp': 901, 'law': 902, 'innoc': 903, 'desper': 904, 'memori': 905, 'promis': 906, 'intent': 907, 'cute': 908, 'variou': 909, 'inform': 910, 'steal': 911, 'brain': 912, 'post': 913, 'tone': 914, 'island': 915, 'amount': 916, 'nuditi': 917, 'track': 918, 'compani': 919, 'claim': 920, 'store': 921, 'hair': 922, 'flat': 923, '50': 924, 'univers': 925, 'land': 926, 'kick': 927, 'fairli': 928, 'scott': 929, 'danger': 930, 'player': 931, 'crew': 932, 'step': 933, 'plain': 934, 'toni': 935, 'share': 936, 'tast': 937, 'centuri': 938, 'engag': 939, 'achiev': 940, 'cold': 941, 'travel': 942, 'rip': 943, 'suit': 944, 'record': 945, 'manner': 946, 'sadli': 947, 'wrote': 948, 'spot': 949, 'tension': 950, 'fascin': 951, 'intens': 952, 'familiar': 953, 'burn': 954, 'remark': 955, 'depth': 956, 'destroy': 957, 'histor': 958, 'sleep': 959, 'purpos': 960, 'languag': 961, 'ruin': 962, 'ignor': 963, 'delight': 964, 'unbeliev': 965, 'italian': 966, 'collect': 967, 'abil': 968, 'soul': 969, 'detect': 970, 'clever': 971, 'violent': 972, 'rape': 973, 'reach': 974, 'door': 975, 'liter': 976, 'trash': 977, 'scienc': 978, 'reveng': 979, 'commun': 980, 'caught': 981, 'creatur': 982, 'trip': 983, 'approach': 984, 'fashion': 985, 'intrigu': 986, 'introduc': 987, 'paint': 988, 'skill': 989, 'complex': 990, 'channel': 991, 'camp': 992, 'christian': 993, 'extra': 994, 'hole': 995, 'immedi': 996, 'limit': 997, 'mental': 998, 'ann': 999, 'mere': 1000, '6': 1001, 'slightli': 1002, 'comput': 1003, 'million': 1004, 'slasher': 1005, 'conclus': 1006, 'imposs': 1007, 'suddenli': 1008, 'neither': 1009, 'teen': 1010, 'crimin': 1011, 'spent': 1012, 'nation': 1013, 'physic': 1014, 'respons': 1015, 'planet': 1016, 'receiv': 1017, 'fake': 1018, 'sick': 1019, 'blue': 1020, 'bizarr': 1021, 'embarrass': 1022, 'indian': 1023, '15': 1024, 'ring': 1025, 'pop': 1026, 'drop': 1027, 'drag': 1028, 'haunt': 1029, 'suspect': 1030, 'pointless': 1031, 'edg': 1032, 'search': 1033, 'handl': 1034, 'common': 1035, 'biggest': 1036, 'faith': 1037, 'arriv': 1038, 'hurt': 1039, 'technic': 1040, 'angel': 1041, 'dad': 1042, 'genuin': 1043, 'f': 1044, 'awesom': 1045, 'solid': 1046, 'focu': 1047, 'colleg': 1048, 'van': 1049, 'former': 1050, 'count': 1051, 'tear': 1052, 'heavi': 1053, 'wall': 1054, 'rais': 1055, 'laughabl': 1056, 'younger': 1057, 'visit': 1058, 'excus': 1059, 'fair': 1060, 'sign': 1061, 'cult': 1062, 'motion': 1063, 'key': 1064, 'tough': 1065, 'desir': 1066, 'super': 1067, 'addit': 1068, 'stun': 1069, 'cloth': 1070, 'exploit': 1071, 'tortur': 1072, 'smith': 1073, 'race': 1074, 'davi': 1075, 'author': 1076, 'cross': 1077, 'jim': 1078, 'minor': 1079, 'focus': 1080, 'compel': 1081, 'consist': 1082, 'commit': 1083, 'chemistri': 1084, 'pathet': 1085, 'park': 1086, 'obsess': 1087, 'frank': 1088, 'tradit': 1089, 'grade': 1090, 'asid': 1091, '60': 1092, 'brutal': 1093, 'steve': 1094, 'somewher': 1095, 'opportun': 1096, 'depress': 1097, 'rule': 1098, 'u': 1099, 'explor': 1100, 'grant': 1101, 'besid': 1102, 'honest': 1103, 'dub': 1104, 'anti': 1105, 'trailer': 1106, 'intend': 1107, 'bar': 1108, 'west': 1109, 'regard': 1110, 'longer': 1111, 'scientist': 1112, 'decad': 1113, 'judg': 1114, 'silent': 1115, 'creativ': 1116, 'armi': 1117, 'wild': 1118, 'g': 1119, 'stewart': 1120, 'south': 1121, 'draw': 1122, 'road': 1123, 'govern': 1124, 'boss': 1125, 'ex': 1126, 'practic': 1127, 'club': 1128, 'surprisingli': 1129, 'motiv': 1130, 'festiv': 1131, 'gang': 1132, 'redeem': 1133, 'green': 1134, 'london': 1135, 'page': 1136, 'idiot': 1137, 'aliv': 1138, 'display': 1139, 'militari': 1140, 'machin': 1141, 'thrill': 1142, 'repeat': 1143, '100': 1144, 'yeah': 1145, 'nobodi': 1146, 'folk': 1147, '40': 1148, 'journey': 1149, 'garbag': 1150, 'ground': 1151, 'tire': 1152, 'smile': 1153, 'bought': 1154, 'mood': 1155, 'stone': 1156, 'sam': 1157, 'cost': 1158, 'mouth': 1159, 'noir': 1160, 'terrif': 1161, 'agent': 1162, 'requir': 1163, 'utterli': 1164, 'honestli': 1165, 'sexi': 1166, 'area': 1167, 'geniu': 1168, 'report': 1169, 'enter': 1170, 'glad': 1171, 'investig': 1172, 'humour': 1173, 'serial': 1174, 'occasion': 1175, 'narr': 1176, 'passion': 1177, 'marriag': 1178, 'climax': 1179, 'studi': 1180, 'industri': 1181, 'nowher': 1182, 'charli': 1183, 'demon': 1184, 'center': 1185, 'ship': 1186, 'loos': 1187, 'hors': 1188, 'bear': 1189, 'hang': 1190, 'wow': 1191, 'graphic': 1192, 'admir': 1193, 'giant': 1194, 'send': 1195, 'damn': 1196, 'loud': 1197, 'rel': 1198, 'profession': 1199, 'nake': 1200, 'subtl': 1201, 'blow': 1202, 'bottom': 1203, 'insult': 1204, 'batman': 1205, 'doubl': 1206, 'boyfriend': 1207, 'r': 1208, 'kelli': 1209, 'initi': 1210, 'frame': 1211, 'opera': 1212, 'gem': 1213, 'affect': 1214, 'drawn': 1215, 'challeng': 1216, 'cinemat': 1217, 'church': 1218, 'evid': 1219, 'l': 1220, 'seek': 1221, 'j': 1222, 'fulli': 1223, 'nightmar': 1224, 'arm': 1225, 'essenti': 1226, 'conflict': 1227, 'christoph': 1228, 'henri': 1229, 'wind': 1230, 'grace': 1231, 'assum': 1232, 'narrat': 1233, 'witch': 1234, 'push': 1235, 'hunt': 1236, 'wise': 1237, 'chri': 1238, 'nomin': 1239, 'month': 1240, 'repres': 1241, 'affair': 1242, 'avail': 1243, 'hide': 1244, 'sceneri': 1245, 'smart': 1246, 'thu': 1247, 'bond': 1248, 'justic': 1249, 'interview': 1250, 'flashback': 1251, 'outstand': 1252, 'constantli': 1253, 'satisfi': 1254, 'presenc': 1255, 'central': 1256, 'bed': 1257, 'iron': 1258, 'content': 1259, 'sell': 1260, 'gag': 1261, 'everybodi': 1262, 'slowli': 1263, 'hotel': 1264, 'hire': 1265, 'system': 1266, 'individu': 1267, 'charl': 1268, 'hey': 1269, 'thrown': 1270, 'adam': 1271, 'mediocr': 1272, 'allen': 1273, 'jone': 1274, 'ray': 1275, 'billi': 1276, 'lesson': 1277, 'photographi': 1278, 'cameo': 1279, 'fellow': 1280, 'pari': 1281, 'strike': 1282, 'rise': 1283, 'brief': 1284, 'absurd': 1285, 'independ': 1286, 'neg': 1287, 'impact': 1288, 'phone': 1289, 'model': 1290, 'ill': 1291, 'born': 1292, 'spoil': 1293, 'fresh': 1294, 'angl': 1295, 'abus': 1296, 'likabl': 1297, 'hill': 1298, 'discuss': 1299, 'ahead': 1300, 'sight': 1301, 'sent': 1302, 'photograph': 1303, 'blame': 1304, 'shine': 1305, 'logic': 1306, 'occur': 1307, 'mainli': 1308, 'bruce': 1309, 'skip': 1310, 'commerci': 1311, 'forev': 1312, 'teacher': 1313, 'held': 1314, 'segment': 1315, 'surround': 1316, 'zero': 1317, 'blond': 1318, 'summer': 1319, 'resembl': 1320, 'satir': 1321, 'trap': 1322, 'fool': 1323, 'queen': 1324, 'six': 1325, 'ball': 1326, 'sub': 1327, 'tragedi': 1328, 'twice': 1329, 'pack': 1330, 'reaction': 1331, 'bomb': 1332, 'will': 1333, 'hospit': 1334, 'protagonist': 1335, 'mile': 1336, 'sport': 1337, 'jerri': 1338, 'trust': 1339, 'mom': 1340, 'vote': 1341, 'drink': 1342, 'encount': 1343, 'plane': 1344, 'station': 1345, 'program': 1346, 'current': 1347, 'al': 1348, 'celebr': 1349, 'choos': 1350, 'martin': 1351, 'join': 1352, 'lord': 1353, 'round': 1354, 'favourit': 1355, 'field': 1356, 'tragic': 1357, 'vision': 1358, 'jean': 1359, 'robot': 1360, 'tie': 1361, 'arthur': 1362, 'roger': 1363, 'fortun': 1364, 'random': 1365, 'intern': 1366, 'psycholog': 1367, 'dread': 1368, 'nonsens': 1369, 'improv': 1370, 'prefer': 1371, 'epic': 1372, 'highlight': 1373, 'legend': 1374, 'formula': 1375, 'pleasur': 1376, '11': 1377, 'tape': 1378, 'dollar': 1379, 'thin': 1380, 'wide': 1381, 'fox': 1382, 'porn': 1383, 'object': 1384, 'gorgeou': 1385, 'buddi': 1386, 'ugli': 1387, 'influenc': 1388, 'prepar': 1389, 'ii': 1390, 'nasti': 1391, 'warm': 1392, 'reflect': 1393, 'progress': 1394, 'supposedli': 1395, 'youth': 1396, 'worthi': 1397, 'unusu': 1398, 'length': 1399, 'latter': 1400, 'crash': 1401, 'shop': 1402, 'superior': 1403, 'childhood': 1404, 'seven': 1405, 'remot': 1406, 'theatr': 1407, 'pilot': 1408, 'paid': 1409, 'disgust': 1410, 'funniest': 1411, 'fell': 1412, 'trick': 1413, 'castl': 1414, 'convers': 1415, 'gangster': 1416, 'rob': 1417, 'establish': 1418, 'disast': 1419, 'ident': 1420, 'suicid': 1421, 'mine': 1422, 'disappear': 1423, 'heaven': 1424, 'singer': 1425, 'tend': 1426, 'forgotten': 1427, 'decis': 1428, 'mask': 1429, 'heroin': 1430, 'partner': 1431, 'brian': 1432, 'alan': 1433, 'desert': 1434, 'recogn': 1435, 'p': 1436, 'thoroughli': 1437, 'ms': 1438, 'sky': 1439, 'stuck': 1440, 'accur': 1441, 'replac': 1442, 'market': 1443, 'clue': 1444, 'commentari': 1445, 'seemingli': 1446, 'uncl': 1447, 'andi': 1448, 'danni': 1449, 'eddi': 1450, 'devil': 1451, 'jackson': 1452, 'that': 1453, 'pair': 1454, 'refus': 1455, 'therefor': 1456, 'river': 1457, 'accid': 1458, 'fault': 1459, 'unit': 1460, 'fate': 1461, 'ed': 1462, 'afraid': 1463, 'tune': 1464, 'hidden': 1465, 'stephen': 1466, 'russian': 1467, 'clean': 1468, 'irrit': 1469, 'test': 1470, 'convey': 1471, 'instanc': 1472, 'quick': 1473, 'captain': 1474, 'readi': 1475, 'european': 1476, 'daniel': 1477, 'insan': 1478, 'frustrat': 1479, 'rescu': 1480, 'wed': 1481, '1950': 1482, 'chines': 1483, 'food': 1484, 'lock': 1485, 'angri': 1486, 'dirti': 1487, 'joy': 1488, 'price': 1489, 'steven': 1490, 'bland': 1491, 'cage': 1492, 'anymor': 1493, 'rang': 1494, 'wooden': 1495, 'rush': 1496, 'n': 1497, 'jason': 1498, 'news': 1499, 'led': 1500, 'board': 1501, 'twenti': 1502, 'worri': 1503, '12': 1504, 'martial': 1505, 'cgi': 1506, 'transform': 1507, 'symbol': 1508, 'hunter': 1509, 'onto': 1510, 'invent': 1511, 'johnni': 1512, 'sentiment': 1513, 'x': 1514, 'piti': 1515, 'process': 1516, 'explan': 1517, 'attitud': 1518, 'awar': 1519, 'owner': 1520, 'aim': 1521, 'floor': 1522, 'favor': 1523, 'energi': 1524, 'necessari': 1525, 'target': 1526, 'opposit': 1527, 'religi': 1528, 'window': 1529, 'blind': 1530, 'insight': 1531, 'chick': 1532, 'movement': 1533, 'deepli': 1534, 'comparison': 1535, 'possess': 1536, 'mountain': 1537, 'research': 1538, 'rain': 1539, 'whatsoev': 1540, 'comed': 1541, 'grand': 1542, 'mid': 1543, 'bank': 1544, 'shadow': 1545, 'began': 1546, 'princ': 1547, 'parodi': 1548, 'pre': 1549, 'credibl': 1550, 'taylor': 1551, 'friendship': 1552, 'weapon': 1553, 'flesh': 1554, 'teach': 1555, 'dougla': 1556, 'terror': 1557, 'hint': 1558, 'bloodi': 1559, 'protect': 1560, 'marvel': 1561, 'watchabl': 1562, 'load': 1563, 'leader': 1564, 'superman': 1565, 'drunk': 1566, 'anybodi': 1567, 'accord': 1568, 'brown': 1569, 'freddi': 1570, 'jeff': 1571, 'appropri': 1572, 'tim': 1573, 'hitler': 1574, 'seat': 1575, 'knock': 1576, 'unknown': 1577, 'villag': 1578, 'charg': 1579, 'keaton': 1580, 'england': 1581, 'media': 1582, 'enemi': 1583, 'empti': 1584, 'unnecessari': 1585, 'utter': 1586, 'wave': 1587, 'dare': 1588, 'perspect': 1589, 'strength': 1590, 'buck': 1591, 'craft': 1592, 'correct': 1593, 'nativ': 1594, 'ford': 1595, 'contrast': 1596, 'kiss': 1597, 'soap': 1598, 'speed': 1599, 'anywher': 1600, 'magnific': 1601, 'distract': 1602, 'chill': 1603, 'knowledg': 1604, 'nazi': 1605, 'mission': 1606, 'fred': 1607, 'ice': 1608, '1980': 1609, 'breath': 1610, 'joan': 1611, 'crowd': 1612, 'jr': 1613, 'moon': 1614, 'soft': 1615, '000': 1616, 'kate': 1617, 'frighten': 1618, 'hundr': 1619, 'dan': 1620, 'nick': 1621, 'dick': 1622, 'simon': 1623, 'radio': 1624, 'dozen': 1625, 'somebodi': 1626, 'thousand': 1627, 'loss': 1628, 'shakespear': 1629, 'academi': 1630, 'andrew': 1631, 'sum': 1632, 'quot': 1633, 'vehicl': 1634, 'account': 1635, 'root': 1636, '1970': 1637, 'convent': 1638, 'leg': 1639, 'behavior': 1640, 'regular': 1641, 'gold': 1642, 'compet': 1643, 'pretenti': 1644, 'worker': 1645, 'demand': 1646, 'lynch': 1647, 'interpret': 1648, 'privat': 1649, 'japan': 1650, 'notabl': 1651, 'explos': 1652, 'stretch': 1653, 'candi': 1654, 'constant': 1655, 'debut': 1656, 'tarzan': 1657, 'revolv': 1658, 'sea': 1659, 'spi': 1660, 'translat': 1661, 'prais': 1662, 'ass': 1663, 'failur': 1664, 'jesu': 1665, 'sat': 1666, 'quiet': 1667, 'threaten': 1668, 'technolog': 1669, 'franc': 1670, 'met': 1671, 'punch': 1672, 'higher': 1673, 'toy': 1674, 'kevin': 1675, 'aid': 1676, 'mike': 1677, 'vh': 1678, 'interact': 1679, 'abandon': 1680, 'bet': 1681, 'separ': 1682, 'command': 1683, 'confront': 1684, 'gotten': 1685, 'servic': 1686, 'site': 1687, 'recal': 1688, 'belong': 1689, 'stunt': 1690, 'techniqu': 1691, 'cabl': 1692, 'freak': 1693, 'foot': 1694, 'bug': 1695, 'capabl': 1696, 'bright': 1697, 'african': 1698, 'fu': 1699, 'jimmi': 1700, 'stock': 1701, 'fat': 1702, 'clark': 1703, 'succeed': 1704, 'presid': 1705, 'boat': 1706, 'spanish': 1707, 'gene': 1708, 'structur': 1709, 'paper': 1710, 'kidnap': 1711, 'factor': 1712, 'belief': 1713, 'whilst': 1714, 'tree': 1715, 'realis': 1716, 'witti': 1717, 'realism': 1718, 'educ': 1719, 'complic': 1720, 'attend': 1721, 'bob': 1722, 'assist': 1723, 'finest': 1724, 'broken': 1725, 'santa': 1726, 'observ': 1727, 'up': 1728, 'depart': 1729, 'determin': 1730, 'smoke': 1731, 'v': 1732, 'domin': 1733, 'routin': 1734, 'lewi': 1735, 'fame': 1736, 'hat': 1737, 'oper': 1738, 'rubbish': 1739, 'foreign': 1740, 'hook': 1741, 'lone': 1742, 'safe': 1743, 'kinda': 1744, 'morgan': 1745, 'advanc': 1746, 'numer': 1747, 'rank': 1748, 'civil': 1749, 'rose': 1750, 'shape': 1751, 'vs': 1752, 'shallow': 1753, 'washington': 1754, 'werewolf': 1755, 'morn': 1756, 'gari': 1757, 'ordinari': 1758, 'accomplish': 1759, 'winner': 1760, 'kong': 1761, 'whenev': 1762, 'grab': 1763, 'virtual': 1764, 'peac': 1765, 'luck': 1766, 'offens': 1767, 'h': 1768, 'bigger': 1769, 'contriv': 1770, 'unfunni': 1771, 'activ': 1772, 'welcom': 1773, 'patient': 1774, 'complain': 1775, 'dimension': 1776, 'trek': 1777, 'con': 1778, 'pretend': 1779, 'eric': 1780, 'lesbian': 1781, 'dri': 1782, 'code': 1783, 'flash': 1784, 'cain': 1785, 'wake': 1786, 'albert': 1787, 'dancer': 1788, 'manipul': 1789, 'corrupt': 1790, 'statu': 1791, 'guard': 1792, 'sourc': 1793, 'speech': 1794, 'context': 1795, 'gain': 1796, 'awkward': 1797, 'signific': 1798, 'psycho': 1799, 'corni': 1800, 'anthoni': 1801, 'clip': 1802, '13': 1803, 'sean': 1804, 'reli': 1805, 'advic': 1806, 'theatric': 1807, 'w': 1808, 'priest': 1809, 'religion': 1810, 'curiou': 1811, 'flow': 1812, 'addict': 1813, 'howard': 1814, 'secur': 1815, 'skin': 1816, 'specif': 1817, 'jennif': 1818, 'asian': 1819, 'promot': 1820, 'core': 1821, 'luke': 1822, 'comfort': 1823, 'organ': 1824, 'golden': 1825, 'cash': 1826, 'lucki': 1827, 'cheat': 1828, 'lower': 1829, 'associ': 1830, 'dislik': 1831, 'spell': 1832, 'frankli': 1833, 'frequent': 1834, 'degre': 1835, 'devic': 1836, 'balanc': 1837, 'regret': 1838, 'contribut': 1839, 'wing': 1840, 'print': 1841, 'forgiv': 1842, 'lake': 1843, 'sake': 1844, 'mass': 1845, 'betti': 1846, 'thoma': 1847, 'gordon': 1848, 'unexpect': 1849, 'crack': 1850, 'amateur': 1851, 'depend': 1852, 'unfold': 1853, 'construct': 1854, 'grown': 1855, 'invit': 1856, 'categori': 1857, 'intellectu': 1858, 'condit': 1859, 'walter': 1860, 'grew': 1861, 'matur': 1862, 'anna': 1863, 'honor': 1864, 'spectacular': 1865, 'mirror': 1866, 'veteran': 1867, 'sudden': 1868, 'sole': 1869, 'overli': 1870, 'demonstr': 1871, 'liner': 1872, 'meanwhil': 1873, 'card': 1874, 'experienc': 1875, 'robin': 1876, 'freedom': 1877, 'grip': 1878, 'gift': 1879, 'oliv': 1880, 'colour': 1881, 'brilliantli': 1882, 'sheriff': 1883, 'circumst': 1884, 'drew': 1885, 'unabl': 1886, 'subtitl': 1887, 'theori': 1888, 'section': 1889, 'crappi': 1890, 'altern': 1891, 'matt': 1892, 'pile': 1893, 'path': 1894, 'sheer': 1895, 'cook': 1896, 'laughter': 1897, 'parker': 1898, 'wander': 1899, 'accident': 1900, 'relief': 1901, 'treatment': 1902, 'lawyer': 1903, 'hall': 1904, 'defin': 1905, 'sinatra': 1906, 'captiv': 1907, 'hank': 1908, 'dragon': 1909, 'halloween': 1910, 'gratuit': 1911, 'moor': 1912, 'broadway': 1913, 'cowboy': 1914, 'wayn': 1915, 'wound': 1916, 'unintent': 1917, 'kung': 1918, 'jacki': 1919, 'barbara': 1920, 'k': 1921, 'statement': 1922, 'surreal': 1923, 'canadian': 1924, 'spoof': 1925, 'winter': 1926, 'fare': 1927, 'treasur': 1928, 'gonna': 1929, 'fish': 1930, 'cheer': 1931, 'compos': 1932, 'victor': 1933, 'unrealist': 1934, 'sensit': 1935, 'emerg': 1936, 'woodi': 1937, 'driven': 1938, 'sympathet': 1939, 'ran': 1940, 'neighbor': 1941, 'glass': 1942, 'expos': 1943, 'menac': 1944, 'authent': 1945, 'topic': 1946, 'overlook': 1947, 'chief': 1948, 'michel': 1949, 'ancient': 1950, 'gross': 1951, 'handsom': 1952, 'nevertheless': 1953, 'network': 1954, 'stranger': 1955, 'feet': 1956, 'contemporari': 1957, 'built': 1958, 'comedian': 1959, 'pleasant': 1960, 'russel': 1961, 'cinderella': 1962, 'consider': 1963, 'endless': 1964, 'underr': 1965, 'letter': 1966, 'earn': 1967, 'gori': 1968, 'miser': 1969, 'blockbust': 1970, 'brook': 1971, 'switch': 1972, 'solv': 1973, 'victoria': 1974, 'edward': 1975, 'virgin': 1976, 'bullet': 1977, 'convict': 1978, 'joseph': 1979, 'scale': 1980, 'chosen': 1981, 'alex': 1982, 'cynic': 1983, 'scenario': 1984, '0': 1985, 'outrag': 1986, 'com': 1987, 'sword': 1988, 'gut': 1989, 'curs': 1990, 'driver': 1991, 'substanc': 1992, 'uk': 1993, 'screenwrit': 1994, 'juli': 1995, 'proper': 1996, 'monkey': 1997, 'wrap': 1998, 'par': 1999, 'remov': 2000, 'court': 2001, 'indic': 2002, 'bird': 2003, 'loser': 2004, 'rental': 2005, 'advertis': 2006, 'consequ': 2007, 'nanci': 2008, 'inevit': 2009, 'grave': 2010, 'naiv': 2011, 'roy': 2012, 'germani': 2013, 'bridg': 2014, 'invis': 2015, 'le': 2016, 'brave': 2017, 'fatal': 2018, 'slap': 2019, 'footbal': 2020, 'loui': 2021, 'anger': 2022, 'ador': 2023, 'provok': 2024, 'alcohol': 2025, 'anderson': 2026, 'chan': 2027, 'ryan': 2028, 'willi': 2029, 'stumbl': 2030, 'professor': 2031, 'sharp': 2032, 'patrick': 2033, 'australian': 2034, 'assassin': 2035, 'bat': 2036, '1930': 2037, 'heck': 2038, 'deni': 2039, 'amateurish': 2040, 'eight': 2041, 'saturday': 2042, 'lousi': 2043, 'liber': 2044, 'refresh': 2045, 'strongli': 2046, 'ape': 2047, 'trilog': 2048, 'cell': 2049, 'sin': 2050, 'resid': 2051, 'san': 2052, 'justifi': 2053, 'vagu': 2054, 'reput': 2055, 'creator': 2056, 'terrifi': 2057, 'sympathi': 2058, 'defeat': 2059, 'mini': 2060, 'indi': 2061, 'endur': 2062, 'tabl': 2063, 'prevent': 2064, 'expert': 2065, 'tediou': 2066, 'task': 2067, 'rival': 2068, 'employ': 2069, 'trial': 2070, 'imit': 2071, 'offend': 2072, 'basebal': 2073, 'che': 2074, 'max': 2075, 'dig': 2076, 'europ': 2077, 'weekend': 2078, 'beach': 2079, 'complaint': 2080, 'fairi': 2081, 'pitch': 2082, 'purchas': 2083, 'format': 2084, 'risk': 2085, 'murphi': 2086, 'bite': 2087, 'hype': 2088, 'harsh': 2089, 'glimps': 2090, 'reminisc': 2091, 'nois': 2092, 'powel': 2093, 'titan': 2094, 'tini': 2095, '14': 2096, 'strip': 2097, 'till': 2098, 'fals': 2099, 'north': 2100, 'asleep': 2101, 'prime': 2102, 'destruct': 2103, 'africa': 2104, 'descript': 2105, 'texa': 2106, 'revel': 2107, 'spin': 2108, 'sitcom': 2109, 'arrest': 2110, 'semi': 2111, 'inner': 2112, 'uninterest': 2113, 'surfac': 2114, 'excess': 2115, 'controversi': 2116, 'argu': 2117, 'massiv': 2118, 'dinosaur': 2119, 'hitchcock': 2120, 'makeup': 2121, 'maintain': 2122, 'twin': 2123, 'stare': 2124, 'expens': 2125, 'ideal': 2126, 'reject': 2127, 'melodrama': 2128, 'ludicr': 2129, 'kim': 2130, 'insist': 2131, 'erot': 2132, 'press': 2133, 'atroci': 2134, 'forest': 2135, 'subplot': 2136, 'ga': 2137, 'supernatur': 2138, 'nail': 2139, 'columbo': 2140, 'host': 2141, 'ala': 2142, 'presum': 2143, 'cant': 2144, 'dude': 2145, 'notch': 2146, 'identifi': 2147, 'closer': 2148, 'plagu': 2149, 'guest': 2150, 'method': 2151, 'character': 2152, 'forgett': 2153, 'crude': 2154, 'landscap': 2155, 'border': 2156, 'princess': 2157, 'foster': 2158, 'ear': 2159, 'lion': 2160, 'beast': 2161, 'aunt': 2162, 'accus': 2163, 'birth': 2164, 'storytel': 2165, 'damag': 2166, 'bound': 2167, 'urban': 2168, 'pacino': 2169, 'jungl': 2170, 'previous': 2171, 'chose': 2172, 'jess': 2173, 'thirti': 2174, 'nude': 2175, 'doll': 2176, 'propaganda': 2177, 'guid': 2178, 'emma': 2179, 'mainstream': 2180, 'pet': 2181, 'mate': 2182, 'warrior': 2183, 'whoever': 2184, '25': 2185, 'exact': 2186, 'gritti': 2187, 'friday': 2188, 'latest': 2189, 'upset': 2190, 'size': 2191, 'merit': 2192, 'poster': 2193, 'cooper': 2194, 'deadli': 2195, 'ton': 2196, 'citizen': 2197, 'contact': 2198, 'warner': 2199, 'popul': 2200, 'corps': 2201, 'contest': 2202, 'sun': 2203, 'buff': 2204, '1990': 2205, 'blend': 2206, 'settl': 2207, 'rough': 2208, 'wilson': 2209, 'alic': 2210, 'bu': 2211, 'widow': 2212, 'metal': 2213, 'environ': 2214, 'pitt': 2215, 'overcom': 2216, 'rat': 2217, 'select': 2218, 'mgm': 2219, 'link': 2220, 'particip': 2221, 'lift': 2222, 'revolut': 2223, 'guilti': 2224, 'ted': 2225, 'corner': 2226, 'exagger': 2227, 'johnson': 2228, 'afternoon': 2229, 'moron': 2230, 'accompani': 2231, 'prostitut': 2232, 'corpor': 2233, '1960': 2234, 'matrix': 2235, 'holm': 2236, 'leagu': 2237, 'clair': 2238, 'sincer': 2239, 'doom': 2240, 'hood': 2241, 'multipl': 2242, 'instal': 2243, 'friendli': 2244, 'grim': 2245, 'junk': 2246, 'string': 2247, 'lugosi': 2248, 'blah': 2249, 'defend': 2250, 'campi': 2251, 'irish': 2252, 'advis': 2253, 'aka': 2254, 'examin': 2255, 'hip': 2256, 'sunday': 2257, 'pro': 2258, 'shake': 2259, 'icon': 2260, 'varieti': 2261, 'confid': 2262, 'tight': 2263, 'shut': 2264, 'rachel': 2265, 'jaw': 2266, 'sullivan': 2267, 'denni': 2268, 'directli': 2269, 'attach': 2270, 'goal': 2271, 'medic': 2272, 'mexican': 2273, 'truck': 2274, 'sarah': 2275, 'terrorist': 2276, 'prior': 2277, 'breast': 2278, 'legendari': 2279, 'duke': 2280, 'courag': 2281, 'dean': 2282, 'sentenc': 2283, 'vietnam': 2284, 'bourn': 2285, 'behav': 2286, 'donald': 2287, 'nose': 2288, 'split': 2289, 'un': 2290, 'yell': 2291, 'hong': 2292, 'entri': 2293, 'proceed': 2294, 'gather': 2295, 'jerk': 2296, 'forth': 2297, 'crush': 2298, 'everywher': 2299, 'borrow': 2300, 'unconvinc': 2301, 'concentr': 2302, 'confess': 2303, 'lifetim': 2304, 'stolen': 2305, 'swim': 2306, 'buri': 2307, 'pan': 2308, 'lip': 2309, 'california': 2310, 'spite': 2311, 'julia': 2312, 'turkey': 2313, 'deliveri': 2314, 'offici': 2315, 'proud': 2316, 'quest': 2317, 'reward': 2318, 'downright': 2319, 'freeman': 2320, 'china': 2321, 'flight': 2322, 'hoffman': 2323, 'sink': 2324, 'notori': 2325, 'betray': 2326, 'fade': 2327, 'inept': 2328, 'sir': 2329, 'lazi': 2330, 'jon': 2331, 'worthwhil': 2332, 'fabul': 2333, 'encourag': 2334, 'jail': 2335, 'cousin': 2336, 'shower': 2337, 'susan': 2338, 'storm': 2339, 'relev': 2340, 'branagh': 2341, 'imageri': 2342, 'retard': 2343, 'bag': 2344, 'teeth': 2345, 'bell': 2346, 'survivor': 2347, 'lisa': 2348, 'alright': 2349, 'summari': 2350, 'mexico': 2351, 'facial': 2352, 'toler': 2353, 'stab': 2354, 'shark': 2355, 'quirki': 2356, 'hugh': 2357, 'tremend': 2358, 'finger': 2359, 'bride': 2360, 'trade': 2361, 'ha': 2362, 'hyster': 2363, 'blown': 2364, 'bitter': 2365, 'pose': 2366, 'von': 2367, 'cruel': 2368, 'afterward': 2369, 'christ': 2370, 'address': 2371, 'scheme': 2372, 'ned': 2373, 'bone': 2374, 'ron': 2375, 'larri': 2376, 'snake': 2377, 'tour': 2378, 'distinct': 2379, 'thumb': 2380, 'screw': 2381, 'swear': 2382, 'beg': 2383, 'feed': 2384, 'pursu': 2385, 'traci': 2386, 'photo': 2387, 'occas': 2388, 'chair': 2389, 'mechan': 2390, 'stomach': 2391, 'raw': 2392, 'obscur': 2393, 'hardi': 2394, 'argument': 2395, 'cabin': 2396, 'holiday': 2397, 'sidney': 2398, 'gruesom': 2399, 'necessarili': 2400, 'heavili': 2401, 'chain': 2402, 'resist': 2403, 'render': 2404, 'southern': 2405, 'understood': 2406, 'india': 2407, 'indulg': 2408, 'racist': 2409, 'philip': 2410, 'satan': 2411, 'lay': 2412, 'obnoxi': 2413, 'belov': 2414, 'tongu': 2415, 'pregnant': 2416, 'stalk': 2417, 'forgot': 2418, 'fourth': 2419, 'midnight': 2420, 'integr': 2421, 'outfit': 2422, 'ticket': 2423, 'magazin': 2424, 'garden': 2425, 'restor': 2426, 'inhabit': 2427, '17': 2428, 'carol': 2429, 'deeper': 2430, 'slapstick': 2431, 'devot': 2432, 'shoe': 2433, 'brad': 2434, 'incid': 2435, 'lincoln': 2436, 'lili': 2437, 'divorc': 2438, 'underground': 2439, 'benefit': 2440, 'maria': 2441, 'anticip': 2442, 'guarante': 2443, 'disbelief': 2444, 'elizabeth': 2445, 'sandler': 2446, 'cring': 2447, 'mildli': 2448, 'slave': 2449, 'amazingli': 2450, 'explod': 2451, 'princip': 2452, 'greater': 2453, 'bbc': 2454, 'creation': 2455, 'capit': 2456, 'halfway': 2457, 'funnier': 2458, 'extraordinari': 2459, 'lesli': 2460, 'introduct': 2461, 'tap': 2462, 'text': 2463, 'wreck': 2464, 'advantag': 2465, 'enhanc': 2466, 'overwhelm': 2467, 'extent': 2468, 'transfer': 2469, 'punish': 2470, 'horrif': 2471, 'lo': 2472, 'jessica': 2473, 'plant': 2474, 'dynam': 2475, 'error': 2476, 'deliber': 2477, 'preview': 2478, 'east': 2479, 'lane': 2480, 'miscast': 2481, 'homosexu': 2482, 'vincent': 2483, 'ensu': 2484, 'miller': 2485, 'appli': 2486, 'basi': 2487, 'vacat': 2488, 'sophist': 2489, '2000': 2490, 'via': 2491, 'reed': 2492, 'steel': 2493, 'uncomfort': 2494, 'extend': 2495, 'sleazi': 2496, 'measur': 2497, 'elev': 2498, 'mansion': 2499, 'spoken': 2500, 'bollywood': 2501, 'fix': 2502, 'alter': 2503, 'stanley': 2504, 'goofi': 2505, 'hippi': 2506, 'breathtak': 2507, 'beer': 2508, 'mous': 2509, 'blair': 2510, 'assign': 2511, 'dentist': 2512, 'melt': 2513, 'overact': 2514, 'conceiv': 2515, 'daili': 2516, 'savag': 2517, 'cathol': 2518, 'succe': 2519, 'carpent': 2520, 'nowaday': 2521, 'inspector': 2522, 'sacrific': 2523, 'oppos': 2524, 'everyday': 2525, 'properli': 2526, 'subsequ': 2527, 'burt': 2528, 'circl': 2529, 'laura': 2530, 'neck': 2531, 'block': 2532, 'massacr': 2533, 'concert': 2534, 'mob': 2535, 'portrait': 2536, 'access': 2537, 'grey': 2538, 'christi': 2539, 'lesser': 2540, 'fallen': 2541, 'pool': 2542, 'fay': 2543, 'seagal': 2544, 'react': 2545, 'chees': 2546, 'relax': 2547, 'competit': 2548, 'jewish': 2549, 'usa': 2550, 'isol': 2551, 'jake': 2552, 'sinist': 2553, 'appal': 2554, 'stink': 2555, 'nonetheless': 2556, 'creep': 2557, 'lyric': 2558, 'chop': 2559, '2006': 2560, 'ironi': 2561, 'nine': 2562, 'immens': 2563, 'spiritu': 2564, 'suitabl': 2565, 'user': 2566, 'sold': 2567, 'navi': 2568, 'retir': 2569, 'rage': 2570, 'shirt': 2571, 'nut': 2572, 'reduc': 2573, 'franchis': 2574, 'showcas': 2575, 'adopt': 2576, 'needless': 2577, 'spring': 2578, 'luci': 2579, 'bath': 2580, 'nurs': 2581, 'jay': 2582, 'uninspir': 2583, 'asham': 2584, 'bulli': 2585, 'stanwyck': 2586, 'digit': 2587, 'zone': 2588, 'per': 2589, 'upper': 2590, 'broadcast': 2591, 'amongst': 2592, 'laid': 2593, 'sutherland': 2594, '1940': 2595, 'illustr': 2596, 'oddli': 2597, '2001': 2598, 'disguis': 2599, 'fulfil': 2600, 'brando': 2601, 'throat': 2602, 'baker': 2603, 'aspir': 2604, 'stylish': 2605, '18': 2606, 'pound': 2607, 'em': 2608, 'impli': 2609, 'wanna': 2610, 'endear': 2611, 'nobl': 2612, 'wwii': 2613, 'pride': 2614, 'thief': 2615, 'neighborhood': 2616, 'shift': 2617, 'dinner': 2618, 'distribut': 2619, 'tens': 2620, 'albeit': 2621, 'dawn': 2622, 'coher': 2623, 'prop': 2624, 'shoulder': 2625, '16': 2626, 'bo': 2627, 'diseas': 2628, 'cinematograph': 2629, 'bett': 2630, 'rochest': 2631, 'surf': 2632, 'matthau': 2633, 'rebel': 2634, 'knife': 2635, 'snow': 2636, 'silenc': 2637, 'function': 2638, 'wash': 2639, 'shout': 2640, 'contract': 2641, 'poignant': 2642, 'forti': 2643, 'cancel': 2644, 'mindless': 2645, 'henc': 2646, 'proof': 2647, 'eeri': 2648, 'heat': 2649, 'reunion': 2650, 'cannib': 2651, 'derek': 2652, 'chuck': 2653, 'horrend': 2654, 'widmark': 2655, 'instinct': 2656, 'silver': 2657, 'internet': 2658, 'duti': 2659, 'height': 2660, 'elvira': 2661, 'mill': 2662, 'pie': 2663, 'repetit': 2664, 'spielberg': 2665, 'premier': 2666, 'musician': 2667, 'glori': 2668, 'incoher': 2669, 'absorb': 2670, 'greatli': 2671, 'neat': 2672, 'etern': 2673, 'torn': 2674, 'alik': 2675, 'elvi': 2676, 'innov': 2677, 'britain': 2678, 'bang': 2679, 'crisi': 2680, 'announc': 2681, 'racism': 2682, 'lovabl': 2683, 'itali': 2684, 'redempt': 2685, 'trite': 2686, 'infam': 2687, 'horrifi': 2688, 'homag': 2689, 'blank': 2690, 'burton': 2691, 'precis': 2692, 'wealthi': 2693, 'diamond': 2694, 'nelson': 2695, 'fbi': 2696, 'dedic': 2697, 'ensembl': 2698, 'parallel': 2699, 'resolut': 2700, 'hammer': 2701, 'happili': 2702, 'helen': 2703, 'chaplin': 2704, 'pat': 2705, 'wilder': 2706, 'flop': 2707, 'streisand': 2708, 'plastic': 2709, 'disagre': 2710, 'mar': 2711, 'cube': 2712, 'factori': 2713, 'oil': 2714, 'broke': 2715, 'triumph': 2716, 'conclud': 2717, 'st': 2718, 'carter': 2719, 'own': 2720, 'march': 2721, 'rocket': 2722, 'chuckl': 2723, 'weight': 2724, 'fighter': 2725, 'bush': 2726, 'row': 2727, 'vega': 2728, 'climb': 2729, 'spare': 2730, 'dane': 2731, 'mst3k': 2732, 'lust': 2733, 'meaning': 2734, 'luca': 2735, 'thug': 2736, 'sensibl': 2737, 'kurt': 2738, 'unforgett': 2739, 'wherea': 2740, 'dump': 2741, 'enorm': 2742, 'boot': 2743, 'stress': 2744, 'karloff': 2745, 'brand': 2746, 'rap': 2747, 'fifti': 2748, 'engin': 2749, 'adequ': 2750, 'bobbi': 2751, 'threat': 2752, 'arnold': 2753, 'dear': 2754, 'difficulti': 2755, 'caricatur': 2756, 'butt': 2757, 'flynn': 2758, 'polish': 2759, 'secretari': 2760, 'swing': 2761, 'barri': 2762, 'ego': 2763, 'arrog': 2764, 'journalist': 2765, 'fest': 2766, 'homeless': 2767, 'elabor': 2768, 'ralph': 2769, 'hamlet': 2770, 'grate': 2771, 'resort': 2772, 'puppet': 2773, 'tool': 2774, 'fanci': 2775, 'spike': 2776, 'unbear': 2777, 'conspiraci': 2778, 'induc': 2779, 'arrang': 2780, 'float': 2781, 'simpson': 2782, 'guilt': 2783, 'choreograph': 2784, 'basement': 2785, 'cruis': 2786, 'muppet': 2787, 'tribut': 2788, 'phillip': 2789, 'exercis': 2790, 'pig': 2791, 'boll': 2792, 'editor': 2793, 'fianc': 2794, 'file': 2795, 'korean': 2796, 'layer': 2797, '24': 2798, 'puzzl': 2799, 'ham': 2800, 'medium': 2801, 'slip': 2802, 'ward': 2803, 'document': 2804, 'babe': 2805, 'tower': 2806, 'item': 2807, 'scarecrow': 2808, 'toilet': 2809, 'stan': 2810, 'spark': 2811, 'territori': 2812, 'slaughter': 2813, 'portion': 2814, 'larger': 2815, 'orient': 2816, 'glover': 2817, 'doc': 2818, 'librari': 2819, 'denzel': 2820, 'catherin': 2821, 'minim': 2822, 'persona': 2823, 'assur': 2824, 'superfici': 2825, 'transit': 2826, 'philosoph': 2827, 'inexplic': 2828, 'ban': 2829, 'dorothi': 2830, 'shi': 2831, 'curti': 2832, 'sneak': 2833, 'owe': 2834, 'jeremi': 2835, 'pg': 2836, 'jet': 2837, 'wolf': 2838, 'walken': 2839, 'boredom': 2840, 'financi': 2841, 'eleph': 2842, 'profound': 2843, 'hudson': 2844, 'whale': 2845, 'multi': 2846, 'cusack': 2847, 'metaphor': 2848, 'backdrop': 2849, 'ambigu': 2850, 'stiff': 2851, 'union': 2852, '2005': 2853, 'implaus': 2854, 'viru': 2855, 'elsewher': 2856, 'ultra': 2857, 'birthday': 2858, 'rave': 2859, 'gadget': 2860, 'hack': 2861, 'notion': 2862, 'hawk': 2863, 'eastwood': 2864, 'newspap': 2865, 'pad': 2866, 'disc': 2867, 'urg': 2868, 'squar': 2869, 'bibl': 2870, 'canada': 2871, 'distanc': 2872, 'reader': 2873, 'eva': 2874, 'poison': 2875, '1st': 2876, 'slight': 2877, 'superhero': 2878, 'afford': 2879, 'lloyd': 2880, 'deriv': 2881, 'charisma': 2882, 'button': 2883, 'restaur': 2884, 'cure': 2885, 'sadist': 2886, 'essenc': 2887, 'huh': 2888, 'skit': 2889, 'montag': 2890, 'heston': 2891, 'health': 2892, 'spread': 2893, 'drown': 2894, 'fetch': 2895, 'estat': 2896, 'dealt': 2897, 'invest': 2898, 'companion': 2899, 'godfath': 2900, 'peak': 2901, 'gradual': 2902, 'maniac': 2903, 'lab': 2904, 'muslim': 2905, 'scoobi': 2906, 'kane': 2907, 'countless': 2908, 'subtleti': 2909, 'tea': 2910, 'ritter': 2911, 'gothic': 2912, 'servant': 2913, 'alli': 2914, 'miik': 2915, 'cup': 2916, 'briefli': 2917, 'charismat': 2918, 'iii': 2919, 'salli': 2920, 'electr': 2921, 'heroic': 2922, 'elect': 2923, 'wannab': 2924, 'neil': 2925, 'resourc': 2926, 'admittedli': 2927, 'reel': 2928, 'nuanc': 2929, 'toss': 2930, 'cole': 2931, 'bud': 2932, 'grandmoth': 2933, 'ingredi': 2934, 'tender': 2935, 'pit': 2936, 'poverti': 2937, 'stood': 2938, 'shall': 2939, 'label': 2940, 'gate': 2941, 'reev': 2942, 'mild': 2943, 'punk': 2944, 'stronger': 2945, 'mafia': 2946, 'pauli': 2947, 'carrey': 2948, 'dawson': 2949, 'kubrick': 2950, 'astair': 2951, 'smash': 2952, 'cardboard': 2953, 'useless': 2954, 'ian': 2955, 'terri': 2956, 'updat': 2957, 'smooth': 2958, 'fond': 2959, 'outcom': 2960, 'tag': 2961, 'easier': 2962, 'burst': 2963, 'cox': 2964, 'assault': 2965, 'bakshi': 2966, 'vulner': 2967, 'melodramat': 2968, 'qualifi': 2969, 'fist': 2970, 'samurai': 2971, 'vari': 2972, 'sketch': 2973, 'divers': 2974, 'coincid': 2975, '2002': 2976, 'exchang': 2977, 'increasingli': 2978, 'resolv': 2979, 'rex': 2980, 'insert': 2981, 'conveni': 2982, 'scratch': 2983, 'brillianc': 2984, 'templ': 2985, 'tame': 2986, 'blast': 2987, 'luckili': 2988, 'reynold': 2989, 'suspend': 2990, 'be': 2991, 'hamilton': 2992, 'pin': 2993, 'farm': 2994, 'seventi': 2995, 'fisher': 2996, 'jami': 2997, 'meat': 2998, 'walker': 2999, 'strictli': 3000, 'gotta': 3001, 'ambiti': 3002, 'matthew': 3003, 'nuclear': 3004, 'soprano': 3005, 'coach': 3006, 'eccentr': 3007, 'grasp': 3008, 'revers': 3009, 'worthless': 3010, 'convolut': 3011, 'ninja': 3012, 'empir': 3013, 'kudo': 3014, 'monk': 3015, 'instantli': 3016, 'butcher': 3017, 'recreat': 3018, 'spooki': 3019, 'struck': 3020, 'brosnan': 3021, 'cave': 3022, 'timeless': 3023, 'joey': 3024, 'discoveri': 3025, 'closet': 3026, 'clock': 3027, 'bleak': 3028, 'seller': 3029, 'cliff': 3030, 'wipe': 3031, 'partli': 3032, 'norman': 3033, 'sidekick': 3034, 'declar': 3035, 'sloppi': 3036, 'selfish': 3037, 'eighti': 3038, 'pal': 3039, 'inconsist': 3040, 'communist': 3041, 'mitchel': 3042, 'gray': 3043, 'fifteen': 3044, 'importantli': 3045, 'evok': 3046, 'clown': 3047, 'miracl': 3048, 'farc': 3049, 'enthusiast': 3050, 'websit': 3051, 'lifestyl': 3052, 'debat': 3053, 'seed': 3054, 'destin': 3055, 'aforement': 3056, 'cheek': 3057, 'flawless': 3058, 'australia': 3059, 'superbl': 3060, 'psychiatrist': 3061, 'ho': 3062, '45': 3063, 'chew': 3064, 'stoog': 3065, 'piano': 3066, 'drivel': 3067, 'bash': 3068, 'slice': 3069, 'emili': 3070, 'abc': 3071, 'regardless': 3072, 'anni': 3073, 'kitchen': 3074, 'incompet': 3075, 'dire': 3076, 'dash': 3077, 'wrestl': 3078, 'pressur': 3079, 'soviet': 3080, 'directori': 3081, 'wick': 3082, 'splatter': 3083, 'akshay': 3084, 'seduc': 3085, 'ken': 3086, 'duo': 3087, 'mann': 3088, 'chapter': 3089, 'beaten': 3090, 'artifici': 3091, 'boil': 3092, 'cameron': 3093, 'distant': 3094, 'helicopt': 3095, 'curios': 3096, 'lou': 3097, 'suppli': 3098, 'recov': 3099, 'doo': 3100, 'cagney': 3101, 'pleasantli': 3102, 'cia': 3103, 'blob': 3104, 'dave': 3105, 'increas': 3106, 'prize': 3107, 'glow': 3108, 'flower': 3109, 'judi': 3110, 'jar': 3111, 'web': 3112, 'hop': 3113, 'perri': 3114, 'turner': 3115, 'goldberg': 3116, 'francisco': 3117, 'ranger': 3118, 'favour': 3119, 'combat': 3120, 'eleg': 3121, 'panic': 3122, 'glenn': 3123, 'craven': 3124, 'craig': 3125, 'drunken': 3126, 'laurel': 3127, 'ellen': 3128, 'splendid': 3129, 'psychot': 3130, 'graduat': 3131, 'shortli': 3132, 'ruth': 3133, 'min': 3134, 'fx': 3135, 'slightest': 3136, '20th': 3137, 'gentl': 3138, 'falk': 3139, 'flip': 3140, 'rid': 3141, 'philosophi': 3142, 'modesti': 3143, 'hatr': 3144, 'plausibl': 3145, 'wizard': 3146, 'alexand': 3147, 'gandhi': 3148, 'greek': 3149, 'futurist': 3150, 'holi': 3151, 'preciou': 3152, 'ocean': 3153, 'tall': 3154, 'lend': 3155, 'unpleas': 3156, 'fund': 3157, 'we': 3158, 'jealou': 3159, 'dracula': 3160, 'manhattan': 3161, 'harm': 3162, 'knight': 3163, 'legal': 3164, 'felix': 3165, 'thread': 3166, 'reviv': 3167, 'tank': 3168, 'nod': 3169, 'ami': 3170, 'bless': 3171, 'childish': 3172, 'scientif': 3173, 'digniti': 3174, 'overdon': 3175, 'explicit': 3176, 'giallo': 3177, 'mock': 3178, 'forbidden': 3179, 'nerv': 3180, 'broad': 3181, 'eve': 3182, 'torment': 3183, 'fever': 3184, 'mel': 3185, 'awaken': 3186, 'unwatch': 3187, '2004': 3188, 'margaret': 3189, 'yesterday': 3190, 'thick': 3191, 'repeatedli': 3192, 'elderli': 3193, 'pirat': 3194, '99': 3195, 'awe': 3196, 'verhoeven': 3197, 'absenc': 3198, 'royal': 3199, 'custom': 3200, 'timothi': 3201, 'launch': 3202, 'roman': 3203, 'ambit': 3204, 'griffith': 3205, 'romero': 3206, 'automat': 3207, 'politician': 3208, 'bin': 3209, 'uniform': 3210, 'eas': 3211, 'stiller': 3212, 'publish': 3213, 'lean': 3214, 'kay': 3215, 'rivet': 3216, 'ah': 3217, 'acclaim': 3218, 'crook': 3219, 'termin': 3220, 'sunshin': 3221, 'darker': 3222, 'stinker': 3223, 'purpl': 3224, 'warren': 3225, 'transport': 3226, 'tomato': 3227, 'pierc': 3228, 'gabriel': 3229, 'foul': 3230, 'homicid': 3231, 'wallac': 3232, 'phrase': 3233, 'bathroom': 3234, 'antic': 3235, 'pulp': 3236, 'pray': 3237, 'packag': 3238, 'sixti': 3239, 'contrari': 3240, 'evolv': 3241, 'donna': 3242, 'revolutionari': 3243, 'coloni': 3244, 'marin': 3245, 'horrid': 3246, 'viciou': 3247, 'prom': 3248, 'brazil': 3249, 'li': 3250, '2003': 3251, 'eyr': 3252, 'album': 3253, 'juvenil': 3254, 'choreographi': 3255, 'kenneth': 3256, 'saint': 3257, 'q': 3258, 'ought': 3259, 'hollow': 3260, 'awak': 3261, 'karen': 3262, 'rambo': 3263, 'overr': 3264, 'candid': 3265, 'ireland': 3266, 'stole': 3267, 'blade': 3268, 'option': 3269, 'beatti': 3270, 'mummi': 3271, 'dose': 3272, 'twelv': 3273, 'kapoor': 3274, 'nerd': 3275, 'defi': 3276, 'conserv': 3277, 'boast': 3278, 'ramon': 3279, 'mildr': 3280, 'trio': 3281, 'global': 3282, 'collabor': 3283, 'funer': 3284, 'detract': 3285, 'flame': 3286, 'astonish': 3287, 'confirm': 3288, 'protest': 3289, 'altman': 3290, 'fulci': 3291, 'jazz': 3292, 'natali': 3293, 'kirk': 3294, 'leap': 3295, 'spit': 3296, 'nicholson': 3297, 'bottl': 3298, 'tommi': 3299, 'racial': 3300, 'delici': 3301, 'shade': 3302, 'whip': 3303, 'enterpris': 3304, 'destini': 3305, 'yellow': 3306, 'mystic': 3307, 'audio': 3308, 'bull': 3309, 'blake': 3310, 'staff': 3311, 'harder': 3312, 'swedish': 3313, 'todd': 3314, 'popcorn': 3315, 'reunit': 3316, 'meaningless': 3317, 'merci': 3318, 'fonda': 3319, 'threw': 3320, 'bedroom': 3321, 'enchant': 3322, 'altogeth': 3323, 'inherit': 3324, 'adolesc': 3325, 'pseudo': 3326, 'neo': 3327, 'visibl': 3328, 'vivid': 3329, 'madonna': 3330, 'fanat': 3331, 'suspici': 3332, 'moodi': 3333, 'roommat': 3334, 'reserv': 3335, 'uneven': 3336, 'synopsi': 3337, 'respond': 3338, 'voight': 3339, 'kennedi': 3340, 'ruthless': 3341, 'lawrenc': 3342, 'decor': 3343, 'befriend': 3344, 'leonard': 3345, 'tip': 3346, 'wire': 3347, 'jew': 3348, 'edi': 3349, 'exhibit': 3350, 'crocodil': 3351, 'atlanti': 3352, 'bust': 3353, 'await': 3354, 'lemmon': 3355, 'clint': 3356, 'chao': 3357, 'incident': 3358, 'audit': 3359, 'bold': 3360, 'rural': 3361, 'palma': 3362, 'voyag': 3363, 'holli': 3364, 'garner': 3365, 'carl': 3366, 'unsettl': 3367, 'bargain': 3368, 'centr': 3369, 'ventur': 3370, 'dimens': 3371, '2007': 3372, 'abysm': 3373, 'bradi': 3374, 'clumsi': 3375, 'nearbi': 3376, 'trail': 3377, 'troop': 3378, 'imperson': 3379, 'poetic': 3380, '2nd': 3381, 'immigr': 3382, 'echo': 3383, 'cari': 3384, 'versu': 3385, 'hart': 3386, 'daddi': 3387, 'cd': 3388, 'neglect': 3389, 'lit': 3390, 'cuba': 3391, 'mall': 3392, 'humili': 3393, 'characterist': 3394, 'acknowledg': 3395, 'ant': 3396, 'wealth': 3397, 'elimin': 3398, 'tiger': 3399, 'timon': 3400, 'solo': 3401, 'mistaken': 3402, 'repuls': 3403, 'celluloid': 3404, 'saga': 3405, 'marshal': 3406, 'collaps': 3407, 'domest': 3408, 'infect': 3409, 'jeffrey': 3410, 'prejudic': 3411, 'mickey': 3412, 'pun': 3413, 'paus': 3414, 'homer': 3415, 'leon': 3416, 'ginger': 3417, 'sore': 3418, 'pant': 3419, 'hbo': 3420, 'undoubtedli': 3421, 'inan': 3422, 'tribe': 3423, 'inappropri': 3424, 'interrupt': 3425, 'milk': 3426, 'coat': 3427, '1996': 3428, 'gear': 3429, 'assembl': 3430, 'harvey': 3431, 'equip': 3432, 'cake': 3433, 'chest': 3434, 'coffe': 3435, 'apolog': 3436, 'promin': 3437, 'olivi': 3438, 'aveng': 3439, 'florida': 3440, 'furthermor': 3441, 'trace': 3442, 'colonel': 3443, 'primari': 3444, 'exot': 3445, 'institut': 3446, 'instant': 3447, 'humbl': 3448, 'colleagu': 3449, 'airplan': 3450, 'pot': 3451, 'retain': 3452, 'highest': 3453, 'maggi': 3454, 'solut': 3455, 'vulgar': 3456, 'devast': 3457, 'brooklyn': 3458, 'consum': 3459, 'embrac': 3460, 'pen': 3461, 'jenni': 3462, 'polanski': 3463, 'descend': 3464, '1999': 3465, 'dutch': 3466, 'ya': 3467, 'poke': 3468, 'rick': 3469, 'smaller': 3470, 'sale': 3471, 'gender': 3472, 'illog': 3473, 'strain': 3474, 'seduct': 3475, 'dian': 3476, 'linda': 3477, 'cope': 3478, 'wive': 3479, 'godzilla': 3480, 'bowl': 3481, 'disabl': 3482, '3rd': 3483, 'outer': 3484, 'principl': 3485, 'dud': 3486, 'lol': 3487, 'gloriou': 3488, 'mixtur': 3489, 'inferior': 3490, 'scope': 3491, 'vast': 3492, 'dive': 3493, 'blatant': 3494, 'bubbl': 3495, 'primarili': 3496, 'devoid': 3497, 'predecessor': 3498, 'yard': 3499, 'glamor': 3500, 'secondli': 3501, 'beneath': 3502, 'hal': 3503, 'rabbit': 3504, 'gundam': 3505, 'cue': 3506, 'april': 3507, 'casual': 3508, 'z': 3509, 'garbo': 3510, 'talki': 3511, 'myer': 3512, 'alfr': 3513, 'museum': 3514, 'pearl': 3515, 'hideou': 3516, 'senseless': 3517, 'aggress': 3518, 'grinch': 3519, 'breed': 3520, 'streep': 3521, 'invas': 3522, 'simplist': 3523, 'countrysid': 3524, 'domino': 3525, 'shelf': 3526, 'et': 3527, 'alert': 3528, 'disjoint': 3529, 'trademark': 3530, 'arab': 3531, 'shirley': 3532, 'experiment': 3533, 'vanish': 3534, 'acid': 3535, 'sh': 3536, 'mayor': 3537, 'mail': 3538, 'illeg': 3539, 'stellar': 3540, 'disgrac': 3541, 'defens': 3542, 'slide': 3543, 'robinson': 3544, 'unhappi': 3545, 'hardcor': 3546, 'obtain': 3547, 'stack': 3548, 'maci': 3549, 'oz': 3550, 'rendit': 3551, 'hopeless': 3552, 'stir': 3553, 'uwe': 3554, 'applaud': 3555, 'boom': 3556, 'loyal': 3557, 'robberi': 3558, 'khan': 3559, 'tenant': 3560, 'blew': 3561, 'grandfath': 3562, 'craze': 3563, 'fri': 3564, 'rifl': 3565, 'span': 3566, 'dismiss': 3567, 'diana': 3568, 'scroog': 3569, 'counter': 3570, 'psychic': 3571, 'soccer': 3572, 'wont': 3573, 'amanda': 3574, 'dicken': 3575, 'topless': 3576, 'incomprehens': 3577, 'tempt': 3578, 'emphasi': 3579, 'recruit': 3580, 'declin': 3581, 'spider': 3582, 'hartley': 3583, 'berlin': 3584, 'intim': 3585, 'wet': 3586, 'ration': 3587, 'ethnic': 3588, 'riot': 3589, 'sympath': 3590, 'niro': 3591, 'revolt': 3592, 'parad': 3593, 'porno': 3594, 'faster': 3595, 'bitch': 3596, 'shed': 3597, 'goer': 3598, 'trashi': 3599, 'justin': 3600, 'shaw': 3601, 'woo': 3602, 'sibl': 3603, 'resurrect': 3604, 'lumet': 3605, 'choru': 3606, '00': 3607, 'farmer': 3608, 'enlighten': 3609, 'hopper': 3610, 'steam': 3611, 'nephew': 3612, 'unreal': 3613, 'wendi': 3614, 'jonathan': 3615, 'patriot': 3616, 'partial': 3617, 'rider': 3618, 'andr': 3619, 'slick': 3620, 'immort': 3621, 'worm': 3622, 'gap': 3623, 'honesti': 3624, 'hesit': 3625, 'region': 3626, 'mario': 3627, 'wheel': 3628, 'commend': 3629, 'eager': 3630, 'ballet': 3631, 'feminist': 3632, 'weakest': 3633, 'lena': 3634, 'dealer': 3635, 'ensur': 3636, 'biographi': 3637, 'sandra': 3638, 'blunt': 3639, 'snap': 3640, 'similarli': 3641, 'psychopath': 3642, 'morri': 3643, 'safeti': 3644, 'skull': 3645, 'sappi': 3646, 'hung': 3647, 'owen': 3648, 'prequel': 3649, 'charlott': 3650, 'wore': 3651, 'victori': 3652, 'nostalg': 3653, 'confin': 3654, 'mutant': 3655, 'vice': 3656, 'util': 3657, 'properti': 3658, 'kingdom': 3659, 'composit': 3660, 'franco': 3661, 'leo': 3662, 'repress': 3663, 'macarthur': 3664, 'kyle': 3665, 'drum': 3666, 'rocki': 3667, 'nervou': 3668, 'tail': 3669, 'emperor': 3670, 'bow': 3671, 'whoopi': 3672, 'montana': 3673, 'drain': 3674, 'bonu': 3675, 'deed': 3676, 'repli': 3677, 'hyde': 3678, 'recycl': 3679, 'compens': 3680, 'farrel': 3681, 'thru': 3682, 'tad': 3683, 'compass': 3684, 'speci': 3685, 'latin': 3686, 'despair': 3687, 'cg': 3688, 'rambl': 3689, '1972': 3690, 'miseri': 3691, 'exit': 3692, 'valuabl': 3693, 'bumbl': 3694, 'pattern': 3695, 'campbel': 3696, 'strand': 3697, 'dalton': 3698, 'rope': 3699, 'snl': 3700, 'dust': 3701, 'del': 3702, 'heartbreak': 3703, 'bergman': 3704, 'acquir': 3705, 'wacki': 3706, 'airport': 3707, 'pour': 3708, 'downhil': 3709, 'gimmick': 3710, 'contempl': 3711, 'rapist': 3712, 'romp': 3713, 'orson': 3714, 'rotten': 3715, 'mistress': 3716, 'tonight': 3717, '35': 3718, 'bleed': 3719, 'carradin': 3720, 'gal': 3721, 'percept': 3722, 'slug': 3723, 'oppress': 3724, 'radic': 3725, 'roth': 3726, 'da': 3727, 'chess': 3728, 'martian': 3729, 'olli': 3730, 'attorney': 3731, 'pervert': 3732, 'stilt': 3733, 'heal': 3734, 'banal': 3735, 'arc': 3736, 'edgar': 3737, 'pursuit': 3738, 'tackl': 3739, 'preach': 3740, 'slash': 3741, 'unpredict': 3742, '1983': 3743, 'melodi': 3744, 'belt': 3745, 'champion': 3746, 'tooth': 3747, 'shelley': 3748, 'taught': 3749, 'pervers': 3750, 'dazzl': 3751, 'programm': 3752, 'mislead': 3753, 'paltrow': 3754, 'arguabl': 3755, 'graham': 3756, 'sensat': 3757, 'marti': 3758, 'chicken': 3759, 'raymond': 3760, 'closest': 3761, 'poem': 3762, 'vengeanc': 3763, 'conneri': 3764, 'cleverli': 3765, 'gambl': 3766, 'employe': 3767, 'uplift': 3768, 'vocal': 3769, 'rubi': 3770, 'passeng': 3771, 'bela': 3772, 'tiresom': 3773, 'virginia': 3774, 'maid': 3775, 'franki': 3776, 'mesmer': 3777, 'plight': 3778, 'duval': 3779, 'orang': 3780, 'dixon': 3781, 'inject': 3782, 'scottish': 3783, 'paranoia': 3784, 'climact': 3785, 'secretli': 3786, 'lundgren': 3787, 'monologu': 3788, 'swallow': 3789, 'profan': 3790, 'calm': 3791, 'amitabh': 3792, 'pokemon': 3793, 'quarter': 3794, 'yawn': 3795, 'giggl': 3796, 'iran': 3797, '1968': 3798, 'numb': 3799, 'outing': 3800, 'volum': 3801, 'engross': 3802, 'crystal': 3803, 'clone': 3804, 'mute': 3805, 'whine': 3806, 'extens': 3807, 'bay': 3808, 'suffic': 3809, 'abraham': 3810, 'gerard': 3811, 'tube': 3812, 'convincingli': 3813, 'habit': 3814, 'sirk': 3815, 'meander': 3816, 'underst': 3817, 'im': 3818, 'lowest': 3819, 'fed': 3820, 'nichola': 3821, 'richardson': 3822, 'bend': 3823, 'earl': 3824, 'plod': 3825, 'abort': 3826, 'expand': 3827, 'backward': 3828, 'poetri': 3829, 'junior': 3830, 'spock': 3831, 'linger': 3832, 'chicago': 3833, 'dispos': 3834, 'profess': 3835, 'franci': 3836, 'frankenstein': 3837, 'grotesqu': 3838, 'trend': 3839, 'taxi': 3840, 'surpass': 3841, 'austen': 3842, 'septemb': 3843, 'ethan': 3844, 'compliment': 3845, 'sue': 3846, 'simplic': 3847, 'rubber': 3848, 'muddl': 3849, 'eugen': 3850, 'cannon': 3851, 'catchi': 3852, 'der': 3853, 'mundan': 3854, 'nostalgia': 3855, 'stallon': 3856, 'spoke': 3857, 'rant': 3858, 'tourist': 3859, 'myth': 3860, 'lure': 3861, 'literatur': 3862, 'waitress': 3863, 'econom': 3864, 'descent': 3865, 'dysfunct': 3866, 'hum': 3867, 'instrument': 3868, 'greedi': 3869, 'household': 3870, 'bacal': 3871, 'lang': 3872, 'coast': 3873, 'crucial': 3874, 'hello': 3875, 'dement': 3876, 'firstli': 3877, 'furi': 3878, 'molli': 3879, 'equival': 3880, 'duck': 3881, 'mankind': 3882, 'phantom': 3883, 'eaten': 3884, 'damon': 3885, 'recognis': 3886, 'sissi': 3887, 'mortal': 3888, 'insur': 3889, 'alongsid': 3890, 'randi': 3891, 'occupi': 3892, 'stale': 3893, 'dictat': 3894, 'deaf': 3895, 'irrelev': 3896, 'map': 3897, 'omen': 3898, 'flee': 3899, 'june': 3900, 'recognit': 3901, 'phoni': 3902, 'cent': 3903, 'louis': 3904, 'carel': 3905, 'likewis': 3906, 'rude': 3907, 'dreari': 3908, 'reign': 3909, 'cyborg': 3910, 'drake': 3911, 'onlin': 3912, 'bike': 3913, 'antwon': 3914, 'ashley': 3915, 'bump': 3916, 'newli': 3917, 'blackmail': 3918, 'heel': 3919, 'damm': 3920, '1973': 3921, 'buffalo': 3922, 'twilight': 3923, 'distinguish': 3924, 'freez': 3925, 'biko': 3926, 'loyalti': 3927, 'daisi': 3928, 'labor': 3929, 'wisdom': 3930, 'lengthi': 3931, 'rooney': 3932, 'grayson': 3933, 'unorigin': 3934, 'butler': 3935, 'ridden': 3936, 'provoc': 3937, 'barrymor': 3938, 'interior': 3939, 'emphas': 3940, 'approv': 3941, 'startl': 3942, 'inher': 3943, 'pink': 3944, 'exposur': 3945, 'basketbal': 3946, 'incorpor': 3947, 'baddi': 3948, 'boxer': 3949, 'worn': 3950, 'chronicl': 3951, 'sailor': 3952, 'attribut': 3953, 'analysi': 3954, 'proce': 3955, 'tunnel': 3956, 'nineti': 3957, 'prey': 3958, 'keith': 3959, 'vein': 3960, 'barrel': 3961, 'mighti': 3962, 'condemn': 3963, 'unrel': 3964, 'predat': 3965, 'nicol': 3966, 'drift': 3967, 'walsh': 3968, 'fleet': 3969, 'indiffer': 3970, 'underli': 3971, 'improvis': 3972, 'meyer': 3973, 'stalker': 3974, 'bunni': 3975, 'meg': 3976, 'robbin': 3977, 'hypnot': 3978, 'undeni': 3979, 'degrad': 3980, 'julian': 3981, 'elm': 3982, 'mormon': 3983, 'othello': 3984, 'millionair': 3985, 'er': 3986, 'substitut': 3987, 'simmon': 3988, 'belushi': 3989, 'carla': 3990, 'watson': 3991, 'firm': 3992, 'palac': 3993, 'priceless': 3994, 'exquisit': 3995, 'dolph': 3996, 'mtv': 3997, 'warmth': 3998, 'errol': 3999, 'greed': 4000, 'unawar': 4001, '3d': 4002, 'hay': 4003, 'reid': 4004, 'disord': 4005, 'novak': 4006, 'agenda': 4007, 'alarm': 4008, 'nyc': 4009, 'lampoon': 4010, 'shove': 4011, 'edgi': 4012, 'roof': 4013, 'vital': 4014, 'enthusiasm': 4015, 'alison': 4016, 'rukh': 4017, 'marion': 4018, 'spain': 4019, 'randomli': 4020, 'gestur': 4021, 'beatl': 4022, 'peck': 4023, 'israel': 4024, 'valentin': 4025, 'showdown': 4026, 'unleash': 4027, 'crown': 4028, 'championship': 4029, 'orlean': 4030, 'coup': 4031, 'eastern': 4032, 'simultan': 4033, 'campaign': 4034, 'sergeant': 4035, 'ponder': 4036, '13th': 4037, 'thompson': 4038, 'cassidi': 4039, 'minimum': 4040, 'iraq': 4041, 'what': 4042, 'drip': 4043, 'glanc': 4044, 'profit': 4045, '1933': 4046, 'session': 4047, 'distort': 4048, 'peril': 4049, 'testament': 4050, 'preserv': 4051, 'zizek': 4052, 'nun': 4053, 'pamela': 4054, 'angela': 4055, 'petti': 4056, 'unimagin': 4057, 'kurosawa': 4058, 'scotland': 4059, 'travesti': 4060, 'reson': 4061, 'restrain': 4062, 'calib': 4063, 'shootout': 4064, 'han': 4065, 'regist': 4066, 'stroke': 4067, 'crow': 4068, 'jan': 4069, 'din': 4070, 'perpetu': 4071, 'brenda': 4072, 'empathi': 4073, 'mon': 4074, 'wig': 4075, 'gentleman': 4076, '1984': 4077, 'bro': 4078, 'climat': 4079, 'rout': 4080, 'buster': 4081, 'stake': 4082, 'crawl': 4083, 'cream': 4084, 'quinn': 4085, 'contradict': 4086, 'realm': 4087, 'fido': 4088, 'sabrina': 4089, 'exposit': 4090, 'valley': 4091, 'represent': 4092, 'miyazaki': 4093, 'cooki': 4094, 'passabl': 4095, 'baldwin': 4096, 'distress': 4097, 'businessman': 4098, 'greg': 4099, 'cloud': 4100, 'censor': 4101, 'delic': 4102, '1987': 4103, 'demis': 4104, 'stargat': 4105, 'warrant': 4106, 'mclaglen': 4107, 'derang': 4108, 'traumat': 4109, 'shoddi': 4110, 'unsatisfi': 4111, 'painter': 4112, 'pole': 4113, 'monoton': 4114, 'tacki': 4115, 'ustinov': 4116, 'meryl': 4117, 'unseen': 4118, 'compromis': 4119, 'josh': 4120, 'absent': 4121, 'sammi': 4122, 'pretens': 4123, '1997': 4124, 'perceiv': 4125, 'darren': 4126, 'spacey': 4127, 'sucker': 4128, 'shaki': 4129, 'wax': 4130, 'abomin': 4131, 'dana': 4132, 'soderbergh': 4133, 'crawford': 4134, 'femm': 4135, 'fuller': 4136, 'geek': 4137, 'ross': 4138, 'polici': 4139, 'fog': 4140, 'verbal': 4141, '1993': 4142, 'norm': 4143, 'reluct': 4144, 'correctli': 4145, 'uncov': 4146, 'jewel': 4147, 'wholli': 4148, 'nathan': 4149, 'primit': 4150, 'anchor': 4151, 'furiou': 4152, 'accuraci': 4153, 'austin': 4154, 'exclus': 4155, 'valid': 4156, 'unravel': 4157, 'judgment': 4158, 'tech': 4159, 'seal': 4160, 'tarantino': 4161, 'click': 4162, 'expedit': 4163, 'clash': 4164, 'deniro': 4165, 'fenc': 4166, 'deceas': 4167, 'sid': 4168, 'kumar': 4169, 'dee': 4170, 'antonioni': 4171, 'fabric': 4172, 'seldom': 4173, 'logan': 4174, 'sand': 4175, 'hallucin': 4176, 'dreck': 4177, 'conduct': 4178, 'pocket': 4179, 'sheet': 4180, 'temper': 4181, '3000': 4182, 'nicola': 4183, 'behold': 4184, 'unfair': 4185, 'trait': 4186, 'tax': 4187, 'enforc': 4188, 'crippl': 4189, 'slam': 4190, 'shanghai': 4191, 'fought': 4192, 'vanc': 4193, 'darn': 4194, 'bake': 4195, 'patienc': 4196, 'roller': 4197, 'mode': 4198, 'fart': 4199, 'malon': 4200, 'wretch': 4201, 'debt': 4202, 'sustain': 4203, '1971': 4204, 'joel': 4205, '1995': 4206, 'ritual': 4207, 'murray': 4208, '2008': 4209, 'wang': 4210, 'sunni': 4211, 'clerk': 4212, 'alec': 4213, 'penni': 4214, 'helpless': 4215, 'technicolor': 4216, 'squad': 4217, 'robber': 4218, 'shell': 4219, 'stuart': 4220, 'runner': 4221, 'scriptwrit': 4222, 'legaci': 4223, 'stark': 4224, 'guitar': 4225, 'outlin': 4226, 'bias': 4227, 'exhaust': 4228, 'bridget': 4229, 'critiqu': 4230, 'preposter': 4231, 'grief': 4232, 'pete': 4233, 'schedul': 4234, 'clau': 4235, 'tactic': 4236, 'preston': 4237, 'soup': 4238, 'conscious': 4239, 'phil': 4240, 'despis': 4241, 'canyon': 4242, 'isabel': 4243, 'rita': 4244, 'sweep': 4245, 'divid': 4246, 'fundament': 4247, 'boyl': 4248, 'lacklust': 4249, 'implic': 4250, 'vomit': 4251, 'gregori': 4252, 'culmin': 4253, 'marc': 4254, 'liberti': 4255, 'alicia': 4256, 'rear': 4257, 'inabl': 4258, 'sugar': 4259, 'agenc': 4260, 'sentinel': 4261, 'consciou': 4262, 'jacket': 4263, 'drove': 4264, 'connor': 4265, 'downey': 4266, 'bloom': 4267, 'rehash': 4268, 'delv': 4269, 'propos': 4270, 'unexpectedli': 4271, 'jodi': 4272, 'russia': 4273, 'flair': 4274, 'sniper': 4275, 'cigarett': 4276, 'newman': 4277, 'alley': 4278, 'invad': 4279, 'passag': 4280, 'kansa': 4281, 'restrict': 4282, 'palanc': 4283, 'vet': 4284, 'tendenc': 4285, 'arrow': 4286, 'rehears': 4287, 'cap': 4288, 'behaviour': 4289, 'improb': 4290, 'rod': 4291, 'bacon': 4292, 'chainsaw': 4293, 'horn': 4294, 'tripe': 4295, 'ladder': 4296, 'mccoy': 4297, 'asylum': 4298, '1936': 4299, 'sharon': 4300, 'delet': 4301, 'wrench': 4302, 'kolchak': 4303, 'pale': 4304, 'yeti': 4305, 'foxx': 4306, 'aesthet': 4307, 'awhil': 4308, 'rampag': 4309, '22': 4310, 'feat': 4311, 'lush': 4312, 'karl': 4313, 'aristocrat': 4314, '1920': 4315, 'hungri': 4316, 'financ': 4317, 'el': 4318, 'conscienc': 4319, 'basing': 4320, 'newcom': 4321, 'shortcom': 4322, '1978': 4323, 'tomorrow': 4324, 'stream': 4325, 'prank': 4326, 'lurk': 4327, 'filler': 4328, 'visitor': 4329, 'tasteless': 4330, '1988': 4331, 'amazon': 4332, 'fright': 4333, 'suffici': 4334, 'paramount': 4335, 'globe': 4336, 'hulk': 4337, 'rhythm': 4338, '19th': 4339, 'underneath': 4340, 'rumor': 4341, 'hackney': 4342, 'loneli': 4343, 'sung': 4344, 'minu': 4345, 'weav': 4346, 'coaster': 4347, 'paradis': 4348, 'scoop': 4349, 'suspicion': 4350, 'spice': 4351, 'elit': 4352, 'wagner': 4353, 'wildli': 4354, 'thunderbird': 4355, 'teas': 4356, 'en': 4357, 'brit': 4358, 'quietli': 4359, 'grudg': 4360, 'atroc': 4361, 'choppi': 4362, 'heist': 4363, 'springer': 4364, 'recogniz': 4365, 'secondari': 4366, 'literari': 4367, 'smell': 4368, '75': 4369, '1939': 4370, 'impos': 4371, 'abrupt': 4372, 'hopkin': 4373, 'ram': 4374, 'cancer': 4375, 'wwe': 4376, 'entranc': 4377, 'chamberlain': 4378, 'leigh': 4379, 'iv': 4380, 'bread': 4381, 'naughti': 4382, 'couch': 4383, 'minist': 4384, 'counterpart': 4385, 'beverli': 4386, 'inmat': 4387, 'worship': 4388, 'immers': 4389, 'lectur': 4390, 'straightforward': 4391, 'dirt': 4392, 'penn': 4393, 'rub': 4394, 'curli': 4395, 'tierney': 4396, 'posey': 4397, 'ingeni': 4398, 'chavez': 4399, 'standout': 4400, '1989': 4401, 'paxton': 4402, 'misguid': 4403, 'nemesi': 4404, 'cattl': 4405, 'net': 4406, 'convert': 4407, 'skeptic': 4408, 'ace': 4409, 'policeman': 4410, 'geni': 4411, 'watcher': 4412, 'moreov': 4413, 'transcend': 4414, 'entitl': 4415, 'clan': 4416, 'injuri': 4417, '1986': 4418, 'quaid': 4419, 'duel': 4420, 'lindsay': 4421, 'bernard': 4422, 'laurenc': 4423, 'nolan': 4424, 'variat': 4425, 'morbid': 4426, 'enthral': 4427, 'missil': 4428, 'attenborough': 4429, 'heartfelt': 4430, 'yearn': 4431, 'sassi': 4432, 'sublim': 4433, 'esther': 4434, 'ratso': 4435, 'spiral': 4436, 'reliabl': 4437, 'graini': 4438, 'poe': 4439, 'egg': 4440, 'vader': 4441, 'rosemari': 4442, 'setup': 4443, 'hopelessli': 4444, 'enabl': 4445, 'diari': 4446, 'moder': 4447, 'hk': 4448, 'artsi': 4449, 'grin': 4450, 'bean': 4451, 'steadi': 4452, '1979': 4453, 'dont': 4454, 'tyler': 4455, 'puppi': 4456, 'brood': 4457, 'unexplain': 4458, 'mytholog': 4459, 'youngest': 4460, 'characteris': 4461, 'obstacl': 4462, 'out': 4463, 'buzz': 4464, 'carlito': 4465, 'kidman': 4466, 'facil': 4467, 'uncut': 4468, 'cruelti': 4469, 'kitti': 4470, 'bye': 4471, 'clueless': 4472, 'fuel': 4473, 'bounc': 4474, 'oblig': 4475, 'narrow': 4476, 'acquaint': 4477, 'bronson': 4478, 'heap': 4479, 'decept': 4480, 'brendan': 4481, 'bewar': 4482, 'patricia': 4483, 'despic': 4484, '1969': 4485, 'athlet': 4486, 'hammi': 4487, 'hain': 4488, 'gina': 4489, 'weather': 4490, 'underworld': 4491, 'sweat': 4492, 'martha': 4493, 'exterior': 4494, 'baffl': 4495, 'niec': 4496, 'gillian': 4497, 'disastr': 4498, 'effici': 4499, 'christin': 4500, 'spontan': 4501, 'preming': 4502, 'kline': 4503, '19': 4504, 'fontain': 4505, 'sooner': 4506, '73': 4507, 'preachi': 4508, 'headach': 4509, 'harmless': 4510, 'uh': 4511, 'outlaw': 4512, 'viewpoint': 4513, 'analyz': 4514, 'goof': 4515, 'angst': 4516, 'loi': 4517, 'sleepwalk': 4518, 'astound': 4519, 'mayhem': 4520, 'injur': 4521, 'enlist': 4522, 'dandi': 4523, 'trigger': 4524, 'hepburn': 4525, 'biker': 4526, 'candl': 4527, 'suprem': 4528, 'virtu': 4529, 'scar': 4530, 'housewif': 4531, 'lester': 4532, 'circu': 4533, 'tick': 4534, 'rome': 4535, 'renaiss': 4536, 'insipid': 4537, 'dilemma': 4538, 'taboo': 4539, 'mermaid': 4540, 'shatter': 4541, 'loath': 4542, 'steer': 4543, 'cassavet': 4544, 'intric': 4545, 'macho': 4546, 'fluff': 4547, 'spade': 4548, 'idol': 4549, 'overlong': 4550, 'contempt': 4551, 'dish': 4552, 'phenomenon': 4553, 'camcord': 4554, 'bent': 4555, 'hokey': 4556, 'dismal': 4557, 'surgeri': 4558, 'foolish': 4559, 'immatur': 4560, 'ebert': 4561, 'tripl': 4562, 'corbett': 4563, 'slimi': 4564, 'hostag': 4565, 'whore': 4566, 'amor': 4567, 'filth': 4568, 'stimul': 4569, 'salt': 4570, 'claustrophob': 4571, 'stair': 4572, 'redund': 4573, 'scorses': 4574, 'sox': 4575, 'gere': 4576, 'oldest': 4577, 'hooker': 4578, 'zoom': 4579, 'guin': 4580, 'boston': 4581, 'glorifi': 4582, 'ariel': 4583, '1981': 4584, 'dwarf': 4585, 'flirt': 4586, 'flag': 4587, 'transplant': 4588, 'fascist': 4589, 'strongest': 4590, 'beard': 4591, 'rhyme': 4592, 'frantic': 4593, 'spree': 4594, 'gasp': 4595, 'alvin': 4596, 'naschi': 4597, 'messi': 4598, 'flashi': 4599, 'perman': 4600, '1976': 4601, 'shred': 4602, 'conquer': 4603, 'zane': 4604, 'faint': 4605, 'widescreen': 4606, 'cow': 4607, 'harold': 4608, 'trivia': 4609, 'schlock': 4610, 'muscl': 4611, 'mutual': 4612, 'joker': 4613, 'mount': 4614, 'margin': 4615, 'remad': 4616, 'shield': 4617, 'down': 4618, 'cohen': 4619, 'proport': 4620, 'radiat': 4621, 'obligatori': 4622, 'astronaut': 4623, 'assert': 4624, 'gabl': 4625, 'antagonist': 4626, 'corman': 4627, 'keen': 4628, 'spinal': 4629, 'preced': 4630, 'cush': 4631, 'nolt': 4632, 'resum': 4633, 'bachelor': 4634, 'info': 4635, 'danish': 4636, 'mol': 4637, 'interestingli': 4638, 'flock': 4639, 'scandal': 4640, 'sensual': 4641, 'archiv': 4642, 'raj': 4643, 'instruct': 4644, 'off': 4645, 'strive': 4646, 'repris': 4647, 'claud': 4648, 'departur': 4649, 'discern': 4650, 'persuad': 4651, 'fishburn': 4652, 'vaniti': 4653, 'wield': 4654, 'bitten': 4655, 'www': 4656, '28': 4657, '95': 4658, 'inflict': 4659, 'boob': 4660, 'neurot': 4661, 'triangl': 4662, 'brush': 4663, 'someday': 4664, 'ritchi': 4665, 'barn': 4666, 'hara': 4667, 'divin': 4668, 'carey': 4669, 'deer': 4670, '1945': 4671, 'mobil': 4672, 'aborigin': 4673, 'traffic': 4674, 'axe': 4675, 'miracul': 4676, 'biblic': 4677, 'pacif': 4678, 'rot': 4679, 'cb': 4680, 'heartwarm': 4681, 'bate': 4682, 'ish': 4683, 'harrison': 4684, 'senior': 4685, 'proclaim': 4686, 'carlo': 4687, 'fragil': 4688, 'pixar': 4689, 'clad': 4690, 'earnest': 4691, 'anton': 4692, 'banter': 4693, 'cliffhang': 4694, 'hilar': 4695, 'dim': 4696, 'neill': 4697, 'cycl': 4698, 'kathryn': 4699, 'hapless': 4700, 'pickford': 4701, 'prophet': 4702, 'loretta': 4703, 'cher': 4704, 'artwork': 4705, 'melissa': 4706, 'timberlak': 4707, 'undermin': 4708, 'dylan': 4709, 'hug': 4710, 'frontier': 4711, 'submit': 4712, 'jade': 4713, 'helm': 4714, 'dame': 4715, 'europa': 4716, 'mobster': 4717, 'colin': 4718, 'recit': 4719, 'wendigo': 4720, 'parson': 4721, 'vibrant': 4722, 'luka': 4723, 'casino': 4724, 'http': 4725, 'lui': 4726, 'foil': 4727, 'winchest': 4728, 'northern': 4729, 'antholog': 4730, 'bondag': 4731, 'estrang': 4732, 'redneck': 4733, 'token': 4734, 'nope': 4735, 'wardrob': 4736, 'pc': 4737, 'jo': 4738, 'holocaust': 4739, 'orphan': 4740, 'feast': 4741, 'seedi': 4742, 'marlon': 4743, 'cerebr': 4744, 'choke': 4745, 'vile': 4746, 'articl': 4747, 'shepherd': 4748, 'eli': 4749, 'mathieu': 4750, 'vanessa': 4751, 'breakfast': 4752, 'illus': 4753, 'aris': 4754, 'static': 4755, 'rooki': 4756, 'uma': 4757, 'sicken': 4758, 'flavor': 4759, 'alexandr': 4760, 'misfortun': 4761, 'jordan': 4762, 'akin': 4763, 'trier': 4764, 'lucil': 4765, 'bikini': 4766, 'razor': 4767, 'legitim': 4768, 'blatantli': 4769, 'toronto': 4770, 'electron': 4771, 'mason': 4772, 'isra': 4773, 'venom': 4774, 'milo': 4775, 'boyer': 4776, 'tack': 4777, 'shorter': 4778, 'deem': 4779, 'abund': 4780, 'outdat': 4781, 'comprehend': 4782, 'swept': 4783, 'gunga': 4784, 'fifth': 4785, 'styliz': 4786, 'peer': 4787, 'clinic': 4788, 'glare': 4789, 'wrestler': 4790, 'disregard': 4791, 'gilbert': 4792, 'ceremoni': 4793, 'charlton': 4794, 'howl': 4795, 'smack': 4796, 'huston': 4797, 'retriev': 4798, 'audrey': 4799, 'oppon': 4800, 'ideolog': 4801, 'highway': 4802, 'nightclub': 4803, 'feminin': 4804, 'turd': 4805, 'leather': 4806, 'frog': 4807, 'dudley': 4808, 'psych': 4809, 'magician': 4810, 'cartoonish': 4811, 'linear': 4812, 'affleck': 4813, 'knightley': 4814, 'sleaz': 4815, 'goldsworthi': 4816, 'senat': 4817, 'breakdown': 4818, 'cemeteri': 4819, 'chip': 4820, 'monument': 4821, 'whack': 4822, 'moe': 4823, '4th': 4824, 'energet': 4825, 'lifeless': 4826, 'greet': 4827, 'bastard': 4828, 'corn': 4829, 'bogu': 4830, 'deliver': 4831, 'cuban': 4832, '1991': 4833, 'spine': 4834, '1994': 4835, 'client': 4836, 'plate': 4837, 'evolut': 4838, 'uniformli': 4839, 'potter': 4840, 'braveheart': 4841, 'phenomen': 4842, 'collector': 4843, 'lighter': 4844, 'toe': 4845, 'durat': 4846, 'tara': 4847, 'conrad': 4848, 'boo': 4849, 'newer': 4850, 'btw': 4851, 'spawn': 4852, 'snatch': 4853, 'salman': 4854, 'lavish': 4855, 'compris': 4856, 'mitch': 4857, 'summar': 4858, 'einstein': 4859, 'alleg': 4860, 'inaccuraci': 4861, 'jare': 4862, 'bori': 4863, 'clara': 4864, 'jedi': 4865, 'cecil': 4866, 'jule': 4867, '1974': 4868, 'occup': 4869, 'nina': 4870, 'randolph': 4871, 'firmli': 4872, 'undertak': 4873, 'fluid': 4874, 'eleven': 4875, 'luxuri': 4876, '1977': 4877, 'lex': 4878, 'kent': 4879, 'gilliam': 4880, 'mcqueen': 4881, 'signal': 4882, 'sorrow': 4883, 'undead': 4884, 'evelyn': 4885, 'armstrong': 4886, 'bulk': 4887, 'trauma': 4888, 'judd': 4889, 'belli': 4890, 'wtf': 4891, 'pronounc': 4892, 'spectacl': 4893, 'outright': 4894, 'capot': 4895, 'healthi': 4896, 'historian': 4897, 'constitut': 4898, 'embark': 4899, 'appl': 4900, 'liu': 4901, 'ie': 4902, 'ol': 4903, 'replay': 4904, 'creek': 4905, 'jam': 4906, 'neatli': 4907, 'kazan': 4908, 'lauren': 4909, 'inclus': 4910, 'blur': 4911, 'tokyo': 4912, 'decapit': 4913, 'carmen': 4914, 'roar': 4915, 'congratul': 4916, 'aussi': 4917, 'relentless': 4918, 'unsuspect': 4919, 'kiddi': 4920, 'forgiven': 4921, 'miniseri': 4922, 'conan': 4923, 'walt': 4924, 'porter': 4925, 'ash': 4926, 'groan': 4927, 'comb': 4928, 'lanc': 4929, 'meal': 4930, 'antonio': 4931, 'miami': 4932, 'palm': 4933, 'comprehens': 4934, 'vignett': 4935, '1985': 4936, 'galaxi': 4937, 'vain': 4938, 'pioneer': 4939, 'propheci': 4940, 'paula': 4941, 'subtli': 4942, 'truman': 4943, 'mum': 4944, 'spray': 4945, 'unattract': 4946, 'sacrif': 4947, 'inaccur': 4948, 'curtain': 4949, 'id': 4950, 'knee': 4951, 'abound': 4952, 'bsg': 4953, 'bait': 4954, 'goldblum': 4955, 'poker': 4956, 'pepper': 4957, 'sidewalk': 4958, 'genet': 4959, 'fruit': 4960, 'cape': 4961, 'rosario': 4962, 'basket': 4963, 'playboy': 4964, 'weari': 4965, 'ghetto': 4966, 'cypher': 4967, 'handicap': 4968, 'spill': 4969, 'scarfac': 4970, 'epitom': 4971, 'optimist': 4972, 'incorrect': 4973, 'detach': 4974, 'casper': 4975, 'profil': 4976, 'modest': 4977, 'monti': 4978, 'hostil': 4979, 'sparkl': 4980, 'growth': 4981, 'jill': 4982, 'reincarn': 4983, 'assort': 4984, 'asset': 4985, 'rapidli': 4986, 'weaker': 4987, 'motorcycl': 4988, 'sophi': 4989, 'dubiou': 4990, 'omin': 4991, 'frontal': 4992, 'drone': 4993, 'mice': 4994, 'hackman': 4995, 'orchestr': 4996, 'victorian': 4997, '21st': 4998, 'verg': 4999}\n"
     ]
    }
   ],
   "source": [
    "word_dict = build_dict(train_X)\n",
    "print (word_dict)"
   ]
  },
  {
   "cell_type": "markdown",
   "metadata": {},
   "source": [
    "**Question:** What are the five most frequently appearing (tokenized) words in the training set? Does it makes sense that these words appear frequently in the training set?"
   ]
  },
  {
   "cell_type": "markdown",
   "metadata": {},
   "source": [
    "**Answer:**"
   ]
  },
  {
   "cell_type": "code",
   "execution_count": 31,
   "metadata": {},
   "outputs": [
    {
     "data": {
      "text/plain": [
       "['movi', 'film', 'one', 'like', 'time']"
      ]
     },
     "execution_count": 31,
     "metadata": {},
     "output_type": "execute_result"
    }
   ],
   "source": [
    "#TODO: Use this space to determine the five most frequently appearing words in the training set.\n",
    "words= word_dict.keys()\n",
    "words=list(words)\n",
    "words[0:5]   # Answer:These are the words thats are usually used to review a movie, so its expected to have these words appear frequently"
   ]
  },
  {
   "cell_type": "markdown",
   "metadata": {},
   "source": [
    "### Save `word_dict`\n",
    "\n",
    "Later on when we construct an endpoint which processes a submitted review we will need to make use of the `word_dict` which we have created. As such, we will save it to a file now for future use."
   ]
  },
  {
   "cell_type": "code",
   "execution_count": 32,
   "metadata": {},
   "outputs": [],
   "source": [
    "data_dir = '../data/pytorch' # The folder we will use for storing data\n",
    "if not os.path.exists(data_dir): # Make sure that the folder exists\n",
    "    os.makedirs(data_dir)"
   ]
  },
  {
   "cell_type": "code",
   "execution_count": 33,
   "metadata": {},
   "outputs": [],
   "source": [
    "with open(os.path.join(data_dir, 'word_dict.pkl'), \"wb\") as f:\n",
    "    pickle.dump(word_dict, f)"
   ]
  },
  {
   "cell_type": "markdown",
   "metadata": {},
   "source": [
    "### Transform the reviews\n",
    "\n",
    "Now that we have our word dictionary which allows us to transform the words appearing in the reviews into integers, it is time to make use of it and convert our reviews to their integer sequence representation, making sure to pad or truncate to a fixed length, which in our case is `500`."
   ]
  },
  {
   "cell_type": "code",
   "execution_count": 34,
   "metadata": {},
   "outputs": [],
   "source": [
    "def convert_and_pad(word_dict, sentence, pad=500):\n",
    "    NOWORD = 0 # We will use 0 to represent the 'no word' category\n",
    "    INFREQ = 1 # and we use 1 to represent the infrequent words, i.e., words not appearing in word_dict\n",
    "    \n",
    "    working_sentence = [NOWORD] * pad\n",
    "    \n",
    "    for word_index, word in enumerate(sentence[:pad]):\n",
    "        if word in word_dict:\n",
    "            working_sentence[word_index] = word_dict[word]\n",
    "        else:\n",
    "            working_sentence[word_index] = INFREQ\n",
    "            \n",
    "    return working_sentence, min(len(sentence), pad)\n",
    "\n",
    "def convert_and_pad_data(word_dict, data, pad=500):\n",
    "    result = []\n",
    "    lengths = []\n",
    "    \n",
    "    for sentence in data:\n",
    "        converted, leng = convert_and_pad(word_dict, sentence, pad)\n",
    "        result.append(converted)\n",
    "        lengths.append(leng)\n",
    "        \n",
    "    return np.array(result), np.array(lengths)"
   ]
  },
  {
   "cell_type": "code",
   "execution_count": 35,
   "metadata": {},
   "outputs": [],
   "source": [
    "train_X, train_X_len = convert_and_pad_data(word_dict, train_X)\n",
    "test_X, test_X_len = convert_and_pad_data(word_dict, test_X)"
   ]
  },
  {
   "cell_type": "markdown",
   "metadata": {},
   "source": [
    "As a quick check to make sure that things are working as intended, check to see what one of the reviews in the training set looks like after having been processeed. Does this look reasonable? What is the length of a review in the training set?"
   ]
  },
  {
   "cell_type": "code",
   "execution_count": 36,
   "metadata": {},
   "outputs": [
    {
     "name": "stdout",
     "output_type": "stream",
     "text": [
      "[  55  130   38  135 1106  559 3150  723   48   24 1663  823 1500  409\n",
      " 4284  408    1  700  152  148  238  337   19    5  790  425    2  241\n",
      "  641  168 1408    1    6  231  285    3  504 2349   87    3    7   86\n",
      "  104 1643 1829  276    3 1506  789   65 4095 1510   24   28  408    1\n",
      "    1   60   17  832    7   31  233   21  448 1304    4   35   16  291\n",
      "    1  399  476  823  336    1  965   35   47  314    6  568  531   27\n",
      "    3 1083    4  463  425    2 2050 4356 1781   18  545 2324    3   82\n",
      "   16  109  158  897 1408  125  139    1 1641   22   14  216  607   45\n",
      "  611   22   56    2  122 4815  520 1712  823  199  316   38  216  932\n",
      "    1 1696   43   36   17  140  693  435   25 1769   58   35   82   40\n",
      "    0    0    0    0    0    0    0    0    0    0    0    0    0    0\n",
      "    0    0    0    0    0    0    0    0    0    0    0    0    0    0\n",
      "    0    0    0    0    0    0    0    0    0    0    0    0    0    0\n",
      "    0    0    0    0    0    0    0    0    0    0    0    0    0    0\n",
      "    0    0    0    0    0    0    0    0    0    0    0    0    0    0\n",
      "    0    0    0    0    0    0    0    0    0    0    0    0    0    0\n",
      "    0    0    0    0    0    0    0    0    0    0    0    0    0    0\n",
      "    0    0    0    0    0    0    0    0    0    0    0    0    0    0\n",
      "    0    0    0    0    0    0    0    0    0    0    0    0    0    0\n",
      "    0    0    0    0    0    0    0    0    0    0    0    0    0    0\n",
      "    0    0    0    0    0    0    0    0    0    0    0    0    0    0\n",
      "    0    0    0    0    0    0    0    0    0    0    0    0    0    0\n",
      "    0    0    0    0    0    0    0    0    0    0    0    0    0    0\n",
      "    0    0    0    0    0    0    0    0    0    0    0    0    0    0\n",
      "    0    0    0    0    0    0    0    0    0    0    0    0    0    0\n",
      "    0    0    0    0    0    0    0    0    0    0    0    0    0    0\n",
      "    0    0    0    0    0    0    0    0    0    0    0    0    0    0\n",
      "    0    0    0    0    0    0    0    0    0    0    0    0    0    0\n",
      "    0    0    0    0    0    0    0    0    0    0    0    0    0    0\n",
      "    0    0    0    0    0    0    0    0    0    0    0    0    0    0\n",
      "    0    0    0    0    0    0    0    0    0    0    0    0    0    0\n",
      "    0    0    0    0    0    0    0    0    0    0    0    0    0    0\n",
      "    0    0    0    0    0    0    0    0    0    0    0    0    0    0\n",
      "    0    0    0    0    0    0    0    0    0    0    0    0    0    0\n",
      "    0    0    0    0    0    0    0    0    0    0    0    0    0    0\n",
      "    0    0    0    0    0    0    0    0    0    0]\n",
      "[   4   53    2  709 2223   56  295  127   17    1  667  356  454  643\n",
      "  818  949   14  643   52   91   91 2807    1   17  896 4837  453  313\n",
      "  183   75 1670 2537 1687    2    1  909  958 1830    1    1  513  386\n",
      "  514 4153    3  338  502 1764    1  945    9  385  444    2  287  198\n",
      "  172  958  362  143  130   11    0    0    0    0    0    0    0    0\n",
      "    0    0    0    0    0    0    0    0    0    0    0    0    0    0\n",
      "    0    0    0    0    0    0    0    0    0    0    0    0    0    0\n",
      "    0    0    0    0    0    0    0    0    0    0    0    0    0    0\n",
      "    0    0    0    0    0    0    0    0    0    0    0    0    0    0\n",
      "    0    0    0    0    0    0    0    0    0    0    0    0    0    0\n",
      "    0    0    0    0    0    0    0    0    0    0    0    0    0    0\n",
      "    0    0    0    0    0    0    0    0    0    0    0    0    0    0\n",
      "    0    0    0    0    0    0    0    0    0    0    0    0    0    0\n",
      "    0    0    0    0    0    0    0    0    0    0    0    0    0    0\n",
      "    0    0    0    0    0    0    0    0    0    0    0    0    0    0\n",
      "    0    0    0    0    0    0    0    0    0    0    0    0    0    0\n",
      "    0    0    0    0    0    0    0    0    0    0    0    0    0    0\n",
      "    0    0    0    0    0    0    0    0    0    0    0    0    0    0\n",
      "    0    0    0    0    0    0    0    0    0    0    0    0    0    0\n",
      "    0    0    0    0    0    0    0    0    0    0    0    0    0    0\n",
      "    0    0    0    0    0    0    0    0    0    0    0    0    0    0\n",
      "    0    0    0    0    0    0    0    0    0    0    0    0    0    0\n",
      "    0    0    0    0    0    0    0    0    0    0    0    0    0    0\n",
      "    0    0    0    0    0    0    0    0    0    0    0    0    0    0\n",
      "    0    0    0    0    0    0    0    0    0    0    0    0    0    0\n",
      "    0    0    0    0    0    0    0    0    0    0    0    0    0    0\n",
      "    0    0    0    0    0    0    0    0    0    0    0    0    0    0\n",
      "    0    0    0    0    0    0    0    0    0    0    0    0    0    0\n",
      "    0    0    0    0    0    0    0    0    0    0    0    0    0    0\n",
      "    0    0    0    0    0    0    0    0    0    0    0    0    0    0\n",
      "    0    0    0    0    0    0    0    0    0    0    0    0    0    0\n",
      "    0    0    0    0    0    0    0    0    0    0    0    0    0    0\n",
      "    0    0    0    0    0    0    0    0    0    0    0    0    0    0\n",
      "    0    0    0    0    0    0    0    0    0    0    0    0    0    0\n",
      "    0    0    0    0    0    0    0    0    0    0    0    0    0    0\n",
      "    0    0    0    0    0    0    0    0    0    0]\n"
     ]
    }
   ],
   "source": [
    "# Use this cell to examine one of the processed reviews to make sure everything is working as intended.\n",
    "print(train_X[1])\n",
    "print(test_X[1])\n"
   ]
  },
  {
   "cell_type": "markdown",
   "metadata": {},
   "source": [
    "**Question:** In the cells above we use the `preprocess_data` and `convert_and_pad_data` methods to process both the training and testing set. Why or why not might this be a problem?"
   ]
  },
  {
   "cell_type": "markdown",
   "metadata": {},
   "source": [
    "**Answer:**  \n",
    " Applying preprocess_data and convert_and_pad_data methods to both the training and testing test is normal and it is not a problem as its normal to have the same level of pre processing  for both training and testing data set"
   ]
  },
  {
   "cell_type": "markdown",
   "metadata": {},
   "source": [
    "## Step 3: Upload the data to S3\n",
    "\n",
    "As in the XGBoost notebook, we will need to upload the training dataset to S3 in order for our training code to access it. For now we will save it locally and we will upload to S3 later on.\n",
    "\n",
    "### Save the processed training dataset locally\n",
    "\n",
    "It is important to note the format of the data that we are saving as we will need to know it when we write the training code. In our case, each row of the dataset has the form `label`, `length`, `review[500]` where `review[500]` is a sequence of `500` integers representing the words in the review."
   ]
  },
  {
   "cell_type": "code",
   "execution_count": 37,
   "metadata": {},
   "outputs": [],
   "source": [
    "import pandas as pd\n",
    "    \n",
    "pd.concat([pd.DataFrame(train_y), pd.DataFrame(train_X_len), pd.DataFrame(train_X)], axis=1) \\\n",
    "        .to_csv(os.path.join(data_dir, 'train.csv'), header=False, index=False)"
   ]
  },
  {
   "cell_type": "markdown",
   "metadata": {},
   "source": [
    "### Uploading the training data\n",
    "\n",
    "\n",
    "Next, we need to upload the training data to the SageMaker default S3 bucket so that we can provide access to it while training our model."
   ]
  },
  {
   "cell_type": "code",
   "execution_count": 38,
   "metadata": {},
   "outputs": [],
   "source": [
    "import sagemaker\n",
    "\n",
    "sagemaker_session = sagemaker.Session()\n",
    "\n",
    "bucket = sagemaker_session.default_bucket()\n",
    "prefix = 'sagemaker/sentiment_rnn'\n",
    "\n",
    "role = sagemaker.get_execution_role()"
   ]
  },
  {
   "cell_type": "code",
   "execution_count": 39,
   "metadata": {},
   "outputs": [],
   "source": [
    "input_data = sagemaker_session.upload_data(path=data_dir, bucket=bucket, key_prefix=prefix)"
   ]
  },
  {
   "cell_type": "markdown",
   "metadata": {},
   "source": [
    "**NOTE:** The cell above uploads the entire contents of our data directory. This includes the `word_dict.pkl` file. This is fortunate as we will need this later on when we create an endpoint that accepts an arbitrary review. For now, we will just take note of the fact that it resides in the data directory (and so also in the S3 training bucket) and that we will need to make sure it gets saved in the model directory."
   ]
  },
  {
   "cell_type": "markdown",
   "metadata": {},
   "source": [
    "## Step 4: Build and Train the PyTorch Model\n",
    "\n",
    "In the XGBoost notebook we discussed what a model is in the SageMaker framework. In particular, a model comprises three objects\n",
    "\n",
    " - Model Artifacts,\n",
    " - Training Code, and\n",
    " - Inference Code,\n",
    " \n",
    "each of which interact with one another. In the XGBoost example we used training and inference code that was provided by Amazon. Here we will still be using containers provided by Amazon with the added benefit of being able to include our own custom code.\n",
    "\n",
    "We will start by implementing our own neural network in PyTorch along with a training script. For the purposes of this project we have provided the necessary model object in the `model.py` file, inside of the `train` folder. You can see the provided implementation by running the cell below."
   ]
  },
  {
   "cell_type": "code",
   "execution_count": 40,
   "metadata": {},
   "outputs": [
    {
     "name": "stdout",
     "output_type": "stream",
     "text": [
      "\u001b[34mimport\u001b[39;49;00m \u001b[04m\u001b[36mtorch\u001b[39;49;00m\u001b[04m\u001b[36m.\u001b[39;49;00m\u001b[04m\u001b[36mnn\u001b[39;49;00m \u001b[34mas\u001b[39;49;00m \u001b[04m\u001b[36mnn\u001b[39;49;00m\r\n",
      "\r\n",
      "\u001b[34mclass\u001b[39;49;00m \u001b[04m\u001b[32mLSTMClassifier\u001b[39;49;00m(nn.Module):\r\n",
      "    \u001b[33m\"\"\"\u001b[39;49;00m\r\n",
      "\u001b[33m    This is the simple RNN model we will be using to perform Sentiment Analysis.\u001b[39;49;00m\r\n",
      "\u001b[33m    \"\"\"\u001b[39;49;00m\r\n",
      "\r\n",
      "    \u001b[34mdef\u001b[39;49;00m \u001b[32m__init__\u001b[39;49;00m(\u001b[36mself\u001b[39;49;00m, embedding_dim, hidden_dim, vocab_size):\r\n",
      "        \u001b[33m\"\"\"\u001b[39;49;00m\r\n",
      "\u001b[33m        Initialize the model by settingg up the various layers.\u001b[39;49;00m\r\n",
      "\u001b[33m        \"\"\"\u001b[39;49;00m\r\n",
      "        \u001b[36msuper\u001b[39;49;00m(LSTMClassifier, \u001b[36mself\u001b[39;49;00m).\u001b[32m__init__\u001b[39;49;00m()\r\n",
      "\r\n",
      "        \u001b[36mself\u001b[39;49;00m.embedding = nn.Embedding(vocab_size, embedding_dim, padding_idx=\u001b[34m0\u001b[39;49;00m)\r\n",
      "        \u001b[36mself\u001b[39;49;00m.lstm = nn.LSTM(embedding_dim, hidden_dim)\r\n",
      "        \u001b[36mself\u001b[39;49;00m.dense = nn.Linear(in_features=hidden_dim, out_features=\u001b[34m1\u001b[39;49;00m)\r\n",
      "        \u001b[36mself\u001b[39;49;00m.sig = nn.Sigmoid()\r\n",
      "        \r\n",
      "        \u001b[36mself\u001b[39;49;00m.word_dict = \u001b[34mNone\u001b[39;49;00m\r\n",
      "\r\n",
      "    \u001b[34mdef\u001b[39;49;00m \u001b[32mforward\u001b[39;49;00m(\u001b[36mself\u001b[39;49;00m, x):\r\n",
      "        \u001b[33m\"\"\"\u001b[39;49;00m\r\n",
      "\u001b[33m        Perform a forward pass of our model on some input.\u001b[39;49;00m\r\n",
      "\u001b[33m        \"\"\"\u001b[39;49;00m\r\n",
      "        x = x.t()\r\n",
      "        lengths = x[\u001b[34m0\u001b[39;49;00m,:]\r\n",
      "        reviews = x[\u001b[34m1\u001b[39;49;00m:,:]\r\n",
      "        embeds = \u001b[36mself\u001b[39;49;00m.embedding(reviews)\r\n",
      "        lstm_out, _ = \u001b[36mself\u001b[39;49;00m.lstm(embeds)\r\n",
      "        out = \u001b[36mself\u001b[39;49;00m.dense(lstm_out)\r\n",
      "        out = out[lengths - \u001b[34m1\u001b[39;49;00m, \u001b[36mrange\u001b[39;49;00m(\u001b[36mlen\u001b[39;49;00m(lengths))]\r\n",
      "        \u001b[34mreturn\u001b[39;49;00m \u001b[36mself\u001b[39;49;00m.sig(out.squeeze())\r\n"
     ]
    }
   ],
   "source": [
    "!pygmentize train/model.py"
   ]
  },
  {
   "cell_type": "markdown",
   "metadata": {},
   "source": [
    "The important takeaway from the implementation provided is that there are three parameters that we may wish to tweak to improve the performance of our model. These are the embedding dimension, the hidden dimension and the size of the vocabulary. We will likely want to make these parameters configurable in the training script so that if we wish to modify them we do not need to modify the script itself. We will see how to do this later on. To start we will write some of the training code in the notebook so that we can more easily diagnose any issues that arise.\n",
    "\n",
    "First we will load a small portion of the training data set to use as a sample. It would be very time consuming to try and train the model completely in the notebook as we do not have access to a gpu and the compute instance that we are using is not particularly powerful. However, we can work on a small bit of the data to get a feel for how our training script is behaving."
   ]
  },
  {
   "cell_type": "code",
   "execution_count": 41,
   "metadata": {},
   "outputs": [],
   "source": [
    "import torch\n",
    "import torch.utils.data\n",
    "\n",
    "# Read in only the first 250 rows\n",
    "train_sample = pd.read_csv(os.path.join(data_dir, 'train.csv'), header=None, names=None, nrows=250)\n",
    "\n",
    "# Turn the input pandas dataframe into tensors\n",
    "train_sample_y = torch.from_numpy(train_sample[[0]].values).float().squeeze()\n",
    "train_sample_X = torch.from_numpy(train_sample.drop([0], axis=1).values).long()\n",
    "\n",
    "# Build the dataset\n",
    "train_sample_ds = torch.utils.data.TensorDataset(train_sample_X, train_sample_y)\n",
    "# Build the dataloader\n",
    "train_sample_dl = torch.utils.data.DataLoader(train_sample_ds, batch_size=50)"
   ]
  },
  {
   "cell_type": "markdown",
   "metadata": {},
   "source": [
    "### (TODO) Writing the training method\n",
    "\n",
    "Next we need to write the training code itself. This should be very similar to training methods that you have written before to train PyTorch models. We will leave any difficult aspects such as model saving / loading and parameter loading until a little later."
   ]
  },
  {
   "cell_type": "code",
   "execution_count": 42,
   "metadata": {},
   "outputs": [],
   "source": [
    "def train(model, train_loader, epochs, optimizer, loss_fn, device):\n",
    "    for epoch in range(1, epochs + 1):\n",
    "        model.train()\n",
    "        total_loss = 0\n",
    "        for batch in train_loader:         \n",
    "            batch_X, batch_y = batch\n",
    "            \n",
    "            batch_X = batch_X.to(device)\n",
    "            batch_y = batch_y.to(device)\n",
    "            \n",
    "            # TODO: Complete this train method to train the model provided.\n",
    "            # forward + backward + optimize\n",
    "            optimizer.zero_grad()                           # clear gradients \n",
    "            output = model.forward(batch_X)                   #  output\n",
    "            loss = loss_fn(output, batch_y)                   # cross entropy loss\n",
    "            loss.backward()                                 # backpropagation, compute gradients\n",
    "            optimizer.step()   \n",
    "        \n",
    "            total_loss += loss.data.item()\n",
    "        print(\"Epoch: {}, BCELoss: {}\".format(epoch, total_loss / len(train_loader)))"
   ]
  },
  {
   "cell_type": "markdown",
   "metadata": {},
   "source": [
    "Supposing we have the training method above, we will test that it is working by writing a bit of code in the notebook that executes our training method on the small sample training set that we loaded earlier. The reason for doing this in the notebook is so that we have an opportunity to fix any errors that arise early when they are easier to diagnose."
   ]
  },
  {
   "cell_type": "code",
   "execution_count": 43,
   "metadata": {},
   "outputs": [
    {
     "name": "stdout",
     "output_type": "stream",
     "text": [
      "Epoch: 1, BCELoss: 0.6944789171218873\n",
      "Epoch: 2, BCELoss: 0.6852184653282165\n",
      "Epoch: 3, BCELoss: 0.6773486137390137\n",
      "Epoch: 4, BCELoss: 0.6685179591178894\n",
      "Epoch: 5, BCELoss: 0.6575161695480347\n"
     ]
    }
   ],
   "source": [
    "import torch.optim as optim\n",
    "from train.model import LSTMClassifier\n",
    "\n",
    "device = torch.device(\"cuda\" if torch.cuda.is_available() else \"cpu\")\n",
    "model = LSTMClassifier(32, 100, 5000).to(device)\n",
    "optimizer = optim.Adam(model.parameters())\n",
    "loss_fn = torch.nn.BCELoss()\n",
    "\n",
    "train(model, train_sample_dl, 5, optimizer, loss_fn, device)"
   ]
  },
  {
   "cell_type": "markdown",
   "metadata": {},
   "source": [
    "In order to construct a PyTorch model using SageMaker we must provide SageMaker with a training script. We may optionally include a directory which will be copied to the container and from which our training code will be run. When the training container is executed it will check the uploaded directory (if there is one) for a `requirements.txt` file and install any required Python libraries, after which the training script will be run."
   ]
  },
  {
   "cell_type": "markdown",
   "metadata": {},
   "source": [
    "### (TODO) Training the model\n",
    "\n",
    "When a PyTorch model is constructed in SageMaker, an entry point must be specified. This is the Python file which will be executed when the model is trained. Inside of the `train` directory is a file called `train.py` which has been provided and which contains most of the necessary code to train our model. The only thing that is missing is the implementation of the `train()` method which you wrote earlier in this notebook.\n",
    "\n",
    "**TODO**: Copy the `train()` method written above and paste it into the `train/train.py` file where required.\n",
    "\n",
    "The way that SageMaker passes hyperparameters to the training script is by way of arguments. These arguments can then be parsed and used in the training script. To see how this is done take a look at the provided `train/train.py` file."
   ]
  },
  {
   "cell_type": "code",
   "execution_count": 44,
   "metadata": {},
   "outputs": [],
   "source": [
    "from sagemaker.pytorch import PyTorch\n",
    "\n",
    "estimator = PyTorch(entry_point=\"train.py\",\n",
    "                    source_dir=\"train\",\n",
    "                    role=role,\n",
    "                    framework_version='0.4.0',\n",
    "                    train_instance_count=1,\n",
    "                    train_instance_type='ml.p2.xlarge',\n",
    "                    hyperparameters={\n",
    "                        'epochs': 10,\n",
    "                        'hidden_dim': 200,\n",
    "                    })"
   ]
  },
  {
   "cell_type": "code",
   "execution_count": 45,
   "metadata": {},
   "outputs": [
    {
     "name": "stdout",
     "output_type": "stream",
     "text": [
      "2020-05-19 13:27:59 Starting - Starting the training job...\n",
      "2020-05-19 13:28:00 Starting - Launching requested ML instances......\n",
      "2020-05-19 13:29:06 Starting - Preparing the instances for training......\n",
      "2020-05-19 13:30:11 Downloading - Downloading input data...\n",
      "2020-05-19 13:30:43 Training - Downloading the training image...\n",
      "2020-05-19 13:31:13 Training - Training image download completed. Training in progress.\u001b[34mbash: cannot set terminal process group (-1): Inappropriate ioctl for device\u001b[0m\n",
      "\u001b[34mbash: no job control in this shell\u001b[0m\n",
      "\u001b[34m2020-05-19 13:31:14,810 sagemaker-containers INFO     Imported framework sagemaker_pytorch_container.training\u001b[0m\n",
      "\u001b[34m2020-05-19 13:31:14,835 sagemaker_pytorch_container.training INFO     Block until all host DNS lookups succeed.\u001b[0m\n",
      "\u001b[34m2020-05-19 13:31:21,055 sagemaker_pytorch_container.training INFO     Invoking user training script.\u001b[0m\n",
      "\u001b[34m2020-05-19 13:31:21,279 sagemaker-containers INFO     Module train does not provide a setup.py. \u001b[0m\n",
      "\u001b[34mGenerating setup.py\u001b[0m\n",
      "\u001b[34m2020-05-19 13:31:21,280 sagemaker-containers INFO     Generating setup.cfg\u001b[0m\n",
      "\u001b[34m2020-05-19 13:31:21,280 sagemaker-containers INFO     Generating MANIFEST.in\u001b[0m\n",
      "\u001b[34m2020-05-19 13:31:21,280 sagemaker-containers INFO     Installing module with the following command:\u001b[0m\n",
      "\u001b[34m/usr/bin/python -m pip install -U . -r requirements.txt\u001b[0m\n",
      "\u001b[34mProcessing /opt/ml/code\u001b[0m\n",
      "\u001b[34mCollecting pandas (from -r requirements.txt (line 1))\n",
      "  Downloading https://files.pythonhosted.org/packages/74/24/0cdbf8907e1e3bc5a8da03345c23cbed7044330bb8f73bb12e711a640a00/pandas-0.24.2-cp35-cp35m-manylinux1_x86_64.whl (10.0MB)\u001b[0m\n",
      "\u001b[34mCollecting numpy (from -r requirements.txt (line 2))\n",
      "  Downloading https://files.pythonhosted.org/packages/38/92/fa5295d9755c7876cb8490eab866e1780154033fa45978d9cf74ffbd4c68/numpy-1.18.4-cp35-cp35m-manylinux1_x86_64.whl (20.0MB)\u001b[0m\n",
      "\u001b[34mCollecting nltk (from -r requirements.txt (line 3))\n",
      "  Downloading https://files.pythonhosted.org/packages/92/75/ce35194d8e3022203cca0d2f896dbb88689f9b3fce8e9f9cff942913519d/nltk-3.5.zip (1.4MB)\u001b[0m\n",
      "\u001b[34mCollecting beautifulsoup4 (from -r requirements.txt (line 4))\n",
      "  Downloading https://files.pythonhosted.org/packages/66/25/ff030e2437265616a1e9b25ccc864e0371a0bc3adb7c5a404fd661c6f4f6/beautifulsoup4-4.9.1-py3-none-any.whl (115kB)\u001b[0m\n",
      "\u001b[34mCollecting html5lib (from -r requirements.txt (line 5))\n",
      "  Downloading https://files.pythonhosted.org/packages/a5/62/bbd2be0e7943ec8504b517e62bab011b4946e1258842bc159e5dfde15b96/html5lib-1.0.1-py2.py3-none-any.whl (117kB)\u001b[0m\n",
      "\u001b[34mCollecting pytz>=2011k (from pandas->-r requirements.txt (line 1))\n",
      "  Downloading https://files.pythonhosted.org/packages/4f/a4/879454d49688e2fad93e59d7d4efda580b783c745fd2ec2a3adf87b0808d/pytz-2020.1-py2.py3-none-any.whl (510kB)\u001b[0m\n",
      "\u001b[34mRequirement already satisfied, skipping upgrade: python-dateutil>=2.5.0 in /usr/local/lib/python3.5/dist-packages (from pandas->-r requirements.txt (line 1)) (2.7.5)\u001b[0m\n",
      "\u001b[34mRequirement already satisfied, skipping upgrade: click in /usr/local/lib/python3.5/dist-packages (from nltk->-r requirements.txt (line 3)) (7.0)\u001b[0m\n",
      "\u001b[34mCollecting joblib (from nltk->-r requirements.txt (line 3))\n",
      "  Downloading https://files.pythonhosted.org/packages/28/5c/cf6a2b65a321c4a209efcdf64c2689efae2cb62661f8f6f4bb28547cf1bf/joblib-0.14.1-py2.py3-none-any.whl (294kB)\u001b[0m\n",
      "\u001b[34mCollecting regex (from nltk->-r requirements.txt (line 3))\n",
      "  Downloading https://files.pythonhosted.org/packages/14/8d/d44863d358e9dba3bdfb06099bbbeddbac8fb360773ba73250a849af4b01/regex-2020.5.14.tar.gz (696kB)\u001b[0m\n",
      "\u001b[34mCollecting tqdm (from nltk->-r requirements.txt (line 3))\n",
      "  Downloading https://files.pythonhosted.org/packages/c9/40/058b12e8ba10e35f89c9b1fdfc2d4c7f8c05947df2d5eb3c7b258019fda0/tqdm-4.46.0-py2.py3-none-any.whl (63kB)\u001b[0m\n",
      "\u001b[34mCollecting soupsieve>1.2 (from beautifulsoup4->-r requirements.txt (line 4))\n",
      "  Downloading https://files.pythonhosted.org/packages/6f/8f/457f4a5390eeae1cc3aeab89deb7724c965be841ffca6cfca9197482e470/soupsieve-2.0.1-py3-none-any.whl\u001b[0m\n",
      "\u001b[34mRequirement already satisfied, skipping upgrade: six>=1.9 in /usr/local/lib/python3.5/dist-packages (from html5lib->-r requirements.txt (line 5)) (1.11.0)\u001b[0m\n",
      "\u001b[34mCollecting webencodings (from html5lib->-r requirements.txt (line 5))\n",
      "  Downloading https://files.pythonhosted.org/packages/f4/24/2a3e3df732393fed8b3ebf2ec078f05546de641fe1b667ee316ec1dcf3b7/webencodings-0.5.1-py2.py3-none-any.whl\u001b[0m\n",
      "\u001b[34mBuilding wheels for collected packages: nltk, train, regex\n",
      "  Running setup.py bdist_wheel for nltk: started\u001b[0m\n",
      "\u001b[34m  Running setup.py bdist_wheel for nltk: finished with status 'done'\n",
      "  Stored in directory: /root/.cache/pip/wheels/ae/8c/3f/b1fe0ba04555b08b57ab52ab7f86023639a526d8bc8d384306\n",
      "  Running setup.py bdist_wheel for train: started\n",
      "  Running setup.py bdist_wheel for train: finished with status 'done'\n",
      "  Stored in directory: /tmp/pip-ephem-wheel-cache-k_55_y9_/wheels/35/24/16/37574d11bf9bde50616c67372a334f94fa8356bc7164af8ca3\n",
      "  Running setup.py bdist_wheel for regex: started\u001b[0m\n",
      "\u001b[34m  Running setup.py bdist_wheel for regex: finished with status 'done'\n",
      "  Stored in directory: /root/.cache/pip/wheels/ee/3a/5c/1f0ce151d6ddeee56e03e933603e21b5b8dcc727989fde82f5\u001b[0m\n",
      "\u001b[34mSuccessfully built nltk train regex\u001b[0m\n",
      "\u001b[34mInstalling collected packages: pytz, numpy, pandas, joblib, regex, tqdm, nltk, soupsieve, beautifulsoup4, webencodings, html5lib, train\n",
      "  Found existing installation: numpy 1.15.4\n",
      "    Uninstalling numpy-1.15.4:\u001b[0m\n",
      "\u001b[34m      Successfully uninstalled numpy-1.15.4\u001b[0m\n",
      "\u001b[34mSuccessfully installed beautifulsoup4-4.9.1 html5lib-1.0.1 joblib-0.14.1 nltk-3.5 numpy-1.18.4 pandas-0.24.2 pytz-2020.1 regex-2020.5.14 soupsieve-2.0.1 tqdm-4.46.0 train-1.0.0 webencodings-0.5.1\u001b[0m\n",
      "\u001b[34mYou are using pip version 18.1, however version 20.1.1 is available.\u001b[0m\n",
      "\u001b[34mYou should consider upgrading via the 'pip install --upgrade pip' command.\u001b[0m\n",
      "\u001b[34m2020-05-19 13:31:43,494 sagemaker-containers INFO     Invoking user script\n",
      "\u001b[0m\n",
      "\u001b[34mTraining Env:\n",
      "\u001b[0m\n",
      "\u001b[34m{\n",
      "    \"input_config_dir\": \"/opt/ml/input/config\",\n",
      "    \"channel_input_dirs\": {\n",
      "        \"training\": \"/opt/ml/input/data/training\"\n",
      "    },\n",
      "    \"additional_framework_parameters\": {},\n",
      "    \"model_dir\": \"/opt/ml/model\",\n",
      "    \"framework_module\": \"sagemaker_pytorch_container.training:main\",\n",
      "    \"input_data_config\": {\n",
      "        \"training\": {\n",
      "            \"TrainingInputMode\": \"File\",\n",
      "            \"RecordWrapperType\": \"None\",\n",
      "            \"S3DistributionType\": \"FullyReplicated\"\n",
      "        }\n",
      "    },\n",
      "    \"resource_config\": {\n",
      "        \"current_host\": \"algo-1\",\n",
      "        \"network_interface_name\": \"eth0\",\n",
      "        \"hosts\": [\n",
      "            \"algo-1\"\n",
      "        ]\n",
      "    },\n",
      "    \"log_level\": 20,\n",
      "    \"output_dir\": \"/opt/ml/output\",\n",
      "    \"num_gpus\": 1,\n",
      "    \"output_data_dir\": \"/opt/ml/output/data\",\n",
      "    \"network_interface_name\": \"eth0\",\n",
      "    \"user_entry_point\": \"train.py\",\n",
      "    \"current_host\": \"algo-1\",\n",
      "    \"hosts\": [\n",
      "        \"algo-1\"\n",
      "    ],\n",
      "    \"module_dir\": \"s3://sagemaker-us-east-2-680807780306/sagemaker-pytorch-2020-05-19-13-27-58-549/source/sourcedir.tar.gz\",\n",
      "    \"input_dir\": \"/opt/ml/input\",\n",
      "    \"output_intermediate_dir\": \"/opt/ml/output/intermediate\",\n",
      "    \"job_name\": \"sagemaker-pytorch-2020-05-19-13-27-58-549\",\n",
      "    \"module_name\": \"train\",\n",
      "    \"num_cpus\": 4,\n",
      "    \"hyperparameters\": {\n",
      "        \"epochs\": 10,\n",
      "        \"hidden_dim\": 200\n",
      "    }\u001b[0m\n",
      "\u001b[34m}\n",
      "\u001b[0m\n",
      "\u001b[34mEnvironment variables:\n",
      "\u001b[0m\n",
      "\u001b[34mSM_CURRENT_HOST=algo-1\u001b[0m\n",
      "\u001b[34mSM_OUTPUT_DATA_DIR=/opt/ml/output/data\u001b[0m\n",
      "\u001b[34mSM_MODULE_NAME=train\u001b[0m\n",
      "\u001b[34mSM_TRAINING_ENV={\"additional_framework_parameters\":{},\"channel_input_dirs\":{\"training\":\"/opt/ml/input/data/training\"},\"current_host\":\"algo-1\",\"framework_module\":\"sagemaker_pytorch_container.training:main\",\"hosts\":[\"algo-1\"],\"hyperparameters\":{\"epochs\":10,\"hidden_dim\":200},\"input_config_dir\":\"/opt/ml/input/config\",\"input_data_config\":{\"training\":{\"RecordWrapperType\":\"None\",\"S3DistributionType\":\"FullyReplicated\",\"TrainingInputMode\":\"File\"}},\"input_dir\":\"/opt/ml/input\",\"job_name\":\"sagemaker-pytorch-2020-05-19-13-27-58-549\",\"log_level\":20,\"model_dir\":\"/opt/ml/model\",\"module_dir\":\"s3://sagemaker-us-east-2-680807780306/sagemaker-pytorch-2020-05-19-13-27-58-549/source/sourcedir.tar.gz\",\"module_name\":\"train\",\"network_interface_name\":\"eth0\",\"num_cpus\":4,\"num_gpus\":1,\"output_data_dir\":\"/opt/ml/output/data\",\"output_dir\":\"/opt/ml/output\",\"output_intermediate_dir\":\"/opt/ml/output/intermediate\",\"resource_config\":{\"current_host\":\"algo-1\",\"hosts\":[\"algo-1\"],\"network_interface_name\":\"eth0\"},\"user_entry_point\":\"train.py\"}\u001b[0m\n",
      "\u001b[34mSM_FRAMEWORK_MODULE=sagemaker_pytorch_container.training:main\u001b[0m\n",
      "\u001b[34mPYTHONPATH=/usr/local/bin:/usr/lib/python35.zip:/usr/lib/python3.5:/usr/lib/python3.5/plat-x86_64-linux-gnu:/usr/lib/python3.5/lib-dynload:/usr/local/lib/python3.5/dist-packages:/usr/lib/python3/dist-packages\u001b[0m\n",
      "\u001b[34mSM_NUM_CPUS=4\u001b[0m\n",
      "\u001b[34mSM_INPUT_DATA_CONFIG={\"training\":{\"RecordWrapperType\":\"None\",\"S3DistributionType\":\"FullyReplicated\",\"TrainingInputMode\":\"File\"}}\u001b[0m\n",
      "\u001b[34mSM_USER_ENTRY_POINT=train.py\u001b[0m\n",
      "\u001b[34mSM_OUTPUT_INTERMEDIATE_DIR=/opt/ml/output/intermediate\u001b[0m\n",
      "\u001b[34mSM_HOSTS=[\"algo-1\"]\u001b[0m\n",
      "\u001b[34mSM_FRAMEWORK_PARAMS={}\u001b[0m\n",
      "\u001b[34mSM_INPUT_CONFIG_DIR=/opt/ml/input/config\u001b[0m\n",
      "\u001b[34mSM_NUM_GPUS=1\u001b[0m\n",
      "\u001b[34mSM_MODULE_DIR=s3://sagemaker-us-east-2-680807780306/sagemaker-pytorch-2020-05-19-13-27-58-549/source/sourcedir.tar.gz\u001b[0m\n",
      "\u001b[34mSM_RESOURCE_CONFIG={\"current_host\":\"algo-1\",\"hosts\":[\"algo-1\"],\"network_interface_name\":\"eth0\"}\u001b[0m\n",
      "\u001b[34mSM_HPS={\"epochs\":10,\"hidden_dim\":200}\u001b[0m\n",
      "\u001b[34mSM_HP_EPOCHS=10\u001b[0m\n",
      "\u001b[34mSM_LOG_LEVEL=20\u001b[0m\n",
      "\u001b[34mSM_NETWORK_INTERFACE_NAME=eth0\u001b[0m\n",
      "\u001b[34mSM_CHANNEL_TRAINING=/opt/ml/input/data/training\u001b[0m\n",
      "\u001b[34mSM_MODEL_DIR=/opt/ml/model\u001b[0m\n",
      "\u001b[34mSM_OUTPUT_DIR=/opt/ml/output\u001b[0m\n",
      "\u001b[34mSM_INPUT_DIR=/opt/ml/input\u001b[0m\n",
      "\u001b[34mSM_HP_HIDDEN_DIM=200\u001b[0m\n",
      "\u001b[34mSM_CHANNELS=[\"training\"]\u001b[0m\n",
      "\u001b[34mSM_USER_ARGS=[\"--epochs\",\"10\",\"--hidden_dim\",\"200\"]\n",
      "\u001b[0m\n",
      "\u001b[34mInvoking script with the following command:\n",
      "\u001b[0m\n",
      "\u001b[34m/usr/bin/python -m train --epochs 10 --hidden_dim 200\n",
      "\n",
      "\u001b[0m\n",
      "\u001b[34mUsing device cuda.\u001b[0m\n",
      "\u001b[34mGet train data loader.\u001b[0m\n"
     ]
    },
    {
     "name": "stdout",
     "output_type": "stream",
     "text": [
      "\u001b[34mModel loaded with embedding_dim 32, hidden_dim 200, vocab_size 5000.\u001b[0m\n",
      "\u001b[34mEpoch: 1, BCELoss: 0.6708584172385079\u001b[0m\n",
      "\u001b[34mEpoch: 2, BCELoss: 0.5983176486832755\u001b[0m\n",
      "\u001b[34mEpoch: 3, BCELoss: 0.5125468786881895\u001b[0m\n",
      "\u001b[34mEpoch: 4, BCELoss: 0.4382719397544861\u001b[0m\n",
      "\u001b[34mEpoch: 5, BCELoss: 0.42626156733960524\u001b[0m\n",
      "\u001b[34mEpoch: 6, BCELoss: 0.362564532732477\u001b[0m\n",
      "\u001b[34mEpoch: 7, BCELoss: 0.333485448238801\u001b[0m\n",
      "\u001b[34mEpoch: 8, BCELoss: 0.3095422898020063\u001b[0m\n",
      "\u001b[34mEpoch: 9, BCELoss: 0.2878213311944689\u001b[0m\n",
      "\u001b[34mEpoch: 10, BCELoss: 0.276437517331571\u001b[0m\n",
      "\u001b[34m2020-05-19 13:34:39,574 sagemaker-containers INFO     Reporting training SUCCESS\u001b[0m\n",
      "\n",
      "2020-05-19 13:34:48 Uploading - Uploading generated training model\n",
      "2020-05-19 13:34:48 Completed - Training job completed\n",
      "Training seconds: 277\n",
      "Billable seconds: 277\n"
     ]
    }
   ],
   "source": [
    "estimator.fit({'training': input_data})"
   ]
  },
  {
   "cell_type": "markdown",
   "metadata": {},
   "source": [
    "## Step 5: Testing the model\n",
    "\n",
    "As mentioned at the top of this notebook, we will be testing this model by first deploying it and then sending the testing data to the deployed endpoint. We will do this so that we can make sure that the deployed model is working correctly.\n",
    "\n",
    "## Step 6: Deploy the model for testing\n",
    "\n",
    "Now that we have trained our model, we would like to test it to see how it performs. Currently our model takes input of the form `review_length, review[500]` where `review[500]` is a sequence of `500` integers which describe the words present in the review, encoded using `word_dict`. Fortunately for us, SageMaker provides built-in inference code for models with simple inputs such as this.\n",
    "\n",
    "There is one thing that we need to provide, however, and that is a function which loads the saved model. This function must be called `model_fn()` and takes as its only parameter a path to the directory where the model artifacts are stored. This function must also be present in the python file which we specified as the entry point. In our case the model loading function has been provided and so no changes need to be made.\n",
    "\n",
    "**NOTE**: When the built-in inference code is run it must import the `model_fn()` method from the `train.py` file. This is why the training code is wrapped in a main guard ( ie, `if __name__ == '__main__':` )\n",
    "\n",
    "Since we don't need to change anything in the code that was uploaded during training, we can simply deploy the current model as-is.\n",
    "\n",
    "**NOTE:** When deploying a model you are asking SageMaker to launch an compute instance that will wait for data to be sent to it. As a result, this compute instance will continue to run until *you* shut it down. This is important to know since the cost of a deployed endpoint depends on how long it has been running for.\n",
    "\n",
    "In other words **If you are no longer using a deployed endpoint, shut it down!**\n",
    "\n",
    "**TODO:** Deploy the trained model."
   ]
  },
  {
   "cell_type": "code",
   "execution_count": 46,
   "metadata": {},
   "outputs": [
    {
     "name": "stdout",
     "output_type": "stream",
     "text": [
      "---------------!"
     ]
    }
   ],
   "source": [
    "# TODO: Deploy the trained model\n",
    "predictor = estimator.deploy(initial_instance_count=1, instance_type='ml.m4.xlarge')"
   ]
  },
  {
   "cell_type": "markdown",
   "metadata": {},
   "source": [
    "## Step 7 - Use the model for testing\n",
    "\n",
    "Once deployed, we can read in the test data and send it off to our deployed model to get some results. Once we collect all of the results we can determine how accurate our model is."
   ]
  },
  {
   "cell_type": "code",
   "execution_count": 47,
   "metadata": {},
   "outputs": [],
   "source": [
    "test_X = pd.concat([pd.DataFrame(test_X_len), pd.DataFrame(test_X)], axis=1)\n"
   ]
  },
  {
   "cell_type": "code",
   "execution_count": 48,
   "metadata": {},
   "outputs": [],
   "source": [
    "# We split the data into chunks and send each chunk seperately, accumulating the results.\n",
    "\n",
    "def predict(data, rows=512):\n",
    "    split_array = np.array_split(data, int(data.shape[0] / float(rows) + 1))\n",
    "    predictions = np.array([])\n",
    "    for array in split_array:\n",
    "        predictions = np.append(predictions, predictor.predict(array))\n",
    "    \n",
    "    return predictions"
   ]
  },
  {
   "cell_type": "code",
   "execution_count": 49,
   "metadata": {},
   "outputs": [],
   "source": [
    "predictions = predict(test_X.values)\n",
    "predictions = [round(num) for num in predictions]"
   ]
  },
  {
   "cell_type": "code",
   "execution_count": 50,
   "metadata": {},
   "outputs": [
    {
     "data": {
      "text/plain": [
       "0.84788"
      ]
     },
     "execution_count": 50,
     "metadata": {},
     "output_type": "execute_result"
    }
   ],
   "source": [
    "from sklearn.metrics import accuracy_score\n",
    "accuracy_score(test_y, predictions)"
   ]
  },
  {
   "cell_type": "markdown",
   "metadata": {},
   "source": [
    "**Question:** How does this model compare to the XGBoost model you created earlier? Why might these two models perform differently on this dataset? Which do *you* think is better for sentiment analysis?"
   ]
  },
  {
   "cell_type": "markdown",
   "metadata": {},
   "source": [
    "**Answer:** The output of both the models is comparable with close prediction scores .\n",
    "            I think this model performs better compared to prior XGBoost model because the time spent in traing is less for this model as we used only a smaller set of data. In general LSTM performs better than XGBoost model given its advanced structure\n",
    "    "
   ]
  },
  {
   "cell_type": "markdown",
   "metadata": {},
   "source": [
    "### (TODO) More testing\n",
    "\n",
    "We now have a trained model which has been deployed and which we can send processed reviews to and which returns the predicted sentiment. However, ultimately we would like to be able to send our model an unprocessed review. That is, we would like to send the review itself as a string. For example, suppose we wish to send the following review to our model."
   ]
  },
  {
   "cell_type": "code",
   "execution_count": 51,
   "metadata": {},
   "outputs": [],
   "source": [
    "test_review = 'The simplest pleasures in life are the best, and this film is one of them. Combining a rather basic storyline of love and adventure this movie transcends the usual weekend fair with wit and unmitigated charm.'"
   ]
  },
  {
   "cell_type": "markdown",
   "metadata": {},
   "source": [
    "The question we now need to answer is, how do we send this review to our model?\n",
    "\n",
    "Recall in the first section of this notebook we did a bunch of data processing to the IMDb dataset. In particular, we did two specific things to the provided reviews.\n",
    " - Removed any html tags and stemmed the input\n",
    " - Encoded the review as a sequence of integers using `word_dict`\n",
    " \n",
    "In order process the review we will need to repeat these two steps.\n",
    "\n",
    "**TODO**: Using the `review_to_words` and `convert_and_pad` methods from section one, convert `test_review` into a numpy array `test_data` suitable to send to our model. Remember that our model expects input of the form `review_length, review[500]`."
   ]
  },
  {
   "cell_type": "code",
   "execution_count": 52,
   "metadata": {},
   "outputs": [],
   "source": [
    "# TODO: Convert test_review into a form usable by the model and save the results in test_data\n",
    "test_data = review_to_words(test_review)\n",
    "test_data = [np.asarray(convert_and_pad(word_dict, test_data)[0])] ##[0] to convert the sentence  to numpy array, [1] refers to length \n"
   ]
  },
  {
   "cell_type": "markdown",
   "metadata": {},
   "source": [
    "Now that we have processed the review, we can send the resulting array to our model to predict the sentiment of the review."
   ]
  },
  {
   "cell_type": "code",
   "execution_count": 53,
   "metadata": {},
   "outputs": [
    {
     "data": {
      "text/plain": [
       "array(0.56266445, dtype=float32)"
      ]
     },
     "execution_count": 53,
     "metadata": {},
     "output_type": "execute_result"
    }
   ],
   "source": [
    "predictor.predict(test_data)"
   ]
  },
  {
   "cell_type": "markdown",
   "metadata": {},
   "source": [
    "Since the return value of our model is close to `1`, we can be certain that the review we submitted is positive."
   ]
  },
  {
   "cell_type": "markdown",
   "metadata": {},
   "source": [
    "### Delete the endpoint\n",
    "\n",
    "Of course, just like in the XGBoost notebook, once we've deployed an endpoint it continues to run until we tell it to shut down. Since we are done using our endpoint for now, we can delete it."
   ]
  },
  {
   "cell_type": "code",
   "execution_count": 54,
   "metadata": {},
   "outputs": [],
   "source": [
    "estimator.delete_endpoint()"
   ]
  },
  {
   "cell_type": "markdown",
   "metadata": {},
   "source": [
    "## Step 6 (again) - Deploy the model for the web app\n",
    "\n",
    "Now that we know that our model is working, it's time to create some custom inference code so that we can send the model a review which has not been processed and have it determine the sentiment of the review.\n",
    "\n",
    "As we saw above, by default the estimator which we created, when deployed, will use the entry script and directory which we provided when creating the model. However, since we now wish to accept a string as input and our model expects a processed review, we need to write some custom inference code.\n",
    "\n",
    "We will store the code that we write in the `serve` directory. Provided in this directory is the `model.py` file that we used to construct our model, a `utils.py` file which contains the `review_to_words` and `convert_and_pad` pre-processing functions which we used during the initial data processing, and `predict.py`, the file which will contain our custom inference code. Note also that `requirements.txt` is present which will tell SageMaker what Python libraries are required by our custom inference code.\n",
    "\n",
    "When deploying a PyTorch model in SageMaker, you are expected to provide four functions which the SageMaker inference container will use.\n",
    " - `model_fn`: This function is the same function that we used in the training script and it tells SageMaker how to load our model.\n",
    " - `input_fn`: This function receives the raw serialized input that has been sent to the model's endpoint and its job is to de-serialize and make the input available for the inference code.\n",
    " - `output_fn`: This function takes the output of the inference code and its job is to serialize this output and return it to the caller of the model's endpoint.\n",
    " - `predict_fn`: The heart of the inference script, this is where the actual prediction is done and is the function which you will need to complete.\n",
    "\n",
    "For the simple website that we are constructing during this project, the `input_fn` and `output_fn` methods are relatively straightforward. We only require being able to accept a string as input and we expect to return a single value as output. You might imagine though that in a more complex application the input or output may be image data or some other binary data which would require some effort to serialize.\n",
    "\n",
    "### (TODO) Writing inference code\n",
    "\n",
    "Before writing our custom inference code, we will begin by taking a look at the code which has been provided."
   ]
  },
  {
   "cell_type": "code",
   "execution_count": 55,
   "metadata": {},
   "outputs": [
    {
     "name": "stdout",
     "output_type": "stream",
     "text": [
      "\u001b[34mimport\u001b[39;49;00m \u001b[04m\u001b[36margparse\u001b[39;49;00m\r\n",
      "\u001b[34mimport\u001b[39;49;00m \u001b[04m\u001b[36mjson\u001b[39;49;00m\r\n",
      "\u001b[34mimport\u001b[39;49;00m \u001b[04m\u001b[36mos\u001b[39;49;00m\r\n",
      "\u001b[34mimport\u001b[39;49;00m \u001b[04m\u001b[36mpickle\u001b[39;49;00m\r\n",
      "\u001b[34mimport\u001b[39;49;00m \u001b[04m\u001b[36msys\u001b[39;49;00m\r\n",
      "\u001b[34mimport\u001b[39;49;00m \u001b[04m\u001b[36msagemaker_containers\u001b[39;49;00m\r\n",
      "\u001b[34mimport\u001b[39;49;00m \u001b[04m\u001b[36mpandas\u001b[39;49;00m \u001b[34mas\u001b[39;49;00m \u001b[04m\u001b[36mpd\u001b[39;49;00m\r\n",
      "\u001b[34mimport\u001b[39;49;00m \u001b[04m\u001b[36mnumpy\u001b[39;49;00m \u001b[34mas\u001b[39;49;00m \u001b[04m\u001b[36mnp\u001b[39;49;00m\r\n",
      "\u001b[34mimport\u001b[39;49;00m \u001b[04m\u001b[36mtorch\u001b[39;49;00m\r\n",
      "\u001b[34mimport\u001b[39;49;00m \u001b[04m\u001b[36mtorch\u001b[39;49;00m\u001b[04m\u001b[36m.\u001b[39;49;00m\u001b[04m\u001b[36mnn\u001b[39;49;00m \u001b[34mas\u001b[39;49;00m \u001b[04m\u001b[36mnn\u001b[39;49;00m\r\n",
      "\u001b[34mimport\u001b[39;49;00m \u001b[04m\u001b[36mtorch\u001b[39;49;00m\u001b[04m\u001b[36m.\u001b[39;49;00m\u001b[04m\u001b[36moptim\u001b[39;49;00m \u001b[34mas\u001b[39;49;00m \u001b[04m\u001b[36moptim\u001b[39;49;00m\r\n",
      "\u001b[34mimport\u001b[39;49;00m \u001b[04m\u001b[36mtorch\u001b[39;49;00m\u001b[04m\u001b[36m.\u001b[39;49;00m\u001b[04m\u001b[36mutils\u001b[39;49;00m\u001b[04m\u001b[36m.\u001b[39;49;00m\u001b[04m\u001b[36mdata\u001b[39;49;00m\r\n",
      "\r\n",
      "\u001b[34mfrom\u001b[39;49;00m \u001b[04m\u001b[36mmodel\u001b[39;49;00m \u001b[34mimport\u001b[39;49;00m LSTMClassifier\r\n",
      "\r\n",
      "\u001b[34mfrom\u001b[39;49;00m \u001b[04m\u001b[36mutils\u001b[39;49;00m \u001b[34mimport\u001b[39;49;00m review_to_words, convert_and_pad\r\n",
      "\r\n",
      "\u001b[34mdef\u001b[39;49;00m \u001b[32mmodel_fn\u001b[39;49;00m(model_dir):\r\n",
      "    \u001b[33m\"\"\"Load the PyTorch model from the `model_dir` directory.\"\"\"\u001b[39;49;00m\r\n",
      "    \u001b[36mprint\u001b[39;49;00m(\u001b[33m\"\u001b[39;49;00m\u001b[33mLoading model.\u001b[39;49;00m\u001b[33m\"\u001b[39;49;00m)\r\n",
      "\r\n",
      "    \u001b[37m# First, load the parameters used to create the model.\u001b[39;49;00m\r\n",
      "    model_info = {}\r\n",
      "    model_info_path = os.path.join(model_dir, \u001b[33m'\u001b[39;49;00m\u001b[33mmodel_info.pth\u001b[39;49;00m\u001b[33m'\u001b[39;49;00m)\r\n",
      "    \u001b[34mwith\u001b[39;49;00m \u001b[36mopen\u001b[39;49;00m(model_info_path, \u001b[33m'\u001b[39;49;00m\u001b[33mrb\u001b[39;49;00m\u001b[33m'\u001b[39;49;00m) \u001b[34mas\u001b[39;49;00m f:\r\n",
      "        model_info = torch.load(f)\r\n",
      "\r\n",
      "    \u001b[36mprint\u001b[39;49;00m(\u001b[33m\"\u001b[39;49;00m\u001b[33mmodel_info: \u001b[39;49;00m\u001b[33m{}\u001b[39;49;00m\u001b[33m\"\u001b[39;49;00m.format(model_info))\r\n",
      "\r\n",
      "    \u001b[37m# Determine the device and construct the model.\u001b[39;49;00m\r\n",
      "    device = torch.device(\u001b[33m\"\u001b[39;49;00m\u001b[33mcuda\u001b[39;49;00m\u001b[33m\"\u001b[39;49;00m \u001b[34mif\u001b[39;49;00m torch.cuda.is_available() \u001b[34melse\u001b[39;49;00m \u001b[33m\"\u001b[39;49;00m\u001b[33mcpu\u001b[39;49;00m\u001b[33m\"\u001b[39;49;00m)\r\n",
      "    model = LSTMClassifier(model_info[\u001b[33m'\u001b[39;49;00m\u001b[33membedding_dim\u001b[39;49;00m\u001b[33m'\u001b[39;49;00m], model_info[\u001b[33m'\u001b[39;49;00m\u001b[33mhidden_dim\u001b[39;49;00m\u001b[33m'\u001b[39;49;00m], model_info[\u001b[33m'\u001b[39;49;00m\u001b[33mvocab_size\u001b[39;49;00m\u001b[33m'\u001b[39;49;00m])\r\n",
      "\r\n",
      "    \u001b[37m# Load the store model parameters.\u001b[39;49;00m\r\n",
      "    model_path = os.path.join(model_dir, \u001b[33m'\u001b[39;49;00m\u001b[33mmodel.pth\u001b[39;49;00m\u001b[33m'\u001b[39;49;00m)\r\n",
      "    \u001b[34mwith\u001b[39;49;00m \u001b[36mopen\u001b[39;49;00m(model_path, \u001b[33m'\u001b[39;49;00m\u001b[33mrb\u001b[39;49;00m\u001b[33m'\u001b[39;49;00m) \u001b[34mas\u001b[39;49;00m f:\r\n",
      "        model.load_state_dict(torch.load(f))\r\n",
      "\r\n",
      "    \u001b[37m# Load the saved word_dict.\u001b[39;49;00m\r\n",
      "    word_dict_path = os.path.join(model_dir, \u001b[33m'\u001b[39;49;00m\u001b[33mword_dict.pkl\u001b[39;49;00m\u001b[33m'\u001b[39;49;00m)\r\n",
      "    \u001b[34mwith\u001b[39;49;00m \u001b[36mopen\u001b[39;49;00m(word_dict_path, \u001b[33m'\u001b[39;49;00m\u001b[33mrb\u001b[39;49;00m\u001b[33m'\u001b[39;49;00m) \u001b[34mas\u001b[39;49;00m f:\r\n",
      "        model.word_dict = pickle.load(f)\r\n",
      "\r\n",
      "    model.to(device).eval()\r\n",
      "\r\n",
      "    \u001b[36mprint\u001b[39;49;00m(\u001b[33m\"\u001b[39;49;00m\u001b[33mDone loading model.\u001b[39;49;00m\u001b[33m\"\u001b[39;49;00m)\r\n",
      "    \u001b[34mreturn\u001b[39;49;00m model\r\n",
      "\r\n",
      "\u001b[34mdef\u001b[39;49;00m \u001b[32minput_fn\u001b[39;49;00m(serialized_input_data, content_type):\r\n",
      "    \u001b[36mprint\u001b[39;49;00m(\u001b[33m'\u001b[39;49;00m\u001b[33mDeserializing the input data.\u001b[39;49;00m\u001b[33m'\u001b[39;49;00m)\r\n",
      "    \u001b[34mif\u001b[39;49;00m content_type == \u001b[33m'\u001b[39;49;00m\u001b[33mtext/plain\u001b[39;49;00m\u001b[33m'\u001b[39;49;00m:\r\n",
      "        data = serialized_input_data.decode(\u001b[33m'\u001b[39;49;00m\u001b[33mutf-8\u001b[39;49;00m\u001b[33m'\u001b[39;49;00m)\r\n",
      "        \u001b[34mreturn\u001b[39;49;00m data\r\n",
      "    \u001b[34mraise\u001b[39;49;00m \u001b[36mException\u001b[39;49;00m(\u001b[33m'\u001b[39;49;00m\u001b[33mRequested unsupported ContentType in content_type: \u001b[39;49;00m\u001b[33m'\u001b[39;49;00m + content_type)\r\n",
      "\r\n",
      "\u001b[34mdef\u001b[39;49;00m \u001b[32moutput_fn\u001b[39;49;00m(prediction_output, accept):\r\n",
      "    \u001b[36mprint\u001b[39;49;00m(\u001b[33m'\u001b[39;49;00m\u001b[33mSerializing the generated output.\u001b[39;49;00m\u001b[33m'\u001b[39;49;00m)\r\n",
      "    \u001b[34mreturn\u001b[39;49;00m \u001b[36mstr\u001b[39;49;00m(prediction_output)\r\n",
      "\r\n",
      "\u001b[34mdef\u001b[39;49;00m \u001b[32mpredict_fn\u001b[39;49;00m(input_data, model):\r\n",
      "    \u001b[36mprint\u001b[39;49;00m(\u001b[33m'\u001b[39;49;00m\u001b[33mInferring sentiment of input data.\u001b[39;49;00m\u001b[33m'\u001b[39;49;00m)\r\n",
      "\r\n",
      "    device = torch.device(\u001b[33m\"\u001b[39;49;00m\u001b[33mcuda\u001b[39;49;00m\u001b[33m\"\u001b[39;49;00m \u001b[34mif\u001b[39;49;00m torch.cuda.is_available() \u001b[34melse\u001b[39;49;00m \u001b[33m\"\u001b[39;49;00m\u001b[33mcpu\u001b[39;49;00m\u001b[33m\"\u001b[39;49;00m)\r\n",
      "    \r\n",
      "    \u001b[34mif\u001b[39;49;00m model.word_dict \u001b[35mis\u001b[39;49;00m \u001b[34mNone\u001b[39;49;00m:\r\n",
      "        \u001b[34mraise\u001b[39;49;00m \u001b[36mException\u001b[39;49;00m(\u001b[33m'\u001b[39;49;00m\u001b[33mModel has not been loaded properly, no word_dict.\u001b[39;49;00m\u001b[33m'\u001b[39;49;00m)\r\n",
      "    \r\n",
      "    \u001b[37m# TODO: Process input_data so that it is ready to be sent to our model.\u001b[39;49;00m\r\n",
      "    \u001b[37m#       You should produce two variables:\u001b[39;49;00m\r\n",
      "    \u001b[37m#         data_X   - A sequence of length 500 which represents the converted review\u001b[39;49;00m\r\n",
      "    \u001b[37m#         data_len - The length of the review\u001b[39;49;00m\r\n",
      "    \r\n",
      "    words = review_to_words(input_data)\r\n",
      "    data_X,data_len = convert_and_pad(model.word_dict, words)\r\n",
      "     \r\n",
      "    \r\n",
      "    \u001b[37m# Using data_X and data_len we construct an appropriate input tensor. Remember\u001b[39;49;00m\r\n",
      "    \u001b[37m# that our model expects input data of the form 'len, review[500]'.\u001b[39;49;00m\r\n",
      "    data_pack = np.hstack((data_len, data_X))\r\n",
      "    data_pack = data_pack.reshape(\u001b[34m1\u001b[39;49;00m, -\u001b[34m1\u001b[39;49;00m)\r\n",
      "    \r\n",
      "    data = torch.from_numpy(data_pack)\r\n",
      "    data = data.to(device)\r\n",
      "\r\n",
      "    \u001b[37m# Make sure to put the model into evaluation mode\u001b[39;49;00m\r\n",
      "    model.eval()\r\n",
      "\r\n",
      "    \u001b[37m# TODO: Compute the result of applying the model to the input data. The variable `result` should\u001b[39;49;00m\r\n",
      "    \u001b[37m#       be a numpy array which contains a single integer which is either 1 or 0\u001b[39;49;00m\r\n",
      "    \r\n",
      "    output = model.forward(data)\r\n",
      "        \r\n",
      "    result = np.round(output.detach().numpy()) \u001b[37m# convert the output to numpy andround it to nearest integer\u001b[39;49;00m\r\n",
      "\r\n",
      "    \u001b[34mreturn\u001b[39;49;00m result\r\n"
     ]
    }
   ],
   "source": [
    "!pygmentize serve/predict.py"
   ]
  },
  {
   "cell_type": "markdown",
   "metadata": {},
   "source": [
    "As mentioned earlier, the `model_fn` method is the same as the one provided in the training code and the `input_fn` and `output_fn` methods are very simple and your task will be to complete the `predict_fn` method. Make sure that you save the completed file as `predict.py` in the `serve` directory.\n",
    "\n",
    "**TODO**: Complete the `predict_fn()` method in the `serve/predict.py` file."
   ]
  },
  {
   "cell_type": "markdown",
   "metadata": {},
   "source": [
    "### Deploying the model\n",
    "\n",
    "Now that the custom inference code has been written, we will create and deploy our model. To begin with, we need to construct a new PyTorchModel object which points to the model artifacts created during training and also points to the inference code that we wish to use. Then we can call the deploy method to launch the deployment container.\n",
    "\n",
    "**NOTE**: The default behaviour for a deployed PyTorch model is to assume that any input passed to the predictor is a `numpy` array. In our case we want to send a string so we need to construct a simple wrapper around the `RealTimePredictor` class to accomodate simple strings. In a more complicated situation you may want to provide a serialization object, for example if you wanted to sent image data."
   ]
  },
  {
   "cell_type": "code",
   "execution_count": 56,
   "metadata": {},
   "outputs": [
    {
     "name": "stdout",
     "output_type": "stream",
     "text": [
      "---------------!"
     ]
    }
   ],
   "source": [
    "from sagemaker.predictor import RealTimePredictor\n",
    "from sagemaker.pytorch import PyTorchModel\n",
    "\n",
    "class StringPredictor(RealTimePredictor):\n",
    "    def __init__(self, endpoint_name, sagemaker_session):\n",
    "        super(StringPredictor, self).__init__(endpoint_name, sagemaker_session, content_type='text/plain')\n",
    "\n",
    "model = PyTorchModel(model_data=estimator.model_data,\n",
    "                     role = role,\n",
    "                     framework_version='0.4.0',\n",
    "                     entry_point='predict.py',\n",
    "                     source_dir='serve',\n",
    "                     predictor_cls=StringPredictor)\n",
    "predictor = model.deploy(initial_instance_count=1, instance_type='ml.m4.xlarge')"
   ]
  },
  {
   "cell_type": "markdown",
   "metadata": {},
   "source": [
    "### Testing the model\n",
    "\n",
    "Now that we have deployed our model with the custom inference code, we should test to see if everything is working. Here we test our model by loading the first `250` positive and negative reviews and send them to the endpoint, then collect the results. The reason for only sending some of the data is that the amount of time it takes for our model to process the input and then perform inference is quite long and so testing the entire data set would be prohibitive."
   ]
  },
  {
   "cell_type": "code",
   "execution_count": 57,
   "metadata": {},
   "outputs": [],
   "source": [
    "import glob\n",
    "\n",
    "def test_reviews(data_dir='../data/aclImdb', stop=250):\n",
    "    \n",
    "    results = []\n",
    "    ground = []\n",
    "    \n",
    "    # We make sure to test both positive and negative reviews    \n",
    "    for sentiment in ['pos', 'neg']:\n",
    "        \n",
    "        path = os.path.join(data_dir, 'test', sentiment, '*.txt')\n",
    "        files = glob.glob(path)\n",
    "        \n",
    "        files_read = 0\n",
    "        \n",
    "        print('Starting ', sentiment, ' files')\n",
    "        \n",
    "        # Iterate through the files and send them to the predictor\n",
    "        for f in files:\n",
    "            with open(f) as review:\n",
    "                # First, we store the ground truth (was the review positive or negative)\n",
    "                if sentiment == 'pos':\n",
    "                    ground.append(1)\n",
    "                else:\n",
    "                    ground.append(0)\n",
    "                # Read in the review and convert to 'utf-8' for transmission via HTTP\n",
    "                review_input = review.read().encode('utf-8')\n",
    "                # Send the review to the predictor and store the results\n",
    "                results.append(float(predictor.predict(review_input)))  ## changed int to float due to value error\n",
    "                \n",
    "            # Sending reviews to our endpoint one at a time takes a while so we\n",
    "            # only send a small number of reviews\n",
    "            files_read += 1\n",
    "            if files_read == stop:\n",
    "                break\n",
    "            \n",
    "    return ground, results"
   ]
  },
  {
   "cell_type": "code",
   "execution_count": 58,
   "metadata": {},
   "outputs": [
    {
     "name": "stdout",
     "output_type": "stream",
     "text": [
      "Starting  pos  files\n",
      "Starting  neg  files\n"
     ]
    }
   ],
   "source": [
    "ground, results = test_reviews()"
   ]
  },
  {
   "cell_type": "code",
   "execution_count": 59,
   "metadata": {},
   "outputs": [
    {
     "data": {
      "text/plain": [
       "0.856"
      ]
     },
     "execution_count": 59,
     "metadata": {},
     "output_type": "execute_result"
    }
   ],
   "source": [
    "from sklearn.metrics import accuracy_score\n",
    "accuracy_score(ground, results)"
   ]
  },
  {
   "cell_type": "markdown",
   "metadata": {},
   "source": [
    "As an additional test, we can try sending the `test_review` that we looked at earlier."
   ]
  },
  {
   "cell_type": "code",
   "execution_count": 60,
   "metadata": {},
   "outputs": [
    {
     "data": {
      "text/plain": [
       "b'1.0'"
      ]
     },
     "execution_count": 60,
     "metadata": {},
     "output_type": "execute_result"
    }
   ],
   "source": [
    "predictor.predict(test_review)"
   ]
  },
  {
   "cell_type": "markdown",
   "metadata": {},
   "source": [
    "Now that we know our endpoint is working as expected, we can set up the web page that will interact with it. If you don't have time to finish the project now, make sure to skip down to the end of this notebook and shut down your endpoint. You can deploy it again when you come back."
   ]
  },
  {
   "cell_type": "markdown",
   "metadata": {},
   "source": [
    "## Step 7 (again): Use the model for the web app\n",
    "\n",
    "> **TODO:** This entire section and the next contain tasks for you to complete, mostly using the AWS console.\n",
    "\n",
    "So far we have been accessing our model endpoint by constructing a predictor object which uses the endpoint and then just using the predictor object to perform inference. What if we wanted to create a web app which accessed our model? The way things are set up currently makes that not possible since in order to access a SageMaker endpoint the app would first have to authenticate with AWS using an IAM role which included access to SageMaker endpoints. However, there is an easier way! We just need to use some additional AWS services.\n",
    "\n",
    "<img src=\"Web App Diagram.svg\">\n",
    "\n",
    "The diagram above gives an overview of how the various services will work together. On the far right is the model which we trained above and which is deployed using SageMaker. On the far left is our web app that collects a user's movie review, sends it off and expects a positive or negative sentiment in return.\n",
    "\n",
    "In the middle is where some of the magic happens. We will construct a Lambda function, which you can think of as a straightforward Python function that can be executed whenever a specified event occurs. We will give this function permission to send and recieve data from a SageMaker endpoint.\n",
    "\n",
    "Lastly, the method we will use to execute the Lambda function is a new endpoint that we will create using API Gateway. This endpoint will be a url that listens for data to be sent to it. Once it gets some data it will pass that data on to the Lambda function and then return whatever the Lambda function returns. Essentially it will act as an interface that lets our web app communicate with the Lambda function.\n",
    "\n",
    "### Setting up a Lambda function\n",
    "\n",
    "The first thing we are going to do is set up a Lambda function. This Lambda function will be executed whenever our public API has data sent to it. When it is executed it will receive the data, perform any sort of processing that is required, send the data (the review) to the SageMaker endpoint we've created and then return the result.\n",
    "\n",
    "#### Part A: Create an IAM Role for the Lambda function\n",
    "\n",
    "Since we want the Lambda function to call a SageMaker endpoint, we need to make sure that it has permission to do so. To do this, we will construct a role that we can later give the Lambda function.\n",
    "\n",
    "Using the AWS Console, navigate to the **IAM** page and click on **Roles**. Then, click on **Create role**. Make sure that the **AWS service** is the type of trusted entity selected and choose **Lambda** as the service that will use this role, then click **Next: Permissions**.\n",
    "\n",
    "In the search box type `sagemaker` and select the check box next to the **AmazonSageMakerFullAccess** policy. Then, click on **Next: Review**.\n",
    "\n",
    "Lastly, give this role a name. Make sure you use a name that you will remember later on, for example `LambdaSageMakerRole`. Then, click on **Create role**.\n",
    "\n",
    "#### Part B: Create a Lambda function\n",
    "\n",
    "Now it is time to actually create the Lambda function.\n",
    "\n",
    "Using the AWS Console, navigate to the AWS Lambda page and click on **Create a function**. When you get to the next page, make sure that **Author from scratch** is selected. Now, name your Lambda function, using a name that you will remember later on, for example `sentiment_analysis_func`. Make sure that the **Python 3.6** runtime is selected and then choose the role that you created in the previous part. Then, click on **Create Function**.\n",
    "\n",
    "On the next page you will see some information about the Lambda function you've just created. If you scroll down you should see an editor in which you can write the code that will be executed when your Lambda function is triggered. In our example, we will use the code below. \n",
    "\n",
    "```python\n",
    "# We need to use the low-level library to interact with SageMaker since the SageMaker API\n",
    "# is not available natively through Lambda.\n",
    "import boto3\n",
    "\n",
    "def lambda_handler(event, context):\n",
    "\n",
    "    # The SageMaker runtime is what allows us to invoke the endpoint that we've created.\n",
    "    runtime = boto3.Session().client('sagemaker-runtime')\n",
    "\n",
    "    # Now we use the SageMaker runtime to invoke our endpoint, sending the review we were given\n",
    "    response = runtime.invoke_endpoint(EndpointName = '**ENDPOINT NAME HERE**',    # The name of the endpoint we created\n",
    "                                       ContentType = 'text/plain',                 # The data format that is expected\n",
    "                                       Body = event['body'])                       # The actual review\n",
    "\n",
    "    # The response is an HTTP response whose body contains the result of our inference\n",
    "    result = response['Body'].read().decode('utf-8')\n",
    "\n",
    "    return {\n",
    "        'statusCode' : 200,\n",
    "        'headers' : { 'Content-Type' : 'text/plain', 'Access-Control-Allow-Origin' : '*' },\n",
    "        'body' : result\n",
    "    }\n",
    "```\n",
    "\n",
    "Once you have copy and pasted the code above into the Lambda code editor, replace the `**ENDPOINT NAME HERE**` portion with the name of the endpoint that we deployed earlier. You can determine the name of the endpoint using the code cell below."
   ]
  },
  {
   "cell_type": "code",
   "execution_count": 61,
   "metadata": {},
   "outputs": [
    {
     "data": {
      "text/plain": [
       "'sagemaker-pytorch-2020-05-19-13-51-03-293'"
      ]
     },
     "execution_count": 61,
     "metadata": {},
     "output_type": "execute_result"
    }
   ],
   "source": [
    "predictor.endpoint"
   ]
  },
  {
   "cell_type": "markdown",
   "metadata": {},
   "source": [
    "Once you have added the endpoint name to the Lambda function, click on **Save**. Your Lambda function is now up and running. Next we need to create a way for our web app to execute the Lambda function.\n",
    "\n",
    "### Setting up API Gateway\n",
    "\n",
    "Now that our Lambda function is set up, it is time to create a new API using API Gateway that will trigger the Lambda function we have just created.\n",
    "\n",
    "Using AWS Console, navigate to **Amazon API Gateway** and then click on **Get started**.\n",
    "\n",
    "On the next page, make sure that **New API** is selected and give the new api a name, for example, `sentiment_analysis_api`. Then, click on **Create API**.\n",
    "\n",
    "Now we have created an API, however it doesn't currently do anything. What we want it to do is to trigger the Lambda function that we created earlier.\n",
    "\n",
    "Select the **Actions** dropdown menu and click **Create Method**. A new blank method will be created, select its dropdown menu and select **POST**, then click on the check mark beside it.\n",
    "\n",
    "For the integration point, make sure that **Lambda Function** is selected and click on the **Use Lambda Proxy integration**. This option makes sure that the data that is sent to the API is then sent directly to the Lambda function with no processing. It also means that the return value must be a proper response object as it will also not be processed by API Gateway.\n",
    "\n",
    "Type the name of the Lambda function you created earlier into the **Lambda Function** text entry box and then click on **Save**. Click on **OK** in the pop-up box that then appears, giving permission to API Gateway to invoke the Lambda function you created.\n",
    "\n",
    "The last step in creating the API Gateway is to select the **Actions** dropdown and click on **Deploy API**. You will need to create a new Deployment stage and name it anything you like, for example `prod`.\n",
    "\n",
    "You have now successfully set up a public API to access your SageMaker model. Make sure to copy or write down the URL provided to invoke your newly created public API as this will be needed in the next step. This URL can be found at the top of the page, highlighted in blue next to the text **Invoke URL**."
   ]
  },
  {
   "cell_type": "markdown",
   "metadata": {},
   "source": [
    "## Step 4: Deploying our web app\n",
    "\n",
    "Now that we have a publicly available API, we can start using it in a web app. For our purposes, we have provided a simple static html file which can make use of the public api you created earlier.\n",
    "\n",
    "In the `website` folder there should be a file called `index.html`. Download the file to your computer and open that file up in a text editor of your choice. There should be a line which contains **\\*\\*REPLACE WITH PUBLIC API URL\\*\\***. Replace this string with the url that you wrote down in the last step and then save the file.\n",
    "\n",
    "Now, if you open `index.html` on your local computer, your browser will behave as a local web server and you can use the provided site to interact with your SageMaker model.\n",
    "\n",
    "If you'd like to go further, you can host this html file anywhere you'd like, for example using github or hosting a static site on Amazon's S3. Once you have done this you can share the link with anyone you'd like and have them play with it too!\n",
    "\n",
    "> **Important Note** In order for the web app to communicate with the SageMaker endpoint, the endpoint has to actually be deployed and running. This means that you are paying for it. Make sure that the endpoint is running when you want to use the web app but that you shut it down when you don't need it, otherwise you will end up with a surprisingly large AWS bill.\n",
    "\n",
    "**TODO:** Make sure that you include the edited `index.html` file in your project submission."
   ]
  },
  {
   "cell_type": "markdown",
   "metadata": {},
   "source": [
    "Now that your web app is working, trying playing around with it and see how well it works.\n",
    "\n",
    "**Question**: Give an example of a review that you entered into your web app. What was the predicted sentiment of your example review?"
   ]
  },
  {
   "cell_type": "markdown",
   "metadata": {},
   "source": [
    "**Answer:** This is a review which i picked from the Guardian for the movie 'The Terminal'\n",
    "\n",
    "Tom Hanks is almost unwatchable as a kind of lovable Forrest Gumpski with a Ryussh-yun ick-syent who's just bumbled into JFK from the fictional eastern European state of Krakozhia. (As if this invented country were not sufficiently irritating and condescending, nobody's bothered to make up a capital city for it; according to the departure board, flights apparently go to and from \"Krakozhia\".)\n",
    "\n",
    "A coup back home has made him technically stateless, so hard-ass immigration officer Frank Dixon (Stanley Tucci), allows Hanks to live indefinitely in the arrivals hall, whose many retail units give Spielberg the opportunity for a riot of brand-name placements - even more than in Minority Report. Are they paying for these plugs? Or does Spielberg, that master of public-pleasing, figure that these brand names induce a happy, familiar shopper-daze in the cinema auditorium?\n",
    "\n",
    "Anyway, Hanks becomes improbably adored by all the people who work there, and naturally begins a sweet relationship with a lonely flight attendant played by Catherine Zeta-Jones, who in a scene of harrowing honesty and courage confesses she is, gasp, 39 years old. (Zeta-Jones is 34.)\n",
    "\n",
    "A parade of sugar-rush, feelgood moments and empty, euphoric climaxes orchestrated with a masterly technical touch.\n",
    "\n",
    "   The sentiment of the review by the deployed model is positive"
   ]
  },
  {
   "cell_type": "markdown",
   "metadata": {},
   "source": [
    "### Delete the endpoint\n",
    "\n",
    "Remember to always shut down your endpoint if you are no longer using it. You are charged for the length of time that the endpoint is running so if you forget and leave it on you could end up with an unexpectedly large bill."
   ]
  },
  {
   "cell_type": "code",
   "execution_count": null,
   "metadata": {},
   "outputs": [],
   "source": [
    "predictor.delete_endpoint()"
   ]
  },
  {
   "cell_type": "code",
   "execution_count": null,
   "metadata": {},
   "outputs": [],
   "source": []
  }
 ],
 "metadata": {
  "kernelspec": {
   "display_name": "conda_pytorch_p36",
   "language": "python",
   "name": "conda_pytorch_p36"
  },
  "language_info": {
   "codemirror_mode": {
    "name": "ipython",
    "version": 3
   },
   "file_extension": ".py",
   "mimetype": "text/x-python",
   "name": "python",
   "nbconvert_exporter": "python",
   "pygments_lexer": "ipython3",
   "version": "3.6.10"
  }
 },
 "nbformat": 4,
 "nbformat_minor": 2
}
